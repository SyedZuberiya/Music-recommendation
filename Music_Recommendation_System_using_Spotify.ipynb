{
  "nbformat": 4,
  "nbformat_minor": 0,
  "metadata": {
    "colab": {
      "provenance": []
    },
    "kernelspec": {
      "name": "python3",
      "display_name": "Python 3"
    },
    "language_info": {
      "name": "python"
    }
  },
  "cells": [
    {
      "cell_type": "code",
      "execution_count": 1,
      "metadata": {
        "id": "Eo_pRMdkt0yO"
      },
      "outputs": [],
      "source": [
        "import os\n",
        "import numpy as np\n",
        "import pandas as pd\n",
        "\n",
        "import seaborn as sns\n",
        "import plotly.express as px\n",
        "import matplotlib.pyplot as plt\n",
        "%matplotlib inline\n",
        "\n",
        "from sklearn.cluster import KMeans\n",
        "from sklearn.preprocessing import StandardScaler\n",
        "from sklearn.pipeline import Pipeline\n",
        "from sklearn.manifold import TSNE\n",
        "from sklearn.decomposition import PCA\n",
        "from sklearn.metrics import euclidean_distances\n",
        "from scipy.spatial.distance import cdist\n",
        "\n",
        "import warnings\n",
        "warnings.filterwarnings(\"ignore\")"
      ]
    },
    {
      "cell_type": "code",
      "source": [
        "data = pd.read_csv(\"/content/data.csv\")\n",
        "genre_data = pd.read_csv('/content/data_by_genres.csv')\n",
        "year_data = pd.read_csv('/content/data_by_year.csv')"
      ],
      "metadata": {
        "id": "5zJA8kc9ulFl"
      },
      "execution_count": 2,
      "outputs": []
    },
    {
      "cell_type": "code",
      "source": [
        "print(data.info())"
      ],
      "metadata": {
        "colab": {
          "base_uri": "https://localhost:8080/"
        },
        "id": "10323JJ8wsO7",
        "outputId": "b7ba8c83-431f-4532-95a0-00e311e0cacb"
      },
      "execution_count": 3,
      "outputs": [
        {
          "output_type": "stream",
          "name": "stdout",
          "text": [
            "<class 'pandas.core.frame.DataFrame'>\n",
            "RangeIndex: 42361 entries, 0 to 42360\n",
            "Data columns (total 19 columns):\n",
            " #   Column            Non-Null Count  Dtype  \n",
            "---  ------            --------------  -----  \n",
            " 0   valence           42361 non-null  float64\n",
            " 1   year              42361 non-null  int64  \n",
            " 2   acousticness      42361 non-null  float64\n",
            " 3   artists           42361 non-null  object \n",
            " 4   danceability      42361 non-null  float64\n",
            " 5   duration_ms       42361 non-null  int64  \n",
            " 6   energy            42361 non-null  float64\n",
            " 7   explicit          42361 non-null  int64  \n",
            " 8   id                42361 non-null  object \n",
            " 9   instrumentalness  42361 non-null  float64\n",
            " 10  key               42361 non-null  int64  \n",
            " 11  liveness          42361 non-null  float64\n",
            " 12  loudness          42360 non-null  float64\n",
            " 13  mode              42360 non-null  float64\n",
            " 14  name              42360 non-null  object \n",
            " 15  popularity        42360 non-null  float64\n",
            " 16  release_date      42360 non-null  object \n",
            " 17  speechiness       42360 non-null  float64\n",
            " 18  tempo             42360 non-null  float64\n",
            "dtypes: float64(11), int64(4), object(4)\n",
            "memory usage: 6.1+ MB\n",
            "None\n"
          ]
        }
      ]
    },
    {
      "cell_type": "code",
      "source": [
        "print(genre_data.info())"
      ],
      "metadata": {
        "colab": {
          "base_uri": "https://localhost:8080/"
        },
        "id": "tSfFwKwpwuR_",
        "outputId": "b945ea58-520f-4e29-bcbb-dfd5d74b5b92"
      },
      "execution_count": 4,
      "outputs": [
        {
          "output_type": "stream",
          "name": "stdout",
          "text": [
            "<class 'pandas.core.frame.DataFrame'>\n",
            "RangeIndex: 2973 entries, 0 to 2972\n",
            "Data columns (total 14 columns):\n",
            " #   Column            Non-Null Count  Dtype  \n",
            "---  ------            --------------  -----  \n",
            " 0   mode              2973 non-null   int64  \n",
            " 1   genres            2973 non-null   object \n",
            " 2   acousticness      2973 non-null   float64\n",
            " 3   danceability      2973 non-null   float64\n",
            " 4   duration_ms       2973 non-null   float64\n",
            " 5   energy            2973 non-null   float64\n",
            " 6   instrumentalness  2973 non-null   float64\n",
            " 7   liveness          2973 non-null   float64\n",
            " 8   loudness          2973 non-null   float64\n",
            " 9   speechiness       2973 non-null   float64\n",
            " 10  tempo             2973 non-null   float64\n",
            " 11  valence           2973 non-null   float64\n",
            " 12  popularity        2973 non-null   float64\n",
            " 13  key               2973 non-null   int64  \n",
            "dtypes: float64(11), int64(2), object(1)\n",
            "memory usage: 325.3+ KB\n",
            "None\n"
          ]
        }
      ]
    },
    {
      "cell_type": "code",
      "source": [
        "print(year_data.info())"
      ],
      "metadata": {
        "colab": {
          "base_uri": "https://localhost:8080/"
        },
        "id": "1epFiGgLwwtL",
        "outputId": "f99ef0bd-0dc4-43a0-ed26-a5caf85fc9b3"
      },
      "execution_count": 5,
      "outputs": [
        {
          "output_type": "stream",
          "name": "stdout",
          "text": [
            "<class 'pandas.core.frame.DataFrame'>\n",
            "RangeIndex: 100 entries, 0 to 99\n",
            "Data columns (total 14 columns):\n",
            " #   Column            Non-Null Count  Dtype  \n",
            "---  ------            --------------  -----  \n",
            " 0   mode              100 non-null    int64  \n",
            " 1   year              100 non-null    int64  \n",
            " 2   acousticness      100 non-null    float64\n",
            " 3   danceability      100 non-null    float64\n",
            " 4   duration_ms       100 non-null    float64\n",
            " 5   energy            100 non-null    float64\n",
            " 6   instrumentalness  100 non-null    float64\n",
            " 7   liveness          100 non-null    float64\n",
            " 8   loudness          100 non-null    float64\n",
            " 9   speechiness       100 non-null    float64\n",
            " 10  tempo             100 non-null    float64\n",
            " 11  valence           100 non-null    float64\n",
            " 12  popularity        100 non-null    float64\n",
            " 13  key               100 non-null    int64  \n",
            "dtypes: float64(11), int64(3)\n",
            "memory usage: 11.1 KB\n",
            "None\n"
          ]
        }
      ]
    },
    {
      "source": [
        "missing_values_X = X.isnull().sum()\n",
        "missing_values_y = y.isnull().sum()\n",
        "\n",
        "print(\"Missing values in X:\", missing_values_X)\n",
        "print(\"Missing values in y:\", missing_values_y)"
      ],
      "cell_type": "code",
      "metadata": {
        "colab": {
          "base_uri": "https://localhost:8080/"
        },
        "id": "WJOXH8LczmSR",
        "outputId": "5478cf55-2226-47ca-8b7d-4a169b529952"
      },
      "execution_count": 7,
      "outputs": [
        {
          "output_type": "stream",
          "name": "stdout",
          "text": [
            "Missing values in X: acousticness        0\n",
            "danceability        0\n",
            "energy              0\n",
            "instrumentalness    0\n",
            "liveness            0\n",
            "loudness            1\n",
            "speechiness         1\n",
            "tempo               1\n",
            "valence             0\n",
            "duration_ms         0\n",
            "explicit            0\n",
            "key                 0\n",
            "mode                1\n",
            "year                0\n",
            "dtype: int64\n",
            "Missing values in y: 1\n"
          ]
        }
      ]
    },
    {
      "source": [
        "infinite_values_X = np.isinf(X).sum()\n",
        "infinite_values_y = np.isinf(y).sum()\n",
        "\n",
        "print(\"Infinite values in X:\", infinite_values_X)\n",
        "print(\"Infinite values in y:\", infinite_values_y)"
      ],
      "cell_type": "code",
      "metadata": {
        "colab": {
          "base_uri": "https://localhost:8080/"
        },
        "id": "OzlaSlaRzqk-",
        "outputId": "10609457-a4cd-47d9-b4d4-36f6cac05584"
      },
      "execution_count": 8,
      "outputs": [
        {
          "output_type": "stream",
          "name": "stdout",
          "text": [
            "Infinite values in X: acousticness        0\n",
            "danceability        0\n",
            "energy              0\n",
            "instrumentalness    0\n",
            "liveness            0\n",
            "loudness            0\n",
            "speechiness         0\n",
            "tempo               0\n",
            "valence             0\n",
            "duration_ms         0\n",
            "explicit            0\n",
            "key                 0\n",
            "mode                0\n",
            "year                0\n",
            "dtype: int64\n",
            "Infinite values in y: 0\n"
          ]
        }
      ]
    },
    {
      "source": [
        "infinite_values_X = np.isinf(X).sum()\n",
        "infinite_values_y = np.isinf(y).sum()\n",
        "\n",
        "print(\"Infinite values in X:\", infinite_values_X)\n",
        "print(\"Infinite values in y:\", infinite_values_y)"
      ],
      "cell_type": "code",
      "metadata": {
        "colab": {
          "base_uri": "https://localhost:8080/"
        },
        "id": "8MNVT20kzt6_",
        "outputId": "38f08e58-0539-4bd3-9c08-3d469455eb0c"
      },
      "execution_count": 9,
      "outputs": [
        {
          "output_type": "stream",
          "name": "stdout",
          "text": [
            "Infinite values in X: acousticness        0\n",
            "danceability        0\n",
            "energy              0\n",
            "instrumentalness    0\n",
            "liveness            0\n",
            "loudness            0\n",
            "speechiness         0\n",
            "tempo               0\n",
            "valence             0\n",
            "duration_ms         0\n",
            "explicit            0\n",
            "key                 0\n",
            "mode                0\n",
            "year                0\n",
            "dtype: int64\n",
            "Infinite values in y: 0\n"
          ]
        }
      ]
    },
    {
      "source": [
        "from sklearn.impute import SimpleImputer\n",
        "\n",
        "imputer = SimpleImputer(strategy=\"mean\")\n",
        "X = imputer.fit_transform(X)\n",
        "y = imputer.fit_transform(y.values.reshape(-1, 1)).ravel()"
      ],
      "cell_type": "code",
      "metadata": {
        "id": "ezQC0rVwzvfB"
      },
      "execution_count": 10,
      "outputs": []
    },
    {
      "source": [
        "X[np.isinf(X)] = np.nan\n",
        "y[np.isinf(y)] = np.nan\n",
        "\n",
        "X = np.nan_to_num(X)\n",
        "y = np.nan_to_num(y)"
      ],
      "cell_type": "code",
      "metadata": {
        "id": "61aOQN_9zxP7"
      },
      "execution_count": 11,
      "outputs": []
    },
    {
      "source": [
        "visualizer.fit(X, y)\n",
        "visualizer.show()"
      ],
      "cell_type": "code",
      "metadata": {
        "colab": {
          "base_uri": "https://localhost:8080/"
        },
        "id": "LH__wK94zyxl",
        "outputId": "11beee42-3f56-4f01-b508-1224936dba53"
      },
      "execution_count": 12,
      "outputs": [
        {
          "output_type": "execute_result",
          "data": {
            "text/plain": [
              "<Axes: title={'center': 'Features correlation with dependent variable'}, xlabel='Pearson Correlation'>"
            ]
          },
          "metadata": {},
          "execution_count": 12
        }
      ]
    },
    {
      "cell_type": "code",
      "source": [
        "import numpy as np\n",
        "import pandas as pd\n",
        "from yellowbrick.target import FeatureCorrelation\n",
        "\n",
        "# Identify and handle missing or infinite values\n",
        "data_clean = data.replace([np.inf, -np.inf], np.nan).dropna()\n",
        "\n",
        "# Define feature names and target\n",
        "feature_names = ['acousticness', 'danceability', 'energy', 'instrumentalness',\n",
        "       'liveness', 'loudness', 'speechiness', 'tempo', 'valence','duration_ms','explicit','key','mode','year']\n",
        "X = data_clean[feature_names]\n",
        "y = data_clean['popularity']\n",
        "\n",
        "# Instantiate the visualizer\n",
        "visualizer = FeatureCorrelation(labels=feature_names)\n",
        "\n",
        "# Plot\n",
        "plt.rcParams['figure.figsize'] = (20, 20)\n",
        "visualizer.fit(X, y)\n",
        "visualizer.show()\n"
      ],
      "metadata": {
        "colab": {
          "base_uri": "https://localhost:8080/",
          "height": 860
        },
        "id": "NFhqzs1o0ONY",
        "outputId": "15832703-17c5-4579-f696-247a92fd1d7f"
      },
      "execution_count": 14,
      "outputs": [
        {
          "output_type": "display_data",
          "data": {
            "text/plain": [
              "<Figure size 2000x2000 with 1 Axes>"
            ],
            "image/png": "[encoded data removed]"
          },
          "metadata": {}
        },
        {
          "output_type": "execute_result",
          "data": {
            "text/plain": [
              "<Axes: title={'center': 'Features correlation with dependent variable'}, xlabel='Pearson Correlation'>"
            ]
          },
          "metadata": {},
          "execution_count": 14
        }
      ]
    },
    {
      "cell_type": "code",
      "source": [
        "def get_decade(year):\n",
        "    period_start = int(year/10) * 10\n",
        "    decade = '{}s'.format(period_start)\n",
        "    return decade\n",
        "\n",
        "data['decade'] = data['year'].apply(get_decade)\n",
        "\n",
        "sns.set(rc={'figure.figsize':(11 ,6)})\n",
        "sns.countplot(data['decade'])"
      ],
      "metadata": {
        "colab": {
          "base_uri": "https://localhost:8080/",
          "height": 514
        },
        "id": "yHSzsCGe0byy",
        "outputId": "57bbd494-cb9e-4b45-8fb1-2a30df855341"
      },
      "execution_count": 16,
      "outputs": [
        {
          "output_type": "execute_result",
          "data": {
            "text/plain": [
              "<Axes: xlabel='count', ylabel='decade'>"
            ]
          },
          "metadata": {},
          "execution_count": 16
        },
        {
          "output_type": "display_data",
          "data": {
            "text/plain": [
              "<Figure size 1100x600 with 1 Axes>"
            ],
            "image/png": "[encoded data removed]"
          },
          "metadata": {}
        }
      ]
    },
    {
      "cell_type": "code",
      "source": [
        "sound_features = ['acousticness', 'danceability', 'energy', 'instrumentalness', 'liveness', 'valence']\n",
        "fig = px.line(year_data, x='year', y=sound_features)\n",
        "fig.show()"
      ],
      "metadata": {
        "colab": {
          "base_uri": "https://localhost:8080/",
          "height": 542
        },
        "id": "QBcfzpUC0gHx",
        "outputId": "4d5a317a-301b-4a4a-ec77-959e39ba3474"
      },
      "execution_count": 17,
      "outputs": [
        {
          "output_type": "display_data",
          "data": {
            "text/html": [
              "<html>\n",
              "<head><meta charset=\"utf-8\" /></head>\n",
              "<body>\n",
              "    <div>            <script src=\"https://cdnjs.cloudflare.com/ajax/libs/mathjax/2.7.5/MathJax.js?config=TeX-AMS-MML_SVG\"></script><script type=\"text/javascript\">if (window.MathJax && window.MathJax.Hub && window.MathJax.Hub.Config) {window.MathJax.Hub.Config({SVG: {font: \"STIX-Web\"}});}</script>                <script type=\"text/javascript\">window.PlotlyConfig = {MathJaxConfig: 'local'};</script>\n",
              "        <script charset=\"utf-8\" src=\"https://cdn.plot.ly/plotly-2.24.1.min.js\"></script>                <div id=\"ae976c2e-eaeb-4be9-a91d-5aeec8ffa542\" class=\"plotly-graph-div\" style=\"height:525px; width:100%;\"></div>            <script type=\"text/javascript\">                                    window.PLOTLYENV=window.PLOTLYENV || {};                                    if (document.getElementById(\"ae976c2e-eaeb-4be9-a91d-5aeec8ffa542\")) {                    Plotly.newPlot(                        \"ae976c2e-eaeb-4be9-a91d-5aeec8ffa542\",                        [{\"hovertemplate\":\"variable=acousticness\\u003cbr\\u003eyear=%{x}\\u003cbr\\u003evalue=%{y}\\u003cextra\\u003e\\u003c\\u002fextra\\u003e\",\"legendgroup\":\"acousticness\",\"line\":{\"color\":\"#636efa\",\"dash\":\"solid\"},\"marker\":{\"symbol\":\"circle\"},\"mode\":\"lines\",\"name\":\"acousticness\",\"orientation\":\"v\",\"showlegend\":true,\"x\":[1921,1922,1923,1924,1925,1926,1927,1928,1929,1930,1931,1932,1933,1934,1935,1936,1937,1938,1939,1940,1941,1942,1943,1944,1945,1946,1947,1948,1949,1950,1951,1952,1953,1954,1955,1956,1957,1958,1959,1960,1961,1962,1963,1964,1965,1966,1967,1968,1969,1970,1971,1972,1973,1974,1975,1976,1977,1978,1979,1980,1981,1982,1983,1984,1985,1986,1987,1988,1989,1990,1991,1992,1993,1994,1995,1996,1997,1998,1999,2000,2001,2002,2003,2004,2005,2006,2007,2008,2009,2010,2011,2012,2013,2014,2015,2016,2017,2018,2019,2020],\"xaxis\":\"x\",\"y\":[0.8868960000000005,0.9385915492957748,0.9572467913513516,0.940199860169493,0.9626070503597138,0.660817216981134,0.9361794552845558,0.9386165035685952,0.6014265861344558,0.936714937370057,0.8330399585921336,0.9357705179282878,0.899897909117222,0.8911487501730107,0.7783855599472987,0.7723120800000008,0.8654357853881286,0.9192803908646014,0.9087381000000004,0.8476440499999951,0.8957376562500025,0.8529343703923857,0.9027523185915528,0.9076531914893636,0.7096568630000005,0.9199445823665852,0.9139650224242392,0.9221549999999956,0.9075328949999956,0.8539413005999965,0.9022971956499974,0.8743009244999965,0.8909223502564074,0.8650197272999992,0.8405510069999986,0.8230569899999975,0.7928023589743608,0.7796118650000005,0.7793927897435907,0.7671814843243259,0.7519038684210535,0.720607806842106,0.7227048300000004,0.6941005307692291,0.6099113295384619,0.5248094599699997,0.5296103243521767,0.4937702403500001,0.4488463039999994,0.4600571139500007,0.4583362981000009,0.4600428051999994,0.4165241889999992,0.4472074226000001,0.4337738871950005,0.3614706321099993,0.3393025333750004,0.3289685734499993,0.29593224063,0.284955397635897,0.3012042267400006,0.2895800382050001,0.2947778916300001,0.2877095803450008,0.2965709032099995,0.2850806564249999,0.3116640663948722,0.322009946512821,0.3133512518150009,0.3328699505850001,0.3327652916307699,0.3208087638250009,0.3090685537400004,0.3062343630899999,0.3025118061200004,0.3010268798000006,0.3067156934549995,0.2914894615700001,0.2715901110661201,0.2893227005163599,0.2868424748428934,0.282624289885001,0.2564705181729783,0.2805589466225845,0.2557635068666665,0.2799863520256408,0.2540809575538463,0.2491917627212275,0.261928619096939,0.2426866435515872,0.2731826625185919,0.2499530443804624,0.2574880859564779,0.249312645880299,0.2539522577102332,0.2841710299554814,0.2860990665261043,0.2676329907750836,0.2782985863365824,0.2199308880935964],\"yaxis\":\"y\",\"type\":\"scatter\"},{\"hovertemplate\":\"variable=danceability\\u003cbr\\u003eyear=%{x}\\u003cbr\\u003evalue=%{y}\\u003cextra\\u003e\\u003c\\u002fextra\\u003e\",\"legendgroup\":\"danceability\",\"line\":{\"color\":\"#EF553B\",\"dash\":\"solid\"},\"marker\":{\"symbol\":\"circle\"},\"mode\":\"lines\",\"name\":\"danceability\",\"orientation\":\"v\",\"showlegend\":true,\"x\":[1921,1922,1923,1924,1925,1926,1927,1928,1929,1930,1931,1932,1933,1934,1935,1936,1937,1938,1939,1940,1941,1942,1943,1944,1945,1946,1947,1948,1949,1950,1951,1952,1953,1954,1955,1956,1957,1958,1959,1960,1961,1962,1963,1964,1965,1966,1967,1968,1969,1970,1971,1972,1973,1974,1975,1976,1977,1978,1979,1980,1981,1982,1983,1984,1985,1986,1987,1988,1989,1990,1991,1992,1993,1994,1995,1996,1997,1998,1999,2000,2001,2002,2003,2004,2005,2006,2007,2008,2009,2010,2011,2012,2013,2014,2015,2016,2017,2018,2019,2020],\"xaxis\":\"x\",\"y\":[0.4185973333333336,0.4820422535211267,0.5773405405405401,0.5498940677966102,0.5738633093525181,0.5998802612481859,0.6482682926829262,0.5342878667724027,0.6476698529411761,0.5181758835758836,0.5952217391304357,0.5577976095617526,0.57029030390738,0.528705882352941,0.5558691699604746,0.5580055454545453,0.5421572298325723,0.479977977161501,0.5126828,0.52189235,0.4804813541666676,0.4646338882282997,0.4551456338028168,0.5001744680851068,0.5191431500000011,0.4144450116009276,0.4713208484848491,0.4633694736842109,0.4421993999999996,0.5042531000000008,0.4624800999999999,0.4570322000000001,0.4374260512820513,0.4656388999999994,0.4881312,0.4878145000000007,0.5034812307692305,0.4800213999999995,0.4821143076923083,0.4860292432432435,0.4891655789473678,0.4931643684210523,0.48162135,0.5041769743589742,0.5034505641025638,0.5070204999999981,0.4926885942971483,0.5010080999999997,0.4880977999999999,0.5063075000000004,0.5042738499999999,0.5209994499999997,0.5154494500000005,0.51533975,0.5209980000000007,0.5297624999999999,0.5333237000000017,0.5407746000000005,0.5620453000000001,0.5561523589743594,0.5421846999999999,0.5642594000000005,0.5456292999999998,0.5303089499999987,0.5556424000000012,0.5409334000000001,0.5410193333333342,0.5404594358974372,0.5472274499999988,0.5352986500000001,0.5558243589743591,0.5550648499999989,0.5698781500000001,0.5528299500000016,0.5590457500000001,0.5878306000000001,0.5768138499999994,0.5862116499999998,0.5821579190158892,0.590918047034764,0.5833178553615969,0.5761602999999997,0.5757633060388944,0.5676803662258397,0.5722805641025652,0.5682301538461539,0.5634143589743592,0.5791928388746803,0.5641903571428577,0.5724883432539687,0.5528669806643526,0.5708818508997433,0.5711480263157896,0.5899476807980057,0.5937740628166152,0.6002023928770179,0.6122170180722886,0.6635004755111744,0.6448141097998967,0.6929043349753701],\"yaxis\":\"y\",\"type\":\"scatter\"},{\"hovertemplate\":\"variable=energy\\u003cbr\\u003eyear=%{x}\\u003cbr\\u003evalue=%{y}\\u003cextra\\u003e\\u003c\\u002fextra\\u003e\",\"legendgroup\":\"energy\",\"line\":{\"color\":\"#00cc96\",\"dash\":\"solid\"},\"marker\":{\"symbol\":\"circle\"},\"mode\":\"lines\",\"name\":\"energy\",\"orientation\":\"v\",\"showlegend\":true,\"x\":[1921,1922,1923,1924,1925,1926,1927,1928,1929,1930,1931,1932,1933,1934,1935,1936,1937,1938,1939,1940,1941,1942,1943,1944,1945,1946,1947,1948,1949,1950,1951,1952,1953,1954,1955,1956,1957,1958,1959,1960,1961,1962,1963,1964,1965,1966,1967,1968,1969,1970,1971,1972,1973,1974,1975,1976,1977,1978,1979,1980,1981,1982,1983,1984,1985,1986,1987,1988,1989,1990,1991,1992,1993,1994,1995,1996,1997,1998,1999,2000,2001,2002,2003,2004,2005,2006,2007,2008,2009,2010,2011,2012,2013,2014,2015,2016,2017,2018,2019,2020],\"xaxis\":\"x\",\"y\":[0.2318151333333333,0.2378153521126759,0.2624064864864865,0.3443466101694912,0.2785935251798561,0.2114670907111756,0.2643213008130081,0.2079477954004757,0.2418007352941172,0.3335239189189189,0.2344967732919257,0.3020677290836656,0.2798994211287988,0.2621313148788928,0.2463669762845848,0.3083886092727274,0.3110482952815827,0.2809812398042416,0.2826715000000002,0.3108928949999999,0.2656431979166666,0.2560794708680144,0.2799900422535211,0.2534414494680852,0.2260444155,0.2221723085846866,0.2635512000000002,0.242464841052632,0.2461146149999996,0.3140711950000003,0.254665655,0.2536260100000002,0.2661968307692306,0.264347385,0.2950963400000001,0.3047611200000001,0.2952791333333324,0.3087957550000006,0.3109944051282049,0.3411423783783781,0.3395318673684203,0.3710257,0.3653538849999999,0.394438825641026,0.4490272461538461,0.482208465,0.4468238319159585,0.4569696500000004,0.4876251299999994,0.495633050000001,0.4963612550000003,0.5045261799999999,0.5361382499999989,0.5147236550000011,0.5232085050000003,0.5538432500000001,0.560287959000001,0.5614288650000007,0.5910127149999996,0.5977773948717964,0.5993827249999998,0.5909193894999996,0.6014252350000012,0.5910916750000013,0.6015154800000013,0.6149545999999998,0.5798395538461533,0.5856792461538458,0.584046375000001,0.5715913950000007,0.5594023641025635,0.5828642050000001,0.5625599100000002,0.578772685000001,0.5785795100000009,0.5860684750000011,0.5986987151000001,0.6051975050000015,0.6375226022552535,0.6254128323108387,0.6269855221945144,0.6412697960000012,0.6601652610030712,0.6488679450661226,0.653208511282051,0.6503262820512825,0.6683047743589737,0.6714608207672623,0.6707487551020408,0.6817778026289684,0.6483008934060499,0.6565714601542408,0.6455968914473688,0.6487954437905223,0.6270642715298895,0.5928552316082347,0.5904210208835337,0.6024346220161672,0.5932240360184717,0.6312316354679793],\"yaxis\":\"y\",\"type\":\"scatter\"},{\"hovertemplate\":\"variable=instrumentalness\\u003cbr\\u003eyear=%{x}\\u003cbr\\u003evalue=%{y}\\u003cextra\\u003e\\u003c\\u002fextra\\u003e\",\"legendgroup\":\"instrumentalness\",\"line\":{\"color\":\"#ab63fa\",\"dash\":\"solid\"},\"marker\":{\"symbol\":\"circle\"},\"mode\":\"lines\",\"name\":\"instrumentalness\",\"orientation\":\"v\",\"showlegend\":true,\"x\":[1921,1922,1923,1924,1925,1926,1927,1928,1929,1930,1931,1932,1933,1934,1935,1936,1937,1938,1939,1940,1941,1942,1943,1944,1945,1946,1947,1948,1949,1950,1951,1952,1953,1954,1955,1956,1957,1958,1959,1960,1961,1962,1963,1964,1965,1966,1967,1968,1969,1970,1971,1972,1973,1974,1975,1976,1977,1978,1979,1980,1981,1982,1983,1984,1985,1986,1987,1988,1989,1990,1991,1992,1993,1994,1995,1996,1997,1998,1999,2000,2001,2002,2003,2004,2005,2006,2007,2008,2009,2010,2011,2012,2013,2014,2015,2016,2017,2018,2019,2020],\"xaxis\":\"x\",\"y\":[0.3448780588666665,0.4341948697183099,0.371732725027027,0.5817009136440677,0.4182973612230215,0.3330931111175616,0.3913284986504065,0.4948354801348136,0.2152040310609246,0.3522059281652805,0.2214196416149072,0.2263565791633467,0.1839489396816208,0.276382266643599,0.2258732980895915,0.2571099957181816,0.3270876216438359,0.3784246349265906,0.2776824694100001,0.3168486998649998,0.4449516393124999,0.392882047871581,0.4098969234647892,0.4492919654122334,0.2758942570149996,0.4861264096461711,0.3475934179090908,0.3554848223842104,0.2977615361899994,0.245000820015,0.3084378555850002,0.2884126469300002,0.3183223943230766,0.2974400082799999,0.2166044216900002,0.2387634177800001,0.1945206161692309,0.1812411100599998,0.1881481940615383,0.1765021594216216,0.2646232531421054,0.1714715509421054,0.18543231468,0.1595978017794872,0.1183659460923078,0.1151259555649999,0.1189468546723362,0.112776949285,0.1594527081650001,0.1275670030849998,0.12501788923,0.1148803337599997,0.0996802232299999,0.11636098351,0.1113220337449999,0.12162904398,0.1277210319449999,0.1003812145099999,0.1157513720150001,0.1287510612717948,0.1468379466199998,0.100016383,0.1454105232900004,0.1451730397350004,0.1137385580749998,0.1099408543649999,0.1019745174666666,0.117190380220513,0.1131825446149999,0.1258262680949997,0.1150923397999999,0.1006900830649998,0.11529396538,0.1118857599499999,0.1232687960699999,0.0950528120350001,0.1046901786199999,0.1113257503499999,0.0940681410661199,0.1011677687934559,0.1072140189925186,0.0880483503149999,0.0830492746673491,0.0779340349084435,0.0901943611846154,0.0777014718769231,0.0729572680512819,0.0636620903171356,0.0758720736836735,0.0829805682192461,0.103772332166584,0.0852055206786631,0.0983650539170038,0.0765695548379051,0.1067868780547114,0.0939843871174179,0.0970906090662649,0.0542171216690441,0.0776402469728064,0.0163755243054187],\"yaxis\":\"y\",\"type\":\"scatter\"},{\"hovertemplate\":\"variable=liveness\\u003cbr\\u003eyear=%{x}\\u003cbr\\u003evalue=%{y}\\u003cextra\\u003e\\u003c\\u002fextra\\u003e\",\"legendgroup\":\"liveness\",\"line\":{\"color\":\"#FFA15A\",\"dash\":\"solid\"},\"marker\":{\"symbol\":\"circle\"},\"mode\":\"lines\",\"name\":\"liveness\",\"orientation\":\"v\",\"showlegend\":true,\"x\":[1921,1922,1923,1924,1925,1926,1927,1928,1929,1930,1931,1932,1933,1934,1935,1936,1937,1938,1939,1940,1941,1942,1943,1944,1945,1946,1947,1948,1949,1950,1951,1952,1953,1954,1955,1956,1957,1958,1959,1960,1961,1962,1963,1964,1965,1966,1967,1968,1969,1970,1971,1972,1973,1974,1975,1976,1977,1978,1979,1980,1981,1982,1983,1984,1985,1986,1987,1988,1989,1990,1991,1992,1993,1994,1995,1996,1997,1998,1999,2000,2001,2002,2003,2004,2005,2006,2007,2008,2009,2010,2011,2012,2013,2014,2015,2016,2017,2018,2019,2020],\"xaxis\":\"x\",\"y\":[0.20571,0.2407197183098592,0.2274621621621621,0.2352190677966101,0.2376679856115108,0.2323695936139332,0.1684502439024389,0.1752893735130848,0.2360002100840333,0.2213108627858629,0.2274279503105589,0.2324962151394422,0.2090719247467437,0.2134525951557092,0.2292998682476943,0.2214382727272726,0.2259677321156773,0.237111092985318,0.2391015999999999,0.2643351000000004,0.2018398958333331,0.2128784185493456,0.2392107042253524,0.2387719414893616,0.2030099500000001,0.2108183294663576,0.2238293939393936,0.2196935789473678,0.2088585500000004,0.2169584000000004,0.2177773999999999,0.2329722999999998,0.221734051282051,0.2178411499999996,0.2214353500000001,0.1822571500000002,0.1827485641025636,0.2058408500000003,0.1918429230769232,0.2078637297297298,0.2089125789473681,0.2018957368421054,0.2037453000000002,0.2172323589743596,0.2138391282051284,0.2180930999999999,0.190917658829415,0.2173509500000005,0.2069658999999999,0.2122688000000002,0.2149145500000001,0.2069549500000001,0.2013747499999997,0.2093463499999996,0.2154413500000002,0.2490321999999999,0.2232140500000004,0.2180709499999994,0.2134431000000002,0.2037541025641026,0.2250998999999999,0.20100675,0.1989224500000002,0.1977062,0.1992064499999998,0.2118794500000001,0.202018102564103,0.207707538461538,0.1990802,0.1909609,0.1886289230769235,0.2002455000000007,0.1949322500000003,0.1921651000000001,0.2013737000000004,0.1986863000000002,0.1984788000000003,0.1937308999999996,0.206308047155305,0.1976860429447853,0.1870256359102248,0.1939111999999998,0.196976305015353,0.2021994404883014,0.1900816256410258,0.1882892820512821,0.1961265641025642,0.1984314066496162,0.2052522959183674,0.1997006448412699,0.2033088249876056,0.1897330077120824,0.1996308198380571,0.1918215960099752,0.1888564336372847,0.181169894268225,0.1917126004016064,0.1763255349500711,0.1726164186762446,0.1785354187192117],\"yaxis\":\"y\",\"type\":\"scatter\"},{\"hovertemplate\":\"variable=valence\\u003cbr\\u003eyear=%{x}\\u003cbr\\u003evalue=%{y}\\u003cextra\\u003e\\u003c\\u002fextra\\u003e\",\"legendgroup\":\"valence\",\"line\":{\"color\":\"#19d3f3\",\"dash\":\"solid\"},\"marker\":{\"symbol\":\"circle\"},\"mode\":\"lines\",\"name\":\"valence\",\"orientation\":\"v\",\"showlegend\":true,\"x\":[1921,1922,1923,1924,1925,1926,1927,1928,1929,1930,1931,1932,1933,1934,1935,1936,1937,1938,1939,1940,1941,1942,1943,1944,1945,1946,1947,1948,1949,1950,1951,1952,1953,1954,1955,1956,1957,1958,1959,1960,1961,1962,1963,1964,1965,1966,1967,1968,1969,1970,1971,1972,1973,1974,1975,1976,1977,1978,1979,1980,1981,1982,1983,1984,1985,1986,1987,1988,1989,1990,1991,1992,1993,1994,1995,1996,1997,1998,1999,2000,2001,2002,2003,2004,2005,2006,2007,2008,2009,2010,2011,2012,2013,2014,2015,2016,2017,2018,2019,2020],\"xaxis\":\"x\",\"y\":[0.3793266666666666,0.5355492957746479,0.6254924324324328,0.6637254237288139,0.6219287769784171,0.4369104571843251,0.6597004878048782,0.4957126883425853,0.6365298319327733,0.6162376299376306,0.5131170807453418,0.5881599601593626,0.5994099855282197,0.5588046712802772,0.5455777997364957,0.5640635454545455,0.5857894977168944,0.5149111092985317,0.5599248999999992,0.6167094700000009,0.4794560416666661,0.4774088585017848,0.4954545070422531,0.5406954787234041,0.4913613500000002,0.3982538283062647,0.5082125454545455,0.4621423684210526,0.4304195000000001,0.5516497000000001,0.44134755,0.4431349620499994,0.4291420512820513,0.4523410500000002,0.4724154999999997,0.5084230500000003,0.5110101538461542,0.4976614999999994,0.4784156410256422,0.5239316756756759,0.5128512105263155,0.5477920526315792,0.5415274500000008,0.55726042051282,0.5809506666666668,0.5801445499999996,0.5507916958479243,0.5659936500000002,0.5547452849999999,0.5720753999999992,0.5749132500000002,0.5956881500000009,0.5921162000000004,0.5812744000000009,0.5694151500000002,0.5807332499999998,0.58524655,0.5895352500000014,0.6099818000000005,0.5980580512820513,0.5829518500000006,0.5864384500000001,0.5721198999999989,0.5516387100000003,0.5655964500000001,0.5509485500000019,0.5414511794871785,0.5464853897435901,0.5483329000000007,0.5265268499999999,0.5486552307692295,0.5590983000000014,0.5555684500000001,0.5266491500000006,0.5302466999999994,0.5608732500000001,0.5485525000000002,0.5377209,0.5564528446950284,0.5594754601226991,0.541479107231919,0.5423971500000008,0.5305042476970324,0.5244885554425227,0.5325309230769236,0.5200283076923078,0.5167938461538473,0.5275418925831203,0.5071696617346935,0.5208951587301589,0.4724536787307882,0.4627090128534706,0.4547411943319834,0.4630487780548628,0.4320983687943254,0.4315320589872012,0.4164763112449793,0.4479212743699474,0.4588176295536167,0.5010478078817729],\"yaxis\":\"y\",\"type\":\"scatter\"}],                        {\"template\":{\"data\":{\"histogram2dcontour\":[{\"type\":\"histogram2dcontour\",\"colorbar\":{\"outlinewidth\":0,\"ticks\":\"\"},\"colorscale\":[[0.0,\"#0d0887\"],[0.1111111111111111,\"#46039f\"],[0.2222222222222222,\"#7201a8\"],[0.3333333333333333,\"#9c179e\"],[0.4444444444444444,\"#bd3786\"],[0.5555555555555556,\"#d8576b\"],[0.6666666666666666,\"#ed7953\"],[0.7777777777777778,\"#fb9f3a\"],[0.8888888888888888,\"#fdca26\"],[1.0,\"#f0f921\"]]}],\"choropleth\":[{\"type\":\"choropleth\",\"colorbar\":{\"outlinewidth\":0,\"ticks\":\"\"}}],\"histogram2d\":[{\"type\":\"histogram2d\",\"colorbar\":{\"outlinewidth\":0,\"ticks\":\"\"},\"colorscale\":[[0.0,\"#0d0887\"],[0.1111111111111111,\"#46039f\"],[0.2222222222222222,\"#7201a8\"],[0.3333333333333333,\"#9c179e\"],[0.4444444444444444,\"#bd3786\"],[0.5555555555555556,\"#d8576b\"],[0.6666666666666666,\"#ed7953\"],[0.7777777777777778,\"#fb9f3a\"],[0.8888888888888888,\"#fdca26\"],[1.0,\"#f0f921\"]]}],\"heatmap\":[{\"type\":\"heatmap\",\"colorbar\":{\"outlinewidth\":0,\"ticks\":\"\"},\"colorscale\":[[0.0,\"#0d0887\"],[0.1111111111111111,\"#46039f\"],[0.2222222222222222,\"#7201a8\"],[0.3333333333333333,\"#9c179e\"],[0.4444444444444444,\"#bd3786\"],[0.5555555555555556,\"#d8576b\"],[0.6666666666666666,\"#ed7953\"],[0.7777777777777778,\"#fb9f3a\"],[0.8888888888888888,\"#fdca26\"],[1.0,\"#f0f921\"]]}],\"heatmapgl\":[{\"type\":\"heatmapgl\",\"colorbar\":{\"outlinewidth\":0,\"ticks\":\"\"},\"colorscale\":[[0.0,\"#0d0887\"],[0.1111111111111111,\"#46039f\"],[0.2222222222222222,\"#7201a8\"],[0.3333333333333333,\"#9c179e\"],[0.4444444444444444,\"#bd3786\"],[0.5555555555555556,\"#d8576b\"],[0.6666666666666666,\"#ed7953\"],[0.7777777777777778,\"#fb9f3a\"],[0.8888888888888888,\"#fdca26\"],[1.0,\"#f0f921\"]]}],\"contourcarpet\":[{\"type\":\"contourcarpet\",\"colorbar\":{\"outlinewidth\":0,\"ticks\":\"\"}}],\"contour\":[{\"type\":\"contour\",\"colorbar\":{\"outlinewidth\":0,\"ticks\":\"\"},\"colorscale\":[[0.0,\"#0d0887\"],[0.1111111111111111,\"#46039f\"],[0.2222222222222222,\"#7201a8\"],[0.3333333333333333,\"#9c179e\"],[0.4444444444444444,\"#bd3786\"],[0.5555555555555556,\"#d8576b\"],[0.6666666666666666,\"#ed7953\"],[0.7777777777777778,\"#fb9f3a\"],[0.8888888888888888,\"#fdca26\"],[1.0,\"#f0f921\"]]}],\"surface\":[{\"type\":\"surface\",\"colorbar\":{\"outlinewidth\":0,\"ticks\":\"\"},\"colorscale\":[[0.0,\"#0d0887\"],[0.1111111111111111,\"#46039f\"],[0.2222222222222222,\"#7201a8\"],[0.3333333333333333,\"#9c179e\"],[0.4444444444444444,\"#bd3786\"],[0.5555555555555556,\"#d8576b\"],[0.6666666666666666,\"#ed7953\"],[0.7777777777777778,\"#fb9f3a\"],[0.8888888888888888,\"#fdca26\"],[1.0,\"#f0f921\"]]}],\"mesh3d\":[{\"type\":\"mesh3d\",\"colorbar\":{\"outlinewidth\":0,\"ticks\":\"\"}}],\"scatter\":[{\"fillpattern\":{\"fillmode\":\"overlay\",\"size\":10,\"solidity\":0.2},\"type\":\"scatter\"}],\"parcoords\":[{\"type\":\"parcoords\",\"line\":{\"colorbar\":{\"outlinewidth\":0,\"ticks\":\"\"}}}],\"scatterpolargl\":[{\"type\":\"scatterpolargl\",\"marker\":{\"colorbar\":{\"outlinewidth\":0,\"ticks\":\"\"}}}],\"bar\":[{\"error_x\":{\"color\":\"#2a3f5f\"},\"error_y\":{\"color\":\"#2a3f5f\"},\"marker\":{\"line\":{\"color\":\"#E5ECF6\",\"width\":0.5},\"pattern\":{\"fillmode\":\"overlay\",\"size\":10,\"solidity\":0.2}},\"type\":\"bar\"}],\"scattergeo\":[{\"type\":\"scattergeo\",\"marker\":{\"colorbar\":{\"outlinewidth\":0,\"ticks\":\"\"}}}],\"scatterpolar\":[{\"type\":\"scatterpolar\",\"marker\":{\"colorbar\":{\"outlinewidth\":0,\"ticks\":\"\"}}}],\"histogram\":[{\"marker\":{\"pattern\":{\"fillmode\":\"overlay\",\"size\":10,\"solidity\":0.2}},\"type\":\"histogram\"}],\"scattergl\":[{\"type\":\"scattergl\",\"marker\":{\"colorbar\":{\"outlinewidth\":0,\"ticks\":\"\"}}}],\"scatter3d\":[{\"type\":\"scatter3d\",\"line\":{\"colorbar\":{\"outlinewidth\":0,\"ticks\":\"\"}},\"marker\":{\"colorbar\":{\"outlinewidth\":0,\"ticks\":\"\"}}}],\"scattermapbox\":[{\"type\":\"scattermapbox\",\"marker\":{\"colorbar\":{\"outlinewidth\":0,\"ticks\":\"\"}}}],\"scatterternary\":[{\"type\":\"scatterternary\",\"marker\":{\"colorbar\":{\"outlinewidth\":0,\"ticks\":\"\"}}}],\"scattercarpet\":[{\"type\":\"scattercarpet\",\"marker\":{\"colorbar\":{\"outlinewidth\":0,\"ticks\":\"\"}}}],\"carpet\":[{\"aaxis\":{\"endlinecolor\":\"#2a3f5f\",\"gridcolor\":\"white\",\"linecolor\":\"white\",\"minorgridcolor\":\"white\",\"startlinecolor\":\"#2a3f5f\"},\"baxis\":{\"endlinecolor\":\"#2a3f5f\",\"gridcolor\":\"white\",\"linecolor\":\"white\",\"minorgridcolor\":\"white\",\"startlinecolor\":\"#2a3f5f\"},\"type\":\"carpet\"}],\"table\":[{\"cells\":{\"fill\":{\"color\":\"#EBF0F8\"},\"line\":{\"color\":\"white\"}},\"header\":{\"fill\":{\"color\":\"#C8D4E3\"},\"line\":{\"color\":\"white\"}},\"type\":\"table\"}],\"barpolar\":[{\"marker\":{\"line\":{\"color\":\"#E5ECF6\",\"width\":0.5},\"pattern\":{\"fillmode\":\"overlay\",\"size\":10,\"solidity\":0.2}},\"type\":\"barpolar\"}],\"pie\":[{\"automargin\":true,\"type\":\"pie\"}]},\"layout\":{\"autotypenumbers\":\"strict\",\"colorway\":[\"#636efa\",\"#EF553B\",\"#00cc96\",\"#ab63fa\",\"#FFA15A\",\"#19d3f3\",\"#FF6692\",\"#B6E880\",\"#FF97FF\",\"#FECB52\"],\"font\":{\"color\":\"#2a3f5f\"},\"hovermode\":\"closest\",\"hoverlabel\":{\"align\":\"left\"},\"paper_bgcolor\":\"white\",\"plot_bgcolor\":\"#E5ECF6\",\"polar\":{\"bgcolor\":\"#E5ECF6\",\"angularaxis\":{\"gridcolor\":\"white\",\"linecolor\":\"white\",\"ticks\":\"\"},\"radialaxis\":{\"gridcolor\":\"white\",\"linecolor\":\"white\",\"ticks\":\"\"}},\"ternary\":{\"bgcolor\":\"#E5ECF6\",\"aaxis\":{\"gridcolor\":\"white\",\"linecolor\":\"white\",\"ticks\":\"\"},\"baxis\":{\"gridcolor\":\"white\",\"linecolor\":\"white\",\"ticks\":\"\"},\"caxis\":{\"gridcolor\":\"white\",\"linecolor\":\"white\",\"ticks\":\"\"}},\"coloraxis\":{\"colorbar\":{\"outlinewidth\":0,\"ticks\":\"\"}},\"colorscale\":{\"sequential\":[[0.0,\"#0d0887\"],[0.1111111111111111,\"#46039f\"],[0.2222222222222222,\"#7201a8\"],[0.3333333333333333,\"#9c179e\"],[0.4444444444444444,\"#bd3786\"],[0.5555555555555556,\"#d8576b\"],[0.6666666666666666,\"#ed7953\"],[0.7777777777777778,\"#fb9f3a\"],[0.8888888888888888,\"#fdca26\"],[1.0,\"#f0f921\"]],\"sequentialminus\":[[0.0,\"#0d0887\"],[0.1111111111111111,\"#46039f\"],[0.2222222222222222,\"#7201a8\"],[0.3333333333333333,\"#9c179e\"],[0.4444444444444444,\"#bd3786\"],[0.5555555555555556,\"#d8576b\"],[0.6666666666666666,\"#ed7953\"],[0.7777777777777778,\"#fb9f3a\"],[0.8888888888888888,\"#fdca26\"],[1.0,\"#f0f921\"]],\"diverging\":[[0,\"#8e0152\"],[0.1,\"#c51b7d\"],[0.2,\"#de77ae\"],[0.3,\"#f1b6da\"],[0.4,\"#fde0ef\"],[0.5,\"#f7f7f7\"],[0.6,\"#e6f5d0\"],[0.7,\"#b8e186\"],[0.8,\"#7fbc41\"],[0.9,\"#4d9221\"],[1,\"#276419\"]]},\"xaxis\":{\"gridcolor\":\"white\",\"linecolor\":\"white\",\"ticks\":\"\",\"title\":{\"standoff\":15},\"zerolinecolor\":\"white\",\"automargin\":true,\"zerolinewidth\":2},\"yaxis\":{\"gridcolor\":\"white\",\"linecolor\":\"white\",\"ticks\":\"\",\"title\":{\"standoff\":15},\"zerolinecolor\":\"white\",\"automargin\":true,\"zerolinewidth\":2},\"scene\":{\"xaxis\":{\"backgroundcolor\":\"#E5ECF6\",\"gridcolor\":\"white\",\"linecolor\":\"white\",\"showbackground\":true,\"ticks\":\"\",\"zerolinecolor\":\"white\",\"gridwidth\":2},\"yaxis\":{\"backgroundcolor\":\"#E5ECF6\",\"gridcolor\":\"white\",\"linecolor\":\"white\",\"showbackground\":true,\"ticks\":\"\",\"zerolinecolor\":\"white\",\"gridwidth\":2},\"zaxis\":{\"backgroundcolor\":\"#E5ECF6\",\"gridcolor\":\"white\",\"linecolor\":\"white\",\"showbackground\":true,\"ticks\":\"\",\"zerolinecolor\":\"white\",\"gridwidth\":2}},\"shapedefaults\":{\"line\":{\"color\":\"#2a3f5f\"}},\"annotationdefaults\":{\"arrowcolor\":\"#2a3f5f\",\"arrowhead\":0,\"arrowwidth\":1},\"geo\":{\"bgcolor\":\"white\",\"landcolor\":\"#E5ECF6\",\"subunitcolor\":\"white\",\"showland\":true,\"showlakes\":true,\"lakecolor\":\"white\"},\"title\":{\"x\":0.05},\"mapbox\":{\"style\":\"light\"}}},\"xaxis\":{\"anchor\":\"y\",\"domain\":[0.0,1.0],\"title\":{\"text\":\"year\"}},\"yaxis\":{\"anchor\":\"x\",\"domain\":[0.0,1.0],\"title\":{\"text\":\"value\"}},\"legend\":{\"title\":{\"text\":\"variable\"},\"tracegroupgap\":0},\"margin\":{\"t\":60}},                        {\"responsive\": true}                    ).then(function(){\n",
              "                            \n",
              "var gd = document.getElementById('ae976c2e-eaeb-4be9-a91d-5aeec8ffa542');\n",
              "var x = new MutationObserver(function (mutations, observer) {{\n",
              "        var display = window.getComputedStyle(gd).display;\n",
              "        if (!display || display === 'none') {{\n",
              "            console.log([gd, 'removed!']);\n",
              "            Plotly.purge(gd);\n",
              "            observer.disconnect();\n",
              "        }}\n",
              "}});\n",
              "\n",
              "// Listen for the removal of the full notebook cells\n",
              "var notebookContainer = gd.closest('#notebook-container');\n",
              "if (notebookContainer) {{\n",
              "    x.observe(notebookContainer, {childList: true});\n",
              "}}\n",
              "\n",
              "// Listen for the clearing of the current output cell\n",
              "var outputEl = gd.closest('.output');\n",
              "if (outputEl) {{\n",
              "    x.observe(outputEl, {childList: true});\n",
              "}}\n",
              "\n",
              "                        })                };                            </script>        </div>\n",
              "</body>\n",
              "</html>"
            ]
          },
          "metadata": {}
        }
      ]
    },
    {
      "cell_type": "code",
      "source": [
        "top10_genres = genre_data.nlargest(10, 'popularity')\n",
        "\n",
        "fig = px.bar(top10_genres, x='genres', y=['valence', 'energy', 'danceability', 'acousticness'], barmode='group')\n",
        "fig.show()"
      ],
      "metadata": {
        "colab": {
          "base_uri": "https://localhost:8080/",
          "height": 542
        },
        "id": "Z64VAzPS0s6O",
        "outputId": "d1772daa-aeb5-4867-8f12-3ad57ed82a93"
      },
      "execution_count": 18,
      "outputs": [
        {
          "output_type": "display_data",
          "data": {
            "text/html": [
              "<html>\n",
              "<head><meta charset=\"utf-8\" /></head>\n",
              "<body>\n",
              "    <div>            <script src=\"https://cdnjs.cloudflare.com/ajax/libs/mathjax/2.7.5/MathJax.js?config=TeX-AMS-MML_SVG\"></script><script type=\"text/javascript\">if (window.MathJax && window.MathJax.Hub && window.MathJax.Hub.Config) {window.MathJax.Hub.Config({SVG: {font: \"STIX-Web\"}});}</script>                <script type=\"text/javascript\">window.PlotlyConfig = {MathJaxConfig: 'local'};</script>\n",
              "        <script charset=\"utf-8\" src=\"https://cdn.plot.ly/plotly-2.24.1.min.js\"></script>                <div id=\"25c488bb-20f1-4967-9249-917d03362b2c\" class=\"plotly-graph-div\" style=\"height:525px; width:100%;\"></div>            <script type=\"text/javascript\">                                    window.PLOTLYENV=window.PLOTLYENV || {};                                    if (document.getElementById(\"25c488bb-20f1-4967-9249-917d03362b2c\")) {                    Plotly.newPlot(                        \"25c488bb-20f1-4967-9249-917d03362b2c\",                        [{\"alignmentgroup\":\"True\",\"hovertemplate\":\"variable=valence\\u003cbr\\u003egenres=%{x}\\u003cbr\\u003evalue=%{y}\\u003cextra\\u003e\\u003c\\u002fextra\\u003e\",\"legendgroup\":\"valence\",\"marker\":{\"color\":\"#636efa\",\"pattern\":{\"shape\":\"\"}},\"name\":\"valence\",\"offsetgroup\":\"valence\",\"orientation\":\"v\",\"showlegend\":true,\"textposition\":\"auto\",\"x\":[\"basshall\",\"south african house\",\"trap venezolano\",\"turkish edm\",\"alberta hip hop\",\"chinese electropop\",\"afroswing\",\"afro soul\",\"circuit\",\"guaracha\"],\"xaxis\":\"x\",\"y\":[0.5886666666666667,0.8343333333333334,0.706,0.364,0.937,0.199,0.676625,0.743,0.556,0.556],\"yaxis\":\"y\",\"type\":\"bar\"},{\"alignmentgroup\":\"True\",\"hovertemplate\":\"variable=energy\\u003cbr\\u003egenres=%{x}\\u003cbr\\u003evalue=%{y}\\u003cextra\\u003e\\u003c\\u002fextra\\u003e\",\"legendgroup\":\"energy\",\"marker\":{\"color\":\"#EF553B\",\"pattern\":{\"shape\":\"\"}},\"name\":\"energy\",\"offsetgroup\":\"energy\",\"orientation\":\"v\",\"showlegend\":true,\"textposition\":\"auto\",\"x\":[\"basshall\",\"south african house\",\"trap venezolano\",\"turkish edm\",\"alberta hip hop\",\"chinese electropop\",\"afroswing\",\"afro soul\",\"circuit\",\"guaracha\"],\"xaxis\":\"x\",\"y\":[0.6301666666666668,0.5623333333333332,0.777,0.7190000000000001,0.685,0.787,0.5801875,0.873,0.972,0.972],\"yaxis\":\"y\",\"type\":\"bar\"},{\"alignmentgroup\":\"True\",\"hovertemplate\":\"variable=danceability\\u003cbr\\u003egenres=%{x}\\u003cbr\\u003evalue=%{y}\\u003cextra\\u003e\\u003c\\u002fextra\\u003e\",\"legendgroup\":\"danceability\",\"marker\":{\"color\":\"#00cc96\",\"pattern\":{\"shape\":\"\"}},\"name\":\"danceability\",\"offsetgroup\":\"danceability\",\"orientation\":\"v\",\"showlegend\":true,\"textposition\":\"auto\",\"x\":[\"basshall\",\"south african house\",\"trap venezolano\",\"turkish edm\",\"alberta hip hop\",\"chinese electropop\",\"afroswing\",\"afro soul\",\"circuit\",\"guaracha\"],\"xaxis\":\"x\",\"y\":[0.8180000000000001,0.847,0.877,0.698,0.885,0.66,0.71175,0.7659999999999999,0.745,0.745],\"yaxis\":\"y\",\"type\":\"bar\"},{\"alignmentgroup\":\"True\",\"hovertemplate\":\"variable=acousticness\\u003cbr\\u003egenres=%{x}\\u003cbr\\u003evalue=%{y}\\u003cextra\\u003e\\u003c\\u002fextra\\u003e\",\"legendgroup\":\"acousticness\",\"marker\":{\"color\":\"#ab63fa\",\"pattern\":{\"shape\":\"\"}},\"name\":\"acousticness\",\"offsetgroup\":\"acousticness\",\"orientation\":\"v\",\"showlegend\":true,\"textposition\":\"auto\",\"x\":[\"basshall\",\"south african house\",\"trap venezolano\",\"turkish edm\",\"alberta hip hop\",\"chinese electropop\",\"afroswing\",\"afro soul\",\"circuit\",\"guaracha\"],\"xaxis\":\"x\",\"y\":[0.2131666666666666,0.0438333333333333,0.0446,0.00829,0.33,0.00257,0.31845,0.00627,0.00903,0.00903],\"yaxis\":\"y\",\"type\":\"bar\"}],                        {\"template\":{\"data\":{\"histogram2dcontour\":[{\"type\":\"histogram2dcontour\",\"colorbar\":{\"outlinewidth\":0,\"ticks\":\"\"},\"colorscale\":[[0.0,\"#0d0887\"],[0.1111111111111111,\"#46039f\"],[0.2222222222222222,\"#7201a8\"],[0.3333333333333333,\"#9c179e\"],[0.4444444444444444,\"#bd3786\"],[0.5555555555555556,\"#d8576b\"],[0.6666666666666666,\"#ed7953\"],[0.7777777777777778,\"#fb9f3a\"],[0.8888888888888888,\"#fdca26\"],[1.0,\"#f0f921\"]]}],\"choropleth\":[{\"type\":\"choropleth\",\"colorbar\":{\"outlinewidth\":0,\"ticks\":\"\"}}],\"histogram2d\":[{\"type\":\"histogram2d\",\"colorbar\":{\"outlinewidth\":0,\"ticks\":\"\"},\"colorscale\":[[0.0,\"#0d0887\"],[0.1111111111111111,\"#46039f\"],[0.2222222222222222,\"#7201a8\"],[0.3333333333333333,\"#9c179e\"],[0.4444444444444444,\"#bd3786\"],[0.5555555555555556,\"#d8576b\"],[0.6666666666666666,\"#ed7953\"],[0.7777777777777778,\"#fb9f3a\"],[0.8888888888888888,\"#fdca26\"],[1.0,\"#f0f921\"]]}],\"heatmap\":[{\"type\":\"heatmap\",\"colorbar\":{\"outlinewidth\":0,\"ticks\":\"\"},\"colorscale\":[[0.0,\"#0d0887\"],[0.1111111111111111,\"#46039f\"],[0.2222222222222222,\"#7201a8\"],[0.3333333333333333,\"#9c179e\"],[0.4444444444444444,\"#bd3786\"],[0.5555555555555556,\"#d8576b\"],[0.6666666666666666,\"#ed7953\"],[0.7777777777777778,\"#fb9f3a\"],[0.8888888888888888,\"#fdca26\"],[1.0,\"#f0f921\"]]}],\"heatmapgl\":[{\"type\":\"heatmapgl\",\"colorbar\":{\"outlinewidth\":0,\"ticks\":\"\"},\"colorscale\":[[0.0,\"#0d0887\"],[0.1111111111111111,\"#46039f\"],[0.2222222222222222,\"#7201a8\"],[0.3333333333333333,\"#9c179e\"],[0.4444444444444444,\"#bd3786\"],[0.5555555555555556,\"#d8576b\"],[0.6666666666666666,\"#ed7953\"],[0.7777777777777778,\"#fb9f3a\"],[0.8888888888888888,\"#fdca26\"],[1.0,\"#f0f921\"]]}],\"contourcarpet\":[{\"type\":\"contourcarpet\",\"colorbar\":{\"outlinewidth\":0,\"ticks\":\"\"}}],\"contour\":[{\"type\":\"contour\",\"colorbar\":{\"outlinewidth\":0,\"ticks\":\"\"},\"colorscale\":[[0.0,\"#0d0887\"],[0.1111111111111111,\"#46039f\"],[0.2222222222222222,\"#7201a8\"],[0.3333333333333333,\"#9c179e\"],[0.4444444444444444,\"#bd3786\"],[0.5555555555555556,\"#d8576b\"],[0.6666666666666666,\"#ed7953\"],[0.7777777777777778,\"#fb9f3a\"],[0.8888888888888888,\"#fdca26\"],[1.0,\"#f0f921\"]]}],\"surface\":[{\"type\":\"surface\",\"colorbar\":{\"outlinewidth\":0,\"ticks\":\"\"},\"colorscale\":[[0.0,\"#0d0887\"],[0.1111111111111111,\"#46039f\"],[0.2222222222222222,\"#7201a8\"],[0.3333333333333333,\"#9c179e\"],[0.4444444444444444,\"#bd3786\"],[0.5555555555555556,\"#d8576b\"],[0.6666666666666666,\"#ed7953\"],[0.7777777777777778,\"#fb9f3a\"],[0.8888888888888888,\"#fdca26\"],[1.0,\"#f0f921\"]]}],\"mesh3d\":[{\"type\":\"mesh3d\",\"colorbar\":{\"outlinewidth\":0,\"ticks\":\"\"}}],\"scatter\":[{\"fillpattern\":{\"fillmode\":\"overlay\",\"size\":10,\"solidity\":0.2},\"type\":\"scatter\"}],\"parcoords\":[{\"type\":\"parcoords\",\"line\":{\"colorbar\":{\"outlinewidth\":0,\"ticks\":\"\"}}}],\"scatterpolargl\":[{\"type\":\"scatterpolargl\",\"marker\":{\"colorbar\":{\"outlinewidth\":0,\"ticks\":\"\"}}}],\"bar\":[{\"error_x\":{\"color\":\"#2a3f5f\"},\"error_y\":{\"color\":\"#2a3f5f\"},\"marker\":{\"line\":{\"color\":\"#E5ECF6\",\"width\":0.5},\"pattern\":{\"fillmode\":\"overlay\",\"size\":10,\"solidity\":0.2}},\"type\":\"bar\"}],\"scattergeo\":[{\"type\":\"scattergeo\",\"marker\":{\"colorbar\":{\"outlinewidth\":0,\"ticks\":\"\"}}}],\"scatterpolar\":[{\"type\":\"scatterpolar\",\"marker\":{\"colorbar\":{\"outlinewidth\":0,\"ticks\":\"\"}}}],\"histogram\":[{\"marker\":{\"pattern\":{\"fillmode\":\"overlay\",\"size\":10,\"solidity\":0.2}},\"type\":\"histogram\"}],\"scattergl\":[{\"type\":\"scattergl\",\"marker\":{\"colorbar\":{\"outlinewidth\":0,\"ticks\":\"\"}}}],\"scatter3d\":[{\"type\":\"scatter3d\",\"line\":{\"colorbar\":{\"outlinewidth\":0,\"ticks\":\"\"}},\"marker\":{\"colorbar\":{\"outlinewidth\":0,\"ticks\":\"\"}}}],\"scattermapbox\":[{\"type\":\"scattermapbox\",\"marker\":{\"colorbar\":{\"outlinewidth\":0,\"ticks\":\"\"}}}],\"scatterternary\":[{\"type\":\"scatterternary\",\"marker\":{\"colorbar\":{\"outlinewidth\":0,\"ticks\":\"\"}}}],\"scattercarpet\":[{\"type\":\"scattercarpet\",\"marker\":{\"colorbar\":{\"outlinewidth\":0,\"ticks\":\"\"}}}],\"carpet\":[{\"aaxis\":{\"endlinecolor\":\"#2a3f5f\",\"gridcolor\":\"white\",\"linecolor\":\"white\",\"minorgridcolor\":\"white\",\"startlinecolor\":\"#2a3f5f\"},\"baxis\":{\"endlinecolor\":\"#2a3f5f\",\"gridcolor\":\"white\",\"linecolor\":\"white\",\"minorgridcolor\":\"white\",\"startlinecolor\":\"#2a3f5f\"},\"type\":\"carpet\"}],\"table\":[{\"cells\":{\"fill\":{\"color\":\"#EBF0F8\"},\"line\":{\"color\":\"white\"}},\"header\":{\"fill\":{\"color\":\"#C8D4E3\"},\"line\":{\"color\":\"white\"}},\"type\":\"table\"}],\"barpolar\":[{\"marker\":{\"line\":{\"color\":\"#E5ECF6\",\"width\":0.5},\"pattern\":{\"fillmode\":\"overlay\",\"size\":10,\"solidity\":0.2}},\"type\":\"barpolar\"}],\"pie\":[{\"automargin\":true,\"type\":\"pie\"}]},\"layout\":{\"autotypenumbers\":\"strict\",\"colorway\":[\"#636efa\",\"#EF553B\",\"#00cc96\",\"#ab63fa\",\"#FFA15A\",\"#19d3f3\",\"#FF6692\",\"#B6E880\",\"#FF97FF\",\"#FECB52\"],\"font\":{\"color\":\"#2a3f5f\"},\"hovermode\":\"closest\",\"hoverlabel\":{\"align\":\"left\"},\"paper_bgcolor\":\"white\",\"plot_bgcolor\":\"#E5ECF6\",\"polar\":{\"bgcolor\":\"#E5ECF6\",\"angularaxis\":{\"gridcolor\":\"white\",\"linecolor\":\"white\",\"ticks\":\"\"},\"radialaxis\":{\"gridcolor\":\"white\",\"linecolor\":\"white\",\"ticks\":\"\"}},\"ternary\":{\"bgcolor\":\"#E5ECF6\",\"aaxis\":{\"gridcolor\":\"white\",\"linecolor\":\"white\",\"ticks\":\"\"},\"baxis\":{\"gridcolor\":\"white\",\"linecolor\":\"white\",\"ticks\":\"\"},\"caxis\":{\"gridcolor\":\"white\",\"linecolor\":\"white\",\"ticks\":\"\"}},\"coloraxis\":{\"colorbar\":{\"outlinewidth\":0,\"ticks\":\"\"}},\"colorscale\":{\"sequential\":[[0.0,\"#0d0887\"],[0.1111111111111111,\"#46039f\"],[0.2222222222222222,\"#7201a8\"],[0.3333333333333333,\"#9c179e\"],[0.4444444444444444,\"#bd3786\"],[0.5555555555555556,\"#d8576b\"],[0.6666666666666666,\"#ed7953\"],[0.7777777777777778,\"#fb9f3a\"],[0.8888888888888888,\"#fdca26\"],[1.0,\"#f0f921\"]],\"sequentialminus\":[[0.0,\"#0d0887\"],[0.1111111111111111,\"#46039f\"],[0.2222222222222222,\"#7201a8\"],[0.3333333333333333,\"#9c179e\"],[0.4444444444444444,\"#bd3786\"],[0.5555555555555556,\"#d8576b\"],[0.6666666666666666,\"#ed7953\"],[0.7777777777777778,\"#fb9f3a\"],[0.8888888888888888,\"#fdca26\"],[1.0,\"#f0f921\"]],\"diverging\":[[0,\"#8e0152\"],[0.1,\"#c51b7d\"],[0.2,\"#de77ae\"],[0.3,\"#f1b6da\"],[0.4,\"#fde0ef\"],[0.5,\"#f7f7f7\"],[0.6,\"#e6f5d0\"],[0.7,\"#b8e186\"],[0.8,\"#7fbc41\"],[0.9,\"#4d9221\"],[1,\"#276419\"]]},\"xaxis\":{\"gridcolor\":\"white\",\"linecolor\":\"white\",\"ticks\":\"\",\"title\":{\"standoff\":15},\"zerolinecolor\":\"white\",\"automargin\":true,\"zerolinewidth\":2},\"yaxis\":{\"gridcolor\":\"white\",\"linecolor\":\"white\",\"ticks\":\"\",\"title\":{\"standoff\":15},\"zerolinecolor\":\"white\",\"automargin\":true,\"zerolinewidth\":2},\"scene\":{\"xaxis\":{\"backgroundcolor\":\"#E5ECF6\",\"gridcolor\":\"white\",\"linecolor\":\"white\",\"showbackground\":true,\"ticks\":\"\",\"zerolinecolor\":\"white\",\"gridwidth\":2},\"yaxis\":{\"backgroundcolor\":\"#E5ECF6\",\"gridcolor\":\"white\",\"linecolor\":\"white\",\"showbackground\":true,\"ticks\":\"\",\"zerolinecolor\":\"white\",\"gridwidth\":2},\"zaxis\":{\"backgroundcolor\":\"#E5ECF6\",\"gridcolor\":\"white\",\"linecolor\":\"white\",\"showbackground\":true,\"ticks\":\"\",\"zerolinecolor\":\"white\",\"gridwidth\":2}},\"shapedefaults\":{\"line\":{\"color\":\"#2a3f5f\"}},\"annotationdefaults\":{\"arrowcolor\":\"#2a3f5f\",\"arrowhead\":0,\"arrowwidth\":1},\"geo\":{\"bgcolor\":\"white\",\"landcolor\":\"#E5ECF6\",\"subunitcolor\":\"white\",\"showland\":true,\"showlakes\":true,\"lakecolor\":\"white\"},\"title\":{\"x\":0.05},\"mapbox\":{\"style\":\"light\"}}},\"xaxis\":{\"anchor\":\"y\",\"domain\":[0.0,1.0],\"title\":{\"text\":\"genres\"}},\"yaxis\":{\"anchor\":\"x\",\"domain\":[0.0,1.0],\"title\":{\"text\":\"value\"}},\"legend\":{\"title\":{\"text\":\"variable\"},\"tracegroupgap\":0},\"margin\":{\"t\":60},\"barmode\":\"group\"},                        {\"responsive\": true}                    ).then(function(){\n",
              "                            \n",
              "var gd = document.getElementById('25c488bb-20f1-4967-9249-917d03362b2c');\n",
              "var x = new MutationObserver(function (mutations, observer) {{\n",
              "        var display = window.getComputedStyle(gd).display;\n",
              "        if (!display || display === 'none') {{\n",
              "            console.log([gd, 'removed!']);\n",
              "            Plotly.purge(gd);\n",
              "            observer.disconnect();\n",
              "        }}\n",
              "}});\n",
              "\n",
              "// Listen for the removal of the full notebook cells\n",
              "var notebookContainer = gd.closest('#notebook-container');\n",
              "if (notebookContainer) {{\n",
              "    x.observe(notebookContainer, {childList: true});\n",
              "}}\n",
              "\n",
              "// Listen for the clearing of the current output cell\n",
              "var outputEl = gd.closest('.output');\n",
              "if (outputEl) {{\n",
              "    x.observe(outputEl, {childList: true});\n",
              "}}\n",
              "\n",
              "                        })                };                            </script>        </div>\n",
              "</body>\n",
              "</html>"
            ]
          },
          "metadata": {}
        }
      ]
    },
    {
      "cell_type": "code",
      "source": [
        "from sklearn.cluster import KMeans\n",
        "from sklearn.preprocessing import StandardScaler\n",
        "from sklearn.pipeline import Pipeline\n",
        "\n",
        "# Remove n_jobs parameter from KMeans instantiation\n",
        "cluster_pipeline = Pipeline([('scaler', StandardScaler()), ('kmeans', KMeans(n_clusters=10))])\n",
        "\n",
        "X = genre_data.select_dtypes(np.number)\n",
        "cluster_pipeline.fit(X)\n",
        "genre_data['cluster'] = cluster_pipeline.predict(X)"
      ],
      "metadata": {
        "id": "4jxVOkcB1A8q"
      },
      "execution_count": 20,
      "outputs": []
    },
    {
      "cell_type": "code",
      "source": [
        "from sklearn.manifold import TSNE\n",
        "\n",
        "tsne_pipeline = Pipeline([('scaler', StandardScaler()), ('tsne', TSNE(n_components=2, verbose=1))])\n",
        "genre_embedding = tsne_pipeline.fit_transform(X)\n",
        "projection = pd.DataFrame(columns=['x', 'y'], data=genre_embedding)\n",
        "projection['genres'] = genre_data['genres']\n",
        "projection['cluster'] = genre_data['cluster']\n",
        "\n",
        "fig = px.scatter(\n",
        "    projection, x='x', y='y', color='cluster', hover_data=['x', 'y', 'genres'])\n",
        "fig.show()"
      ],
      "metadata": {
        "colab": {
          "base_uri": "https://localhost:8080/",
          "height": 698
        },
        "id": "jNCbQ7F71G92",
        "outputId": "cebaa9be-56ad-41e1-85ec-91662c4fd9af"
      },
      "execution_count": 21,
      "outputs": [
        {
          "output_type": "stream",
          "name": "stdout",
          "text": [
            "[t-SNE] Computing 91 nearest neighbors...\n",
            "[t-SNE] Indexed 2973 samples in 0.007s...\n",
            "[t-SNE] Computed neighbors for 2973 samples in 0.324s...\n",
            "[t-SNE] Computed conditional probabilities for sample 1000 / 2973\n",
            "[t-SNE] Computed conditional probabilities for sample 2000 / 2973\n",
            "[t-SNE] Computed conditional probabilities for sample 2973 / 2973\n",
            "[t-SNE] Mean sigma: 0.777516\n",
            "[t-SNE] KL divergence after 250 iterations with early exaggeration: 76.106262\n",
            "[t-SNE] KL divergence after 1000 iterations: 1.392294\n"
          ]
        },
        {
          "output_type": "display_data",
          "data": {
            "text/html": [
              "<html>\n",
              "<head><meta charset=\"utf-8\" /></head>\n",
              "<body>\n",
              "    <div>            <script src=\"https://cdnjs.cloudflare.com/ajax/libs/mathjax/2.7.5/MathJax.js?config=TeX-AMS-MML_SVG\"></script><script type=\"text/javascript\">if (window.MathJax && window.MathJax.Hub && window.MathJax.Hub.Config) {window.MathJax.Hub.Config({SVG: {font: \"STIX-Web\"}});}</script>                <script type=\"text/javascript\">window.PlotlyConfig = {MathJaxConfig: 'local'};</script>\n",
              "        <script charset=\"utf-8\" src=\"https://cdn.plot.ly/plotly-2.24.1.min.js\"></script>                <div id=\"35d2defa-294b-42c3-8764-e4328eeb8368\" class=\"plotly-graph-div\" style=\"height:525px; width:100%;\"></div>            <script type=\"text/javascript\">                                    window.PLOTLYENV=window.PLOTLYENV || {};                                    if (document.getElementById(\"35d2defa-294b-42c3-8764-e4328eeb8368\")) {                    Plotly.newPlot(                        \"35d2defa-294b-42c3-8764-e4328eeb8368\",                        [{\"customdata\":[[\"21st century classical\"],[\"432hz\"],[\"8-bit\"],[\"[]\"],[\"a cappella\"],[\"abstract\"],[\"abstract beats\"],[\"abstract hip hop\"],[\"accordeon\"],[\"accordion\"],[\"acid house\"],[\"acid rock\"],[\"acid trance\"],[\"acousmatic\"],[\"acoustic blues\"],[\"acoustic pop\"],[\"acoustic punk\"],[\"acoustic rock\"],[\"action rock\"],[\"adoracion\"],[\"adult standards\"],[\"adventista\"],[\"afghan pop\"],[\"afghan traditional\"],[\"african percussion\"],[\"african reggae\"],[\"african rock\"],[\"african-american classical\"],[\"afro dancehall\"],[\"afro house\"],[\"afro psych\"],[\"afro soul\"],[\"afro-funk\"],[\"afrobeat\"],[\"afrofuturism\"],[\"afrofuturismo brasileiro\"],[\"afropop\"],[\"afroswing\"],[\"aggrotech\"],[\"alabama indie\"],[\"alabama metal\"],[\"alabama rap\"],[\"alaska indie\"],[\"albanian pop\"],[\"albany ny indie\"],[\"alberta country\"],[\"alberta hip hop\"],[\"album rock\"],[\"albuquerque indie\"],[\"alt-idol\"],[\"alte\"],[\"alternative americana\"],[\"alternative country\"],[\"alternative dance\"],[\"alternative emo\"],[\"alternative hip hop\"],[\"alternative metal\"],[\"alternative pop\"],[\"alternative pop rock\"],[\"alternative r&b\"],[\"alternative rock\"],[\"alternative roots rock\"],[\"ambeat\"],[\"ambient\"],[\"ambient black metal\"],[\"ambient folk\"],[\"ambient house\"],[\"ambient idm\"],[\"ambient industrial\"],[\"ambient pop\"],[\"ambient techno\"],[\"ambient worship\"],[\"american 21st century classical\"],[\"american choir\"],[\"american classical piano\"],[\"american contemporary classical\"],[\"american early music\"],[\"american folk revival\"],[\"american metalcore\"],[\"american modern classical\"],[\"american oi\"],[\"american orchestra\"],[\"american post-rock\"],[\"american primitive\"],[\"american romanticism\"],[\"american shoegaze\"],[\"anadolu rock\"],[\"anarcho-punk\"],[\"anglican liturgy\"],[\"animal singing\"],[\"anime\"],[\"anime latino\"],[\"anime rock\"],[\"anime score\"],[\"ann arbor indie\"],[\"anthem emo\"],[\"anthem worship\"],[\"anti-folk\"],[\"antilliaanse folklore\"],[\"antiviral pop\"],[\"appalachian folk\"],[\"arab folk\"],[\"arab groove\"],[\"arab pop\"],[\"arabesk\"],[\"arabic hip hop\"],[\"arabic jazz\"],[\"argentine ambient\"],[\"argentine hardcore\"],[\"argentine heavy metal\"],[\"argentine hip hop\"],[\"argentine indie\"],[\"argentine metal\"],[\"argentine punk\"],[\"argentine reggae\"],[\"argentine rock\"],[\"argentine telepop\"],[\"arizona punk\"],[\"arkansas country\"],[\"arkansas hip hop\"],[\"arkansas indie\"],[\"armenian folk\"],[\"art pop\"],[\"art punk\"],[\"art rock\"],[\"art song\"],[\"asbury park indie\"],[\"asheville indie\"],[\"asian american hip hop\"],[\"asmr\"],[\"athens indie\"],[\"atl hip hop\"],[\"atl trap\"],[\"atlanta indie\"],[\"atlanta metal\"],[\"atlanta punk\"],[\"atmosphere\"],[\"atmospheric black metal\"],[\"atmospheric dnb\"],[\"atmospheric post-metal\"],[\"atmospheric post-rock\"],[\"atmospheric sludge\"],[\"auckland indie\"],[\"audiophile vocal\"],[\"aussietronica\"],[\"austin americana\"],[\"austin singer-songwriter\"],[\"austindie\"],[\"australian alternative pop\"],[\"australian alternative rock\"],[\"australian ambient\"],[\"australian children's music\"],[\"australian choir\"],[\"australian classical\"],[\"australian classical piano\"],[\"australian country\"],[\"australian dance\"],[\"australian electropop\"],[\"australian garage punk\"],[\"australian hip hop\"],[\"australian house\"],[\"australian indie\"],[\"australian indie folk\"],[\"australian indie rock\"],[\"australian indigenous\"],[\"australian metal\"],[\"australian metalcore\"],[\"australian pop\"],[\"australian post-hardcore\"],[\"australian post-punk\"],[\"australian psych\"],[\"australian r&b\"],[\"australian reggae fusion\"],[\"australian rock\"],[\"australian singer-songwriter\"],[\"australian ska\"],[\"australian talent show\"],[\"australian trap\"],[\"australian underground hip hop\"],[\"austrian choir\"],[\"austrian classical piano\"],[\"austrian orchestra\"],[\"austrian pop\"],[\"austro-german modernism\"],[\"austropop\"],[\"autoharp\"],[\"autonomous black metal\"],[\"avant-garde\"],[\"avant-garde jazz\"],[\"avant-garde metal\"],[\"axe\"],[\"azeri traditional\"],[\"azonto\"],[\"azontobeats\"],[\"bachata\"],[\"bachata dominicana\"],[\"background music\"],[\"background piano\"],[\"baglama\"],[\"bahai\"],[\"bahamian folk\"],[\"bahamian pop\"],[\"baiao\"],[\"bajki\"],[\"bakersfield sound\"],[\"balearic\"],[\"balkan brass\"],[\"balkan classical piano\"],[\"ballet class\"],[\"ballroom\"],[\"baltic classical\"],[\"baltimore hip hop\"],[\"baltimore indie\"],[\"banda\"],[\"banda caliente\"],[\"banda carnavalera\"],[\"bandinhas\"],[\"bandolim\"],[\"bandoneon\"],[\"bangla\"],[\"banjo\"],[\"bansuri\"],[\"barbadian pop\"],[\"barbershop\"],[\"bard\"],[\"barnmusik\"],[\"barockinterpreten\"],[\"baroque\"],[\"baroque brass\"],[\"baroque ensemble\"],[\"baroque pop\"],[\"baroque singing\"],[\"baroque violin\"],[\"baroque woodwind\"],[\"bass house\"],[\"bass music\"],[\"bass trap\"],[\"basshall\"],[\"bassline\"],[\"bath indie\"],[\"baton rouge indie\"],[\"baton rouge rap\"],[\"battle rap\"],[\"bay area hip hop\"],[\"bay area indie\"],[\"bboy\"],[\"bc underground hip hop\"],[\"beach music\"],[\"beat italiano\"],[\"beat poetry\"],[\"beatboxing\"],[\"beatlesque\"],[\"bebop\"],[\"bedroom pop\"],[\"bedroom soul\"],[\"belarusian indie\"],[\"belarusian pop\"],[\"belarusian rock\"],[\"belgian classical piano\"],[\"belgian contemporary classical\"],[\"belgian dance\"],[\"belgian edm\"],[\"belgian hardcore\"],[\"belgian indie\"],[\"belgian indie rock\"],[\"belgian jazz\"],[\"belgian new wave\"],[\"belgian pop\"],[\"belgian rock\"],[\"belgian singer-songwriter\"],[\"belgian techno\"],[\"belly dance\"],[\"bengali folk\"],[\"beninese pop\"],[\"bergen indie\"],[\"berlin minimal techno\"],[\"berlin school\"],[\"bhajan\"],[\"bhangra\"],[\"bible\"],[\"big band\"],[\"big beat\"],[\"big room\"],[\"binaural\"],[\"birdsong\"],[\"birmingham grime\"],[\"birmingham hip hop\"],[\"birmingham metal\"],[\"bitpop\"],[\"black 'n' roll\"],[\"black comedy\"],[\"black metal\"],[\"black punk\"],[\"black thrash\"],[\"blackened crust\"],[\"blackgaze\"],[\"bleep techno\"],[\"bluegrass\"],[\"bluegrass fiddle\"],[\"bluegrass gospel\"],[\"blues\"],[\"blues latinoamericano\"],[\"blues mexicano\"],[\"blues rock\"],[\"bmore\"],[\"bolero\"],[\"bolero cubano\"],[\"boogaloo\"],[\"boogie\"],[\"boogie-woogie\"],[\"boom bap\"],[\"boom bap brasileiro\"],[\"bossa nova\"],[\"bossa nova jazz\"],[\"boston folk\"],[\"boston hardcore\"],[\"boston hip hop\"],[\"boston indie\"],[\"boston metal\"],[\"boston punk\"],[\"boston rock\"],[\"bounce\"],[\"bouncy house\"],[\"bouzouki\"],[\"bow pop\"],[\"boy band\"],[\"boy pop\"],[\"boy soprano\"],[\"brain waves\"],[\"braindance\"],[\"brass band\"],[\"brass ensemble\"],[\"brass quintet\"],[\"brazilian boogie\"],[\"brazilian classical\"],[\"brazilian classical piano\"],[\"brazilian contemporary classical\"],[\"brazilian edm\"],[\"brazilian groove metal\"],[\"brazilian hip hop\"],[\"brazilian indie\"],[\"brazilian jazz\"],[\"brazilian metal\"],[\"brazilian modern jazz\"],[\"brazilian percussion\"],[\"brazilian punk\"],[\"brazilian reggae\"],[\"brazilian rock\"],[\"brazilian ska\"],[\"brazilian soul\"],[\"brazilian thrash metal\"],[\"breakbeat\"],[\"breakcore\"],[\"brega\"],[\"breton folk\"],[\"brighton indie\"],[\"brill building pop\"],[\"brisbane indie\"],[\"bristol electronic\"],[\"bristol indie\"],[\"brit funk\"],[\"british alternative rock\"],[\"british black metal\"],[\"british blues\"],[\"british children's music\"],[\"british choir\"],[\"british classical piano\"],[\"british comedy\"],[\"british contemporary classical\"],[\"british dance band\"],[\"british death metal\"],[\"british experimental\"],[\"british folk\"],[\"british grindcore\"],[\"british indie rock\"],[\"british industrial\"],[\"british invasion\"],[\"british jazz\"],[\"british modern classical\"],[\"british orchestra\"],[\"british post-rock\"],[\"british power metal\"],[\"british singer-songwriter\"],[\"british soul\"],[\"british soundtrack\"],[\"britpop\"],[\"broadway\"],[\"broken beat\"],[\"bronx hip hop\"],[\"brooklyn drill\"],[\"brooklyn indie\"],[\"brostep\"],[\"brutal death metal\"],[\"brutal deathcore\"],[\"bubble trance\"],[\"bubblegrunge\"],[\"bubblegum dance\"],[\"bubblegum pop\"],[\"buffalo hip hop\"],[\"buffalo ny indie\"],[\"buffalo ny metal\"],[\"bulgarian experimental\"],[\"burmese traditional\"],[\"bush ballad\"],[\"c-pop\"],[\"c86\"],[\"cabaret\"],[\"cajun\"],[\"calgary indie\"],[\"cali rap\"],[\"calming instrumental\"],[\"calypso\"],[\"cambodian rock\"],[\"cambridge choir\"],[\"cambridgeshire indie\"],[\"cameroonian pop\"],[\"canadian americana\"],[\"canadian blues\"],[\"canadian ccm\"],[\"canadian celtic\"],[\"canadian children's music\"],[\"canadian choir\"],[\"canadian classical\"],[\"canadian classical piano\"],[\"canadian comedy\"],[\"canadian contemporary country\"],[\"canadian contemporary r&b\"],[\"canadian country\"],[\"canadian electronic\"],[\"canadian electropop\"],[\"canadian experimental\"],[\"canadian folk\"],[\"canadian hardcore\"],[\"canadian hip hop\"],[\"canadian house\"],[\"canadian indie\"],[\"canadian indie folk\"],[\"canadian indigenous\"],[\"canadian indigenous hip hop\"],[\"canadian latin\"],[\"canadian metal\"],[\"canadian metalcore\"],[\"canadian modern jazz\"],[\"canadian pop\"],[\"canadian pop punk\"],[\"canadian post-hardcore\"],[\"canadian post-rock\"],[\"canadian psychedelic\"],[\"canadian punk\"],[\"canadian rock\"],[\"canadian rockabilly\"],[\"canadian singer-songwriter\"],[\"canadian soundtrack\"],[\"cancion melodica\"],[\"candy pop\"],[\"cantautor\"],[\"cante flamenco\"],[\"canterbury scene\"],[\"canto popular uruguayo\"],[\"cantopop\"],[\"canzone d'autore\"],[\"canzone genovese\"],[\"canzone napoletana\"],[\"cape town indie\"],[\"cape verdean folk\"],[\"capoeira\"],[\"caracas indie\"],[\"carnatic\"],[\"carnatic instrumental\"],[\"carnatic vocal\"],[\"cartoon\"],[\"cathedral choir\"],[\"caucasian classical\"],[\"caucasian classical piano\"],[\"ccm\"],[\"cedm\"],[\"cello\"],[\"celtic\"],[\"celtic harp\"],[\"celtic metal\"],[\"celtic punk\"],[\"celtic rock\"],[\"cha-cha-cha\"],[\"chakra\"],[\"chamame\"],[\"chamber choir\"],[\"chamber ensemble\"],[\"chamber folk\"],[\"chamber orchestra\"],[\"chamber pop\"],[\"chamber psych\"],[\"champeta\"],[\"channel islands indie\"],[\"channel pop\"],[\"chanson\"],[\"chanson paillarde\"],[\"chaotic hardcore\"],[\"charanga\"],[\"charango\"],[\"charlotte nc indie\"],[\"charlottesville indie\"],[\"chattanooga indie\"],[\"chicago blues\"],[\"chicago drill\"],[\"chicago hardcore\"],[\"chicago house\"],[\"chicago indie\"],[\"chicago pop punk\"],[\"chicago punk\"],[\"chicago rap\"],[\"chicago soul\"],[\"chicano punk\"],[\"chicano rap\"],[\"chicha\"],[\"chihuahua indie\"],[\"children's choir\"],[\"children's folk\"],[\"children's music\"],[\"children's story\"],[\"chilean hardcore\"],[\"chilean indie\"],[\"chilean rock\"],[\"chilena\"],[\"chill beats\"],[\"chill guitar\"],[\"chill lounge\"],[\"chill out\"],[\"chill pop\"],[\"chill r&b\"],[\"chillhop\"],[\"chillstep\"],[\"chillwave\"],[\"chinese audiophile\"],[\"chinese classical\"],[\"chinese classical performance\"],[\"chinese classical piano\"],[\"chinese electropop\"],[\"chinese hip hop\"],[\"chinese idol pop\"],[\"chinese indie\"],[\"chinese indie rock\"],[\"chinese instrumental\"],[\"chinese jazz\"],[\"chinese r&b\"],[\"chinese soundtrack\"],[\"chinese traditional\"],[\"chiptune\"],[\"chopped and screwed\"],[\"choral\"],[\"choro\"],[\"christchurch indie\"],[\"christelijk\"],[\"christian a cappella\"],[\"christian alternative rock\"],[\"christian dance\"],[\"christian hard rock\"],[\"christian hardcore\"],[\"christian hip hop\"],[\"christian indie\"],[\"christian metal\"],[\"christian metalcore\"],[\"christian music\"],[\"christian pop\"],[\"christian power metal\"],[\"christian punk\"],[\"christian relaxative\"],[\"christian rock\"],[\"christian trap\"],[\"christian uplift\"],[\"christmas instrumental\"],[\"christmas product\"],[\"chunchaca\"],[\"chutney\"],[\"cincinnati rap\"],[\"cinematic post-rock\"],[\"circuit\"],[\"circus\"],[\"classic afrobeat\"],[\"classic arab pop\"],[\"classic australian country\"],[\"classic belgian pop\"],[\"classic bhangra\"],[\"classic bollywood\"],[\"classic canadian rock\"],[\"classic cantopop\"],[\"classic colombian pop\"],[\"classic country pop\"],[\"classic czech pop\"],[\"classic danish pop\"],[\"classic dubstep\"],[\"classic eurovision\"],[\"classic finnish pop\"],[\"classic french pop\"],[\"classic garage rock\"],[\"classic girl group\"],[\"classic greek pop\"],[\"classic hardstyle\"],[\"classic icelandic pop\"],[\"classic indo pop\"],[\"classic iskelma\"],[\"classic israeli pop\"],[\"classic italian folk pop\"],[\"classic italian pop\"],[\"classic j-rock\"],[\"classic japanese jazz\"],[\"classic korean pop\"],[\"classic latvian pop\"],[\"classic mandopop\"],[\"classic norwegian pop\"],[\"classic opm\"],[\"classic pakistani pop\"],[\"classic persian pop\"],[\"classic peruvian pop\"],[\"classic polish pop\"],[\"classic praise\"],[\"classic psychedelic rock\"],[\"classic punjabi pop\"],[\"classic rock\"],[\"classic russian pop\"],[\"classic russian rock\"],[\"classic schlager\"],[\"classic soul\"],[\"classic soundtrack\"],[\"classic swedish pop\"],[\"classic thai pop\"],[\"classic tunisian pop\"],[\"classic turkish pop\"],[\"classic uk pop\"],[\"classic venezuelan pop\"],[\"classical\"],[\"classical accordion\"],[\"classical baritone\"],[\"classical bass\"],[\"classical cello\"],[\"classical clarinet\"],[\"classical contralto\"],[\"classical countertenor\"],[\"classical era\"],[\"classical flute\"],[\"classical guitar\"],[\"classical harp\"],[\"classical horn\"],[\"classical mandolin\"],[\"classical mezzo-soprano\"],[\"classical oboe\"],[\"classical organ\"],[\"classical performance\"],[\"classical piano\"],[\"classical piano duo\"],[\"classical piano trio\"],[\"classical saxophone\"],[\"classical soprano\"],[\"classical tenor\"],[\"classical trumpet\"],[\"classify\"],[\"clawhammer banjo\"],[\"clean comedy\"],[\"cleveland metal\"],[\"coco\"],[\"collage pop\"],[\"college a cappella\"],[\"colombian hip hop\"],[\"colombian pop\"],[\"colombian rock\"],[\"columbus ohio indie\"],[\"comedy\"],[\"comedy rap\"],[\"comedy rock\"],[\"comic\"],[\"comic metal\"],[\"commons\"],[\"complextro\"],[\"compositional ambient\"],[\"concepcion indie\"],[\"concert band\"],[\"connecticut hardcore\"],[\"connecticut indie\"],[\"conscious hip hop\"],[\"contemporary choir\"],[\"contemporary classical\"],[\"contemporary classical piano\"],[\"contemporary country\"],[\"contemporary folk\"],[\"contemporary gospel\"],[\"contemporary jazz\"],[\"contemporary post-bop\"],[\"contemporary vocal jazz\"],[\"contrabass\"],[\"cool jazz\"],[\"copla\"],[\"cornish folk\"],[\"cornwall indie\"],[\"corrido\"],[\"corridos cristianos\"],[\"corridos tumbados\"],[\"corrosion\"],[\"cosmic american\"],[\"cosmic post-rock\"],[\"country\"],[\"country blues\"],[\"country boogie\"],[\"country dawn\"],[\"country gospel\"],[\"country pop\"],[\"country rap\"],[\"country road\"],[\"country rock\"],[\"coverchill\"],[\"cowboy western\"],[\"cowpunk\"],[\"crack rock steady\"],[\"croatian folk\"],[\"croatian pop\"],[\"croatian rock\"],[\"crossover thrash\"],[\"crunk\"],[\"crust punk\"],[\"cuarteto\"],[\"cuatro venezolano\"],[\"cuban alternative\"],[\"cuban rumba\"],[\"cubaton\"],[\"cumbia\"],[\"cumbia andina mexicana\"],[\"cumbia chilena\"],[\"cumbia colombiana regia\"],[\"cumbia ecuatoriana\"],[\"cumbia funk\"],[\"cumbia lagunera\"],[\"cumbia paraguaya\"],[\"cumbia peruana\"],[\"cumbia pop\"],[\"cumbia ranchera\"],[\"cumbia salvadorena\"],[\"cumbia santafesina\"],[\"cumbia sonidera\"],[\"cumbia villera\"],[\"cyberpunk\"],[\"cymraeg\"],[\"cypriot pop\"],[\"czech classical\"],[\"czech classical piano\"],[\"czech contemporary classical\"],[\"d-beat\"],[\"dabke\"],[\"dakke dak\"],[\"dallas indie\"],[\"dance pop\"],[\"dance rock\"],[\"dance-punk\"],[\"dancehall\"],[\"dangdut\"],[\"danish alternative rock\"],[\"danish classical\"],[\"danish electronic\"],[\"danish electropop\"],[\"danish hip hop\"],[\"danish jazz\"],[\"danish metal\"],[\"danish pop\"],[\"danish pop rock\"],[\"danish post-punk\"],[\"danish punk\"],[\"danish rock\"],[\"danish singer-songwriter\"],[\"dansband\"],[\"danseband\"],[\"dansktop\"],[\"danspunk\"],[\"dark cabaret\"],[\"dark clubbing\"],[\"dark disco\"],[\"dark hardcore\"],[\"dark jazz\"],[\"dark minimal techno\"],[\"dark post-punk\"],[\"dark techno\"],[\"dark trap\"],[\"dark wave\"],[\"darksynth\"],[\"dayton indie\"],[\"dc hardcore\"],[\"dc indie\"],[\"death 'n' roll\"],[\"death metal\"],[\"deathcore\"],[\"deathgrass\"],[\"deathgrind\"],[\"deathrash\"],[\"deathrock\"],[\"deathstep\"],[\"deep acoustic pop\"],[\"deep adult standards\"],[\"deep big room\"],[\"deep ccm\"],[\"deep christian rock\"],[\"deep classic garage rock\"],[\"deep comedy\"],[\"deep contemporary country\"],[\"deep dance pop\"],[\"deep delta blues\"],[\"deep disco\"],[\"deep disco house\"],[\"deep dnb\"],[\"deep east coast hip hop\"],[\"deep euro house\"],[\"deep flow\"],[\"deep free jazz\"],[\"deep freestyle\"],[\"deep full on\"],[\"deep funk\"],[\"deep g funk\"],[\"deep gothic post-punk\"],[\"deep groove house\"],[\"deep house\"],[\"deep idm\"],[\"deep indian pop\"],[\"deep indie singer-songwriter\"],[\"deep latin alternative\"],[\"deep latin christian\"],[\"deep melodic metalcore\"],[\"deep minimal techno\"],[\"deep motown\"],[\"deep new americana\"],[\"deep new wave\"],[\"deep norteno\"],[\"deep northern soul\"],[\"deep pop edm\"],[\"deep progressive house\"],[\"deep psychobilly\"],[\"deep punk rock\"],[\"deep r&b\"],[\"deep ragga\"],[\"deep regional mexican\"],[\"deep smooth jazz\"],[\"deep soft rock\"],[\"deep soul house\"],[\"deep soundtrack\"],[\"deep southern soul\"],[\"deep southern trap\"],[\"deep space rock\"],[\"deep talent show\"],[\"deep tech house\"],[\"deep techno\"],[\"deep tropical house\"],[\"deep underground hip hop\"],[\"deep uplifting trance\"],[\"delta blues\"],[\"dembow\"],[\"denpa-kei\"],[\"denton tx indie\"],[\"denver indie\"],[\"depressive black metal\"],[\"derby indie\"],[\"desert blues\"],[\"desi hip hop\"],[\"desi pop\"],[\"destroy techno\"],[\"detroit hip hop\"],[\"detroit house\"],[\"detroit techno\"],[\"detroit trap\"],[\"detske pisnicky\"],[\"detskie pesni\"],[\"devon indie\"],[\"dfw rap\"],[\"dhrupad\"],[\"digital hardcore\"],[\"dinner jazz\"],[\"dirty south rap\"],[\"dirty texas rap\"],[\"disco\"],[\"disco house\"],[\"disney\"],[\"diva house\"],[\"dixieland\"],[\"diy emo\"],[\"djent\"],[\"dmv rap\"],[\"dominican pop\"],[\"dong-yo\"],[\"doo-wop\"],[\"doom metal\"],[\"double drumming\"],[\"downtempo\"],[\"drama\"],[\"dream pop\"],[\"dream trance\"],[\"dreamgaze\"],[\"dreamo\"],[\"drift\"],[\"drill\"],[\"drill and bass\"],[\"drone\"],[\"drone folk\"],[\"drone metal\"],[\"drum and bass\"],[\"dub\"],[\"dub metal\"],[\"dub poetry\"],[\"dub techno\"],[\"dubstep\"],[\"dubsteppe\"],[\"duduk\"],[\"duluth indie\"],[\"dunedin indie\"],[\"dunedin sound\"],[\"dungeon synth\"],[\"duranguense\"],[\"dusseldorf electronic\"],[\"dutch blues\"],[\"dutch cabaret\"],[\"dutch classical piano\"],[\"dutch death metal\"],[\"dutch dnb\"],[\"dutch edm\"],[\"dutch folk\"],[\"dutch hip hop\"],[\"dutch house\"],[\"dutch indie\"],[\"dutch jazz\"],[\"dutch metal\"],[\"dutch pop\"],[\"dutch prog\"],[\"dutch rap pop\"],[\"dutch rock\"],[\"dutch trance\"],[\"e6fi\"],[\"early american folk\"],[\"early avant garde\"],[\"early modern classical\"],[\"early music\"],[\"early music choir\"],[\"early music ensemble\"],[\"early reggae\"],[\"early romantic era\"],[\"early synthpop\"],[\"early us punk\"],[\"east coast hip hop\"],[\"east coast reggae\"],[\"eastern bloc groove\"],[\"easy listening\"],[\"easycore\"],[\"eau claire indie\"],[\"ebm\"],[\"ecm-style jazz\"],[\"ectofolk\"],[\"ecuadorian pop\"],[\"edm\"],[\"edmonton indie\"],[\"egyptian pop\"],[\"egyptian traditional\"],[\"el paso indie\"],[\"electra\"],[\"electric bass\"],[\"electric blues\"],[\"electro\"],[\"electro house\"],[\"electro jazz\"],[\"electro latino\"],[\"electro swing\"],[\"electro-industrial\"],[\"electro-pop francais\"],[\"electroclash\"],[\"electrofox\"],[\"electronic djent\"],[\"electronic rock\"],[\"electronic trap\"],[\"electronica\"],[\"electronica argentina\"],[\"electropop\"],[\"electropowerpop\"],[\"emo\"],[\"emo mexicano\"],[\"emo punk\"],[\"emo rap\"],[\"emocore\"],[\"english baroque\"],[\"english indie rock\"],[\"english renaissance\"],[\"enka\"],[\"entehno\"],[\"environmental\"],[\"epic doom\"],[\"epicore\"],[\"erhu\"],[\"escape room\"],[\"esperanto\"],[\"essex indie\"],[\"estonian hip hop\"],[\"estonian pop\"],[\"ethereal wave\"],[\"etherpop\"],[\"ethio-jazz\"],[\"ethiopian pop\"],[\"ethnomusicology\"],[\"ethnotronica\"],[\"eugene indie\"],[\"euphoric hardstyle\"],[\"eurobeat\"],[\"eurodance\"],[\"europop\"],[\"euroska\"],[\"eurovision\"],[\"exotica\"],[\"experimental\"],[\"experimental ambient\"],[\"experimental big band\"],[\"experimental dub\"],[\"experimental folk\"],[\"experimental guitar\"],[\"experimental hip hop\"],[\"experimental house\"],[\"experimental indie\"],[\"experimental jazz\"],[\"experimental pop\"],[\"experimental rock\"],[\"experimental vocal\"],[\"fado\"],[\"family gospel\"],[\"faroese pop\"],[\"fast melodic punk\"],[\"fidget house\"],[\"filmi\"],[\"filter house\"],[\"filthstep\"],[\"final fantasy\"],[\"fingerstyle\"],[\"finnish alternative rock\"],[\"finnish classical\"],[\"finnish contemporary classical\"],[\"finnish death metal\"],[\"finnish edm\"],[\"finnish hard rock\"],[\"finnish heavy metal\"],[\"finnish metal\"],[\"finnish power metal\"],[\"finnish soul\"],[\"flamenco\"],[\"flamenco guitar\"],[\"flick hop\"],[\"flint hip hop\"],[\"float house\"],[\"florida death metal\"],[\"florida rap\"],[\"fluxwork\"],[\"fo jing\"],[\"focus\"],[\"focus beats\"],[\"focus trance\"],[\"folclor afrocolombiano\"],[\"folclor colombiano\"],[\"folclore extremeno\"],[\"folclore jujeno\"],[\"folclore navarra\"],[\"folclore salteno\"],[\"folclore tucumano\"],[\"folk\"],[\"folk metal\"],[\"folk punk\"],[\"folk rock\"],[\"folk rock italiano\"],[\"folk-pop\"],[\"folklore argentino\"],[\"folklore boliviano\"],[\"folklore chileno\"],[\"folklore ecuatoriano\"],[\"folklore peruano\"],[\"folklore venezolano\"],[\"folklore veracruzano\"],[\"folkmusik\"],[\"folktronica\"],[\"footwork\"],[\"forro\"],[\"forro tradicional\"],[\"fort worth indie\"],[\"fourth world\"],[\"francoton\"],[\"freak folk\"],[\"freakbeat\"],[\"free folk\"],[\"free improvisation\"],[\"free jazz\"],[\"freestyle\"],[\"french baroque\"],[\"french classical piano\"],[\"french contemporary classical\"],[\"french death metal\"],[\"french dnb\"],[\"french hip hop\"],[\"french indie folk\"],[\"french indie pop\"],[\"french indietronica\"],[\"french jazz\"],[\"french metal\"],[\"french movie tunes\"],[\"french opera\"],[\"french orchestra\"],[\"french pop\"],[\"french post-punk\"],[\"french psychedelic\"],[\"french reggae\"],[\"french rock\"],[\"french romanticism\"],[\"french shoegaze\"],[\"french soundtrack\"],[\"french synthpop\"],[\"french techno\"],[\"frenchcore\"],[\"full on\"],[\"funana\"],[\"funeral doom\"],[\"funk\"],[\"funk 150 bpm\"],[\"funk carioca\"],[\"funk das antigas\"],[\"funk metal\"],[\"funk mexicano\"],[\"funk ostentacao\"],[\"funk paulista\"],[\"funk pop\"],[\"funk rock\"],[\"funky breaks\"],[\"funky tech house\"],[\"future bass\"],[\"future funk\"],[\"future garage\"],[\"future house\"],[\"future rock\"],[\"futurepop\"],[\"g funk\"],[\"gabba\"],[\"gabonese pop\"],[\"gaian doom\"],[\"gainesville indie\"],[\"gaita zuliana\"],[\"galante era\"],[\"gamelan\"],[\"gaming dubstep\"],[\"gaming edm\"],[\"gangster rap\"],[\"garage house\"],[\"garage pop\"],[\"garage psych\"],[\"garage punk\"],[\"garage punk blues\"],[\"garage rock\"],[\"garage rock revival\"],[\"gauze pop\"],[\"gbvfi\"],[\"geek folk\"],[\"geek rock\"],[\"georgian folk\"],[\"german alternative rock\"],[\"german baroque\"],[\"german choir\"],[\"german classical piano\"],[\"german country\"],[\"german dance\"],[\"german hard rock\"],[\"german heavy metal\"],[\"german house\"],[\"german indie\"],[\"german jazz\"],[\"german literature\"],[\"german metal\"],[\"german oi\"],[\"german opera\"],[\"german orchestra\"],[\"german pop\"],[\"german pop rock\"],[\"german post-hardcore\"],[\"german power metal\"],[\"german punk\"],[\"german renaissance\"],[\"german rock\"],[\"german romanticism\"],[\"german show tunes\"],[\"german soundtrack\"],[\"german techno\"],[\"german thrash metal\"],[\"german trance\"],[\"german underground rap\"],[\"ghanaian hip hop\"],[\"ghanaian traditional\"],[\"ghazal\"],[\"ghent indie\"],[\"girl group\"],[\"glam metal\"],[\"glam punk\"],[\"glam rock\"],[\"glee club\"],[\"glitch\"],[\"glitch hop\"],[\"glitch pop\"],[\"glitchcore\"],[\"go-go\"],[\"goregrind\"],[\"gospel\"],[\"gospel antigas\"],[\"gospel blues\"],[\"gospel italiano\"],[\"gospel r&b\"],[\"gospel rap\"],[\"gospel singers\"],[\"gospel soul\"],[\"gothabilly\"],[\"gothenburg indie\"],[\"gothenburg metal\"],[\"gothic alternative\"],[\"gothic americana\"],[\"gothic black metal\"],[\"gothic metal\"],[\"gothic post-punk\"],[\"gothic rock\"],[\"gothic symphonic metal\"],[\"gqom\"],[\"grand rapids indie\"],[\"grave wave\"],[\"greek clarinet\"],[\"greek contemporary classical\"],[\"greek folk\"],[\"greek guitar\"],[\"greek house\"],[\"greek jazz\"],[\"greek pop\"],[\"greek swing\"],[\"gregorian chant\"],[\"grime\"],[\"grindcore\"],[\"griot\"],[\"groove metal\"],[\"groove room\"],[\"grunge\"],[\"grunge pop\"],[\"grupera\"],[\"gruperas inmortales\"],[\"guadalajara indie\"],[\"guam indie\"],[\"guaracha\"],[\"guatemalan pop\"],[\"guidance\"],[\"guinean pop\"],[\"guitarra argentina\"],[\"guitarra clasica\"],[\"guitarra portuguesa\"],[\"gujarati garba\"],[\"gujarati pop\"],[\"guzheng\"],[\"gymcore\"],[\"gypsy\"],[\"gypsy jazz\"],[\"gypsy punk\"],[\"haitian traditional\"],[\"halifax indie\"],[\"halloween\"],[\"hamburg electronic\"],[\"hammered dulcimer\"],[\"hammond organ\"],[\"hands up\"],[\"hangpan\"],[\"happy hardcore\"],[\"hard alternative\"],[\"hard bop\"],[\"hard minimal techno\"],[\"hard rock\"],[\"hard rock brasileiro\"],[\"hardcore\"],[\"hardcore hip hop\"],[\"hardcore punk\"],[\"hardcore techno\"],[\"hardstyle\"],[\"harlem hip hop\"],[\"harlem renaissance\"],[\"harmonica blues\"],[\"harmonica jazz\"],[\"harp\"],[\"harpsichord\"],[\"haryanvi pop\"],[\"hauntology\"],[\"hawaiian\"],[\"hawaiian hip hop\"],[\"hawaiian indie\"],[\"healing\"],[\"heartland rock\"],[\"hi-nrg\"],[\"highlife\"],[\"hindi hip hop\"],[\"hindi indie\"],[\"hindustani classical\"],[\"hindustani instrumental\"],[\"hindustani vocal\"],[\"hip hop\"],[\"hip hop cubano\"],[\"hip house\"],[\"hip pop\"],[\"hiplife\"],[\"histoire pour enfants\"],[\"historic classical performance\"],[\"historic orchestral performance\"],[\"historic piano performance\"],[\"historic string quartet\"],[\"historical keyboard\"],[\"historically informed performance\"],[\"hoerspiel\"],[\"hokkien pop\"],[\"hollywood\"],[\"hong kong hip hop\"],[\"hong kong indie\"],[\"hong kong rock\"],[\"honky tonk\"],[\"honky-tonk piano\"],[\"hopebeat\"],[\"horror punk\"],[\"horror synth\"],[\"horrorcore\"],[\"house\"],[\"houston rap\"],[\"huapango\"],[\"huayno\"],[\"hula\"],[\"humppa\"],[\"hungarian choir\"],[\"hungarian classical performance\"],[\"hungarian classical piano\"],[\"hungarian contemporary classical\"],[\"hungarian edm\"],[\"hungarian folk\"],[\"hungarian pop\"],[\"hungarian rock\"],[\"hungarian techno\"],[\"hurdy-gurdy\"],[\"hyperpop\"],[\"hyphy\"],[\"icelandic classical\"],[\"icelandic electronic\"],[\"icelandic experimental\"],[\"icelandic folk\"],[\"icelandic indie\"],[\"icelandic jazz\"],[\"icelandic pop\"],[\"icelandic rock\"],[\"idaho indie\"],[\"idol\"],[\"idol rock\"],[\"ilahiler\"],[\"ilocano pop\"],[\"impressionism\"],[\"indian classical\"],[\"indian edm\"],[\"indian folk\"],[\"indian fusion\"],[\"indian indie\"],[\"indian instrumental\"],[\"indian jazz\"],[\"indiana hip hop\"],[\"indie anthem-folk\"],[\"indie cafe pop\"],[\"indie deutschrap\"],[\"indie dream pop\"],[\"indie electronica\"],[\"indie electropop\"],[\"indie folk\"],[\"indie game soundtrack\"],[\"indie garage rock\"],[\"indie hip hop\"],[\"indie jazz\"],[\"indie pop\"],[\"indie pop rap\"],[\"indie poptimism\"],[\"indie psych-pop\"],[\"indie punk\"],[\"indie quebecois\"],[\"indie r&b\"],[\"indie rock\"],[\"indie rock mexicano\"],[\"indie rockism\"],[\"indie shoegaze\"],[\"indie singer-songwriter\"],[\"indie soul\"],[\"indie surf\"],[\"indie triste\"],[\"indiecoustica\"],[\"indietronica\"],[\"indonesian hip hop\"],[\"indonesian indie\"],[\"indonesian pop\"],[\"indonesian r&b\"],[\"indonesian worship\"],[\"industrial\"],[\"industrial hardcore\"],[\"industrial hip hop\"],[\"industrial metal\"],[\"industrial rock\"],[\"indy indie\"],[\"instrumental acoustic guitar\"],[\"instrumental bluegrass\"],[\"instrumental funk\"],[\"instrumental grime\"],[\"instrumental math rock\"],[\"instrumental post-rock\"],[\"instrumental progressive metal\"],[\"instrumental rock\"],[\"instrumental soul\"],[\"instrumental stoner rock\"],[\"instrumental surf\"],[\"intelligent dance music\"],[\"iowa hip hop\"],[\"irish accordion\"],[\"irish ballad\"],[\"irish banjo\"],[\"irish classical\"],[\"irish country\"],[\"irish dance\"],[\"irish fiddle\"],[\"irish folk\"],[\"irish hip hop\"],[\"irish indie\"],[\"irish metal\"],[\"irish pop\"],[\"irish pub song\"],[\"irish rock\"],[\"irish singer-songwriter\"],[\"iskelma\"],[\"islamic recitation\"],[\"isle of wight indie\"],[\"israeli classical\"],[\"israeli classical piano\"],[\"israeli folk\"],[\"israeli hip hop\"],[\"israeli mediterranean\"],[\"israeli pop\"],[\"israeli rock\"],[\"israeli singer-songwriter\"],[\"israeli techno\"],[\"italian adult pop\"],[\"italian baritone\"],[\"italian baroque\"],[\"italian baroque ensemble\"],[\"italian bass\"],[\"italian blues\"],[\"italian classical guitar\"],[\"italian classical piano\"],[\"italian contemporary jazz\"],[\"italian disco\"],[\"italian gothic\"],[\"italian gothic metal\"],[\"italian indie pop\"],[\"italian jazz\"],[\"italian library music\"],[\"italian mandolin\"],[\"italian metal\"],[\"italian mezzo-soprano\"],[\"italian modern prog\"],[\"italian opera\"],[\"italian orchestra\"],[\"italian pop rock\"],[\"italian power metal\"],[\"italian progressive metal\"],[\"italian progressive rock\"],[\"italian renaissance\"],[\"italian romanticism\"],[\"italian soprano\"],[\"italian soundtrack\"],[\"italian techno\"],[\"italian tenor\"],[\"italian violin\"],[\"italo dance\"],[\"italo house\"],[\"j-acoustic\"],[\"j-ambient\"],[\"j-dance\"],[\"j-division\"],[\"j-idol\"],[\"j-metal\"],[\"j-pixie\"],[\"j-pop\"],[\"j-pop girl group\"],[\"j-poprock\"],[\"j-punk\"],[\"j-reggae\"],[\"j-rock\"],[\"jacksonville indie\"],[\"jam band\"],[\"jamgrass\"],[\"jamtronica\"],[\"jangle pop\"],[\"japanese alternative rock\"],[\"japanese chillhop\"],[\"japanese city pop\"],[\"japanese classical\"],[\"japanese classical performance\"],[\"japanese classical piano\"],[\"japanese concert band\"],[\"japanese dream pop\"],[\"japanese electronic\"],[\"japanese electropop\"],[\"japanese emo\"],[\"japanese experimental\"],[\"japanese folk\"],[\"japanese garage rock\"],[\"japanese girl punk\"],[\"japanese heavy metal\"],[\"japanese idm\"],[\"japanese indie folk\"],[\"japanese indie rock\"],[\"japanese instrumental\"],[\"japanese jazz\"],[\"japanese jazz fusion\"],[\"japanese jazztronica\"],[\"japanese metalcore\"],[\"japanese new wave\"],[\"japanese piano\"],[\"japanese pop punk\"],[\"japanese post-hardcore\"],[\"japanese power metal\"],[\"japanese prog\"],[\"japanese psychedelic\"],[\"japanese punk rock\"],[\"japanese r&b\"],[\"japanese rockabilly\"],[\"japanese singer-songwriter\"],[\"japanese soundtrack\"],[\"japanese traditional\"],[\"japanese vgm\"],[\"japanese vocal jazz\"],[\"jawaiian\"],[\"jazz\"],[\"jazz accordion\"],[\"jazz blues\"],[\"jazz boom bap\"],[\"jazz brass\"],[\"jazz chileno\"],[\"jazz clarinet\"],[\"jazz colombiano\"],[\"jazz cubano\"],[\"jazz double bass\"],[\"jazz drums\"],[\"jazz flute\"],[\"jazz funk\"],[\"jazz fusion\"],[\"jazz guitar\"],[\"jazz harp\"],[\"jazz metal\"],[\"jazz mexicano\"],[\"jazz orchestra\"],[\"jazz organ\"],[\"jazz piano\"],[\"jazz pop\"],[\"jazz quartet\"],[\"jazz rap\"],[\"jazz rock\"],[\"jazz saxophone\"],[\"jazz trio\"],[\"jazz trombone\"],[\"jazz trumpet\"],[\"jazz tuba\"],[\"jazz venezolano\"],[\"jazz vibraphone\"],[\"jazz violin\"],[\"jazztronica\"],[\"jewish cantorial\"],[\"jewish hip hop\"],[\"jig and reel\"],[\"jordanian pop\"],[\"joropo\"],[\"jovem guarda\"],[\"jug band\"],[\"juju\"],[\"jump blues\"],[\"jump up\"],[\"k-indie\"],[\"k-pop\"],[\"k-pop boy group\"],[\"k-pop girl group\"],[\"k-rap\"],[\"kabarett\"],[\"kabyle\"],[\"kaneka\"],[\"kannada bhava geethe\"],[\"kansas city hip hop\"],[\"kashmiri pop\"],[\"kawaii future bass\"],[\"kawaii metal\"],[\"kayokyoku\"],[\"kc indie\"],[\"kent indie\"],[\"kentucky hip hop\"],[\"kentucky indie\"],[\"kentucky metal\"],[\"kentucky mountain folk\"],[\"kentucky punk\"],[\"kentucky roots\"],[\"keroncong\"],[\"khaleeji iraqi\"],[\"khmer\"],[\"kids dance party\"],[\"kindie rock\"],[\"kingston on indie\"],[\"kirtan\"],[\"kiwi rock\"],[\"kizomba antigas\"],[\"kleine hoerspiel\"],[\"klezmer\"],[\"knoxville indie\"],[\"kodomo no ongaku\"],[\"kolsche karneval\"],[\"komedi\"],[\"kompa\"],[\"kora\"],[\"korean classical performance\"],[\"korean classical piano\"],[\"korean indie rock\"],[\"korean mask singer\"],[\"korean pop\"],[\"korean r&b\"],[\"korean trap\"],[\"koto\"],[\"krautrock\"],[\"kundiman\"],[\"la indie\"],[\"la pop\"],[\"laboratorio\"],[\"lafayette indie\"],[\"laiko\"],[\"lancashire indie\"],[\"lancaster pa indie\"],[\"late romantic era\"],[\"latin\"],[\"latin afrobeat\"],[\"latin alternative\"],[\"latin american classical piano\"],[\"latin arena pop\"],[\"latin christian\"],[\"latin classical\"],[\"latin funk\"],[\"latin hip hop\"],[\"latin house\"],[\"latin jazz\"],[\"latin metal\"],[\"latin pop\"],[\"latin rock\"],[\"latin ska\"],[\"latin soundtrack\"],[\"latin talent show\"],[\"latin tech house\"],[\"latin viral pop\"],[\"latin worship\"],[\"latincore\"],[\"latino comedy\"],[\"latintronica\"],[\"latinx alternative\"],[\"latvian pop\"],[\"lds\"],[\"lds youth\"],[\"lebanese pop\"],[\"leicester indie\"],[\"lexington ky indie\"],[\"lgbtq+ hip hop\"],[\"library music\"],[\"liedermacher\"],[\"light music\"],[\"lilith\"],[\"liquid funk\"],[\"lithuanian electronic\"],[\"liverpool indie\"],[\"livetronica\"],[\"lldm\"],[\"lo star\"],[\"lo-fi\"],[\"lo-fi beats\"],[\"lo-fi brasileiro\"],[\"lo-fi chill\"],[\"lo-fi cover\"],[\"lo-fi emo\"],[\"lo-fi house\"],[\"lo-fi indie\"],[\"lo-fi vgm\"],[\"london rap\"],[\"louisiana blues\"],[\"louisiana metal\"],[\"louisville indie\"],[\"louisville underground\"],[\"lounge\"],[\"louvor\"],[\"lovers rock\"],[\"lullaby\"],[\"lund indie\"],[\"lute\"],[\"macedonian folk\"],[\"madchester\"],[\"madrigal\"],[\"magyar alternative\"],[\"maine hip hop\"],[\"maine indie\"],[\"mainland chinese pop\"],[\"makossa\"],[\"malaysian mandopop\"],[\"malaysian pop\"],[\"malian blues\"],[\"mallet\"],[\"malmo indie\"],[\"mambo\"],[\"manchester hip hop\"],[\"manchester indie\"],[\"mande pop\"],[\"mandolin\"],[\"mandopop\"],[\"manguebeat\"],[\"manila sound\"],[\"manitoba indie\"],[\"mantra\"],[\"marathi pop\"],[\"marathi traditional\"],[\"marching band\"],[\"mariachi\"],[\"mariachi cristiano\"],[\"marimba orquesta\"],[\"martial industrial\"],[\"mashup\"],[\"math rock\"],[\"mathcore\"],[\"mbalax\"],[\"medieval\"],[\"medieval folk\"],[\"medieval rock\"],[\"meditation\"],[\"melancholia\"],[\"melbourne bounce\"],[\"melbourne bounce international\"],[\"melbourne indie\"],[\"mellow gold\"],[\"melodic death metal\"],[\"melodic deathcore\"],[\"melodic dubstep\"],[\"melodic groove metal\"],[\"melodic hard rock\"],[\"melodic hardcore\"],[\"melodic metal\"],[\"melodic metalcore\"],[\"melodic power metal\"],[\"melodic rap\"],[\"melodic thrash\"],[\"meme rap\"],[\"memphis americana\"],[\"memphis blues\"],[\"memphis hip hop\"],[\"memphis indie\"],[\"memphis soul\"],[\"mento\"],[\"merengue\"],[\"merengue tipico\"],[\"merseybeat\"],[\"messianic praise\"],[\"metal\"],[\"metal guitar\"],[\"metal mineiro\"],[\"metalcore\"],[\"metropopolis\"],[\"mexican classic rock\"],[\"mexican classical\"],[\"mexican hip hop\"],[\"mexican indie\"],[\"mexican pop\"],[\"mexican pop punk\"],[\"mexican rock\"],[\"mexican rock-and-roll\"],[\"mexican son\"],[\"mexican traditional\"],[\"miami bass\"],[\"miami hip hop\"],[\"miami indie\"],[\"miami metal\"],[\"michigan indie\"],[\"microhouse\"],[\"microtonal\"],[\"middle earth\"],[\"middle east hip hop\"],[\"middle eastern traditional\"],[\"midwest americana\"],[\"midwest emo\"],[\"military cadence\"],[\"military rap\"],[\"milwaukee indie\"],[\"mindfulness\"],[\"minecraft\"],[\"minimal melodic techno\"],[\"minimal tech house\"],[\"minimal techno\"],[\"minimal wave\"],[\"minimalism\"],[\"minneapolis indie\"],[\"minneapolis metal\"],[\"minneapolis punk\"],[\"minneapolis sound\"],[\"minnesota hip hop\"],[\"mississippi hip hop\"],[\"mississippi indie\"],[\"mizrahi\"],[\"mod revival\"],[\"modern alternative pop\"],[\"modern alternative rock\"],[\"modern big band\"],[\"modern blues\"],[\"modern blues rock\"],[\"modern bollywood\"],[\"modern country rock\"],[\"modern dream pop\"],[\"modern folk rock\"],[\"modern funk\"],[\"modern hard rock\"],[\"modern indie pop\"],[\"modern jazz piano\"],[\"modern jazz trio\"],[\"modern old-time\"],[\"modern performance\"],[\"modern power pop\"],[\"modern psychedelic folk\"],[\"modern reggae\"],[\"modern rock\"],[\"modern salsa\"],[\"modern ska punk\"],[\"modern southern rock\"],[\"modern string quartet\"],[\"modern swing\"],[\"modern uplift\"],[\"modular synth\"],[\"moldovan pop\"],[\"mollywood\"],[\"mongolian hip hop\"],[\"mongolian pop\"],[\"monterrey indie\"],[\"montreal indie\"],[\"moog\"],[\"moombahton\"],[\"morna\"],[\"motivation\"],[\"motown\"],[\"mountain dulcimer\"],[\"movie tunes\"],[\"mpb\"],[\"music box\"],[\"music hall\"],[\"musica afroperuana\"],[\"musica alagoana\"],[\"musica andina\"],[\"musica andina colombiana\"],[\"musica antigua\"],[\"musica aragonesa\"],[\"musica ayacuchana\"],[\"musica canaria\"],[\"musica costarricense\"],[\"musica costena\"],[\"musica cristiana guatemalteca\"],[\"musica de fondo\"],[\"musica gaucha tradicionalista\"],[\"musica hondurena\"],[\"musica infantil\"],[\"musica jibara\"],[\"musica juiz-forana\"],[\"musica llanera\"],[\"musica nicaraguense\"],[\"musica para criancas\"],[\"musica para ninos\"],[\"musica paraibana\"],[\"musica piemonteisa\"],[\"musica popular colombiana\"],[\"musica popular mineira\"],[\"musica popular paraense\"],[\"musica potosina\"],[\"musica prehispanica\"],[\"musica sarda\"],[\"musica tradicional cubana\"],[\"musica tropical guatemalteca\"],[\"musical advocacy\"],[\"musikkorps\"],[\"musique concrete\"],[\"musique peule\"],[\"musique pour enfant quebecois\"],[\"musique pour enfants\"],[\"musique touareg\"],[\"muzica populara\"],[\"muzika l'yeladim\"],[\"naija worship\"],[\"nantes indie\"],[\"narodna muzika\"],[\"nashville americana\"],[\"nashville hip hop\"],[\"nashville indie\"],[\"nashville singer-songwriter\"],[\"nashville sound\"],[\"native american\"],[\"native american contemporary\"],[\"native american flute\"],[\"native american hip hop\"],[\"native american spiritual\"],[\"navajo\"],[\"nederlandse hardstyle\"],[\"nederpop\"],[\"neo classical metal\"],[\"neo kyma\"],[\"neo mellow\"],[\"neo r&b\"],[\"neo soul\"],[\"neo-classical\"],[\"neo-kraut\"],[\"neo-pagan\"],[\"neo-progressive\"],[\"neo-psychedelic\"],[\"neo-rockabilly\"],[\"neo-singer-songwriter\"],[\"neo-synthpop\"],[\"neo-trad metal\"],[\"neo-traditional bluegrass\"],[\"neo-traditional country\"],[\"neoclassical darkwave\"],[\"neoclassicism\"],[\"neofolk\"],[\"neon pop punk\"],[\"neotango\"],[\"nepali indie\"],[\"nepali pop\"],[\"nerdcore\"],[\"neue deutsche harte\"],[\"neue deutsche todeskunst\"],[\"neue deutsche welle\"],[\"neurofunk\"],[\"new age\"],[\"new age piano\"],[\"new americana\"],[\"new beat\"],[\"new comedy\"],[\"new england americana\"],[\"new england emo\"],[\"new french touch\"],[\"new isolationism\"],[\"new jack swing\"],[\"new jersey hardcore\"],[\"new jersey indie\"],[\"new jersey punk\"],[\"new jersey rap\"],[\"new mexico music\"],[\"new orleans blues\"],[\"new orleans funk\"],[\"new orleans indie\"],[\"new orleans jazz\"],[\"new orleans rap\"],[\"new rave\"],[\"new romantic\"],[\"new tribe\"],[\"new wave\"],[\"new wave of thrash metal\"],[\"new wave pop\"],[\"new weird america\"],[\"new york death metal\"],[\"new york drill\"],[\"new zealand classical\"],[\"newcastle indie\"],[\"newcastle nsw indie\"],[\"nigerian hip hop\"],[\"nigerian pop\"],[\"nightcore\"],[\"nightrun\"],[\"ninja\"],[\"nintendocore\"],[\"nisiotika\"],[\"nl folk\"],[\"no wave\"],[\"noise pop\"],[\"noise punk\"],[\"noise rock\"],[\"nordic classical piano\"],[\"nordic contemporary classical\"],[\"nordic folk\"],[\"nordic house\"],[\"nordic orchestra\"],[\"nordic post-rock\"],[\"nordic soundtrack\"],[\"norman ok indie\"],[\"norsk lovsang\"],[\"norteno\"],[\"norteno-sax\"],[\"north carolina emo\"],[\"north carolina hip hop\"],[\"north carolina indie\"],[\"north carolina metal\"],[\"north carolina roots\"],[\"north east england indie\"],[\"northern irish indie\"],[\"northern irish punk\"],[\"northern soul\"],[\"norwegian black metal\"],[\"norwegian choir\"],[\"norwegian classical\"],[\"norwegian contemporary jazz\"],[\"norwegian death metal\"],[\"norwegian experimental\"],[\"norwegian hip hop\"],[\"norwegian indie\"],[\"norwegian jazz\"],[\"norwegian metal\"],[\"norwegian pop\"],[\"norwegian pop rap\"],[\"norwegian punk rock\"],[\"norwegian rock\"],[\"norwegian singer-songwriter\"],[\"norwegian space disco\"],[\"nottingham indie\"],[\"nouvelle chanson francaise\"],[\"nova canco\"],[\"nova mpb\"],[\"nova musica pernambucana\"],[\"novelty\"],[\"nu age\"],[\"nu disco\"],[\"nu gaze\"],[\"nu jazz\"],[\"nu metal\"],[\"nu skool breaks\"],[\"nu-cumbia\"],[\"nu-metalcore\"],[\"nubian traditional\"],[\"nueva cancion\"],[\"nueva ola chilena\"],[\"nueva ola peruana\"],[\"nuevo flamenco\"],[\"nuevo folklore mexicano\"],[\"nuevo regional mexicano\"],[\"nuevo tango\"],[\"nursery\"],[\"nwobhm\"],[\"nwothm\"],[\"ny roots\"],[\"nyc pop\"],[\"nyc rap\"],[\"nyhc\"],[\"nz christian\"],[\"nz folk\"],[\"nz hardcore\"],[\"nz indie\"],[\"nz pop\"],[\"nz punk\"],[\"nz reggae\"],[\"nz singer-songwriter\"],[\"oakland hip hop\"],[\"oakland indie\"],[\"oc indie\"],[\"oc rap\"],[\"oceania soundtrack\"],[\"ohio hip hop\"],[\"ohio indie\"],[\"oi\"],[\"ok indie\"],[\"okc indie\"],[\"okinawan pop\"],[\"oklahoma country\"],[\"old school dancehall\"],[\"old school hip hop\"],[\"old school rap francais\"],[\"old school thrash\"],[\"old school uk hip hop\"],[\"old west\"],[\"old-time\"],[\"old-time fiddle\"],[\"olympia wa indie\"],[\"omaha indie\"],[\"one-person band\"],[\"ontario indie\"],[\"opera\"],[\"opera chorus\"],[\"opera metal\"],[\"operatic pop\"],[\"operetta\"],[\"opm\"],[\"oratory\"],[\"orchestra\"],[\"orchestral performance\"],[\"orebro indie\"],[\"organic ambient\"],[\"organic electronic\"],[\"organic house\"],[\"orgcore\"],[\"oriental classical\"],[\"orkney and shetland folk\"],[\"orlando indie\"],[\"orquesta tipica\"],[\"orthodox chant\"],[\"oshare kei\"],[\"otacore\"],[\"oth indie\"],[\"ottawa indie\"],[\"ottawa rap\"],[\"oud\"],[\"outer hip hop\"],[\"outlaw country\"],[\"outsider\"],[\"outsider house\"],[\"oxford choir\"],[\"oxford indie\"],[\"p funk\"],[\"pagan black metal\"],[\"pagode\"],[\"pagode baiano\"],[\"paisley underground\"],[\"pakistani folk\"],[\"pakistani hip hop\"],[\"pakistani pop\"],[\"palestinian pop\"],[\"palm desert scene\"],[\"panamanian pop\"],[\"panamanian rock\"],[\"panpipe\"],[\"papuri\"],[\"parody\"],[\"partido alto\"],[\"partyschlager\"],[\"pei indie\"],[\"permanent wave\"],[\"perreo\"],[\"persian pop\"],[\"persian traditional\"],[\"perth indie\"],[\"peruvian hip hop\"],[\"peruvian rock\"],[\"pet calming\"],[\"philly indie\"],[\"philly rap\"],[\"philly soul\"],[\"phoenix indie\"],[\"phonk\"],[\"pianissimo\"],[\"piano blues\"],[\"piano cover\"],[\"piano mpb\"],[\"piano rock\"],[\"pibroch\"],[\"piedmont blues\"],[\"pinoy hip hop\"],[\"pinoy indie\"],[\"pinoy pop punk\"],[\"pinoy praise\"],[\"pinoy r&b\"],[\"pinoy reggae\"],[\"pinoy rock\"],[\"pinoy traditional\"],[\"pinoy trap\"],[\"pirate\"],[\"pittsburgh indie\"],[\"pittsburgh rap\"],[\"pittsburgh rock\"],[\"pixie\"],[\"plunderphonics\"],[\"poetry\"],[\"polca paraguaya\"],[\"polish blues\"],[\"polish classical\"],[\"polish classical piano\"],[\"polish contemporary classical\"],[\"polish jazz\"],[\"polish modern jazz\"],[\"polish pop\"],[\"polish post-rock\"],[\"polish reggae\"],[\"polish rock\"],[\"political hip hop\"],[\"polka\"],[\"polynesian hip hop\"],[\"polynesian pop\"],[\"polyphony\"],[\"pony\"],[\"pop\"],[\"pop argentino\"],[\"pop chileno\"],[\"pop dance\"],[\"pop edm\"],[\"pop electronico\"],[\"pop emo\"],[\"pop flamenco\"],[\"pop folk\"],[\"pop house\"],[\"pop nacional\"],[\"pop nacional antigas\"],[\"pop peruano\"],[\"pop punk\"],[\"pop quebecois\"],[\"pop r&b\"],[\"pop rap\"],[\"pop reggaeton\"],[\"pop rock\"],[\"pop rock brasileiro\"],[\"pop romantico\"],[\"pop soul\"],[\"pop venezolano\"],[\"pop violin\"],[\"popgaze\"],[\"popping\"],[\"pops orchestra\"],[\"popwave\"],[\"pornogrind\"],[\"porro\"],[\"portland hip hop\"],[\"portland indie\"],[\"portland metal\"],[\"portland punk\"],[\"portuguese early music\"],[\"post-disco\"],[\"post-disco soul\"],[\"post-doom metal\"],[\"post-grunge\"],[\"post-hardcore\"],[\"post-metal\"],[\"post-minimalism\"],[\"post-post-hardcore\"],[\"post-punk\"],[\"post-punk argentina\"],[\"post-rock\"],[\"post-romantic era\"],[\"post-screamo\"],[\"post-teen pop\"],[\"power metal\"],[\"power pop\"],[\"power thrash\"],[\"power-pop punk\"],[\"praise\"],[\"prepared piano\"],[\"preschool children's music\"],[\"prog quebec\"],[\"progressive alternative\"],[\"progressive bluegrass\"],[\"progressive deathcore\"],[\"progressive electro house\"],[\"progressive groove metal\"],[\"progressive house\"],[\"progressive jazz fusion\"],[\"progressive metal\"],[\"progressive metalcore\"],[\"progressive post-hardcore\"],[\"progressive power metal\"],[\"progressive psytrance\"],[\"progressive rock\"],[\"progressive sludge\"],[\"progressive trance\"],[\"progressive trance house\"],[\"progressive uplifting trance\"],[\"proto-rap\"],[\"proto-techno\"],[\"protopunk\"],[\"psalmen\"],[\"psicodelia brasileira\"],[\"psybass\"],[\"psychedelic blues-rock\"],[\"psychedelic doom\"],[\"psychedelic folk\"],[\"psychedelic folk rock\"],[\"psychedelic hip hop\"],[\"psychedelic pop\"],[\"psychedelic punk\"],[\"psychedelic rock\"],[\"psychedelic soul\"],[\"psychedelic trance\"],[\"psychill\"],[\"psychobilly\"],[\"pub rock\"],[\"puerto rican folk\"],[\"puerto rican pop\"],[\"puerto rican rock\"],[\"punjabi folk\"],[\"punjabi hip hop\"],[\"punjabi pop\"],[\"punk\"],[\"punk 'n' roll\"],[\"punk blues\"],[\"punk rock italiano\"],[\"punk rock mexicano\"],[\"punta\"],[\"purple sound\"],[\"qawwali\"],[\"quartetto d'archi\"],[\"quatuor a cordes\"],[\"quebec death metal\"],[\"quebec indie\"],[\"queens hip hop\"],[\"queer country\"],[\"queercore\"],[\"quiet storm\"],[\"quran\"],[\"r&b\"],[\"r&b en espanol\"],[\"rabindra sangeet\"],[\"radio symphony\"],[\"ragtime\"],[\"rai\"],[\"ranchera\"],[\"rap\"],[\"rap chileno\"],[\"rap conciencia\"],[\"rap conscient\"],[\"rap cristiano\"],[\"rap dominicano\"],[\"rap kreyol\"],[\"rap latina\"],[\"rap metal\"],[\"rap nacional antigo\"],[\"rap napoletano\"],[\"rap rock\"],[\"rap underground mexicano\"],[\"rare groove\"],[\"rave\"],[\"rawstyle\"],[\"reading\"],[\"reading indie\"],[\"rebel blues\"],[\"rebetiko\"],[\"recorder\"],[\"red dirt\"],[\"redneck\"],[\"reggae\"],[\"reggae en espanol\"],[\"reggae fusion\"],[\"reggae rock\"],[\"reggaeton\"],[\"reggaeton colombiano\"],[\"reggaeton cristiano\"],[\"reggaeton flow\"],[\"reggaeton mexicano\"],[\"regional mexican\"],[\"relaxative\"],[\"renaissance\"],[\"rennes indie\"],[\"retro metal\"],[\"retro soul\"],[\"rhode island indie\"],[\"rhode island rap\"],[\"rhythm and blues\"],[\"riddim\"],[\"rif\"],[\"riot grrrl\"],[\"ritmo kombina\"],[\"rochester mn indie\"],[\"rochester ny indie\"],[\"rock\"],[\"rock alternatif francais\"],[\"rock alternativo brasileiro\"],[\"rock andaluz\"],[\"rock baiano\"],[\"rock brasiliense\"],[\"rock chapin\"],[\"rock cristiano\"],[\"rock drums\"],[\"rock en espanol\"],[\"rock gaucho\"],[\"rock independant francais\"],[\"rock kapak\"],[\"rock keyboard\"],[\"rock nacional\"],[\"rock nacional brasileiro\"],[\"rock pernambucano\"],[\"rock progressif francais\"],[\"rock steady\"],[\"rock urbano mexicano\"],[\"rock-and-roll\"],[\"rockabilly\"],[\"rockabilly en espanol\"],[\"roda de samba\"],[\"romanian classical piano\"],[\"romanian electronic\"],[\"romanian folk\"],[\"romanian pop\"],[\"romanian rock\"],[\"romantico\"],[\"roots americana\"],[\"roots reggae\"],[\"roots rock\"],[\"roots worship\"],[\"rosary\"],[\"rumba\"],[\"rumba congolaise\"],[\"rune folk\"],[\"russian alternative rock\"],[\"russian ccm\"],[\"russian chanson\"],[\"russian choir\"],[\"russian classical piano\"],[\"russian dance\"],[\"russian edm\"],[\"russian folk\"],[\"russian folk rock\"],[\"russian jazz\"],[\"russian metal\"],[\"russian metalcore\"],[\"russian modern classical\"],[\"russian orchestra\"],[\"russian pop\"],[\"russian post-punk\"],[\"russian punk\"],[\"russian rock\"],[\"russian romanticism\"],[\"russian shoegaze\"],[\"russian trance\"],[\"rva indie\"],[\"rwandan traditional\"],[\"ryukyu ongaku\"],[\"sacramento hip hop\"],[\"sacramento indie\"],[\"sacred steel\"],[\"sad rap\"],[\"salsa\"],[\"salsa choke\"],[\"salsa colombiana\"],[\"salsa cubana\"],[\"salsa international\"],[\"salsa peruana\"],[\"salsa puertorriquena\"],[\"salsa venezolana\"],[\"samba\"],[\"samba de roda\"],[\"samba moderno\"],[\"samba-enredo\"],[\"samba-jazz\"],[\"samba-rock\"],[\"san antonio rap\"],[\"san diego indie\"],[\"san diego rap\"],[\"san marcos tx indie\"],[\"sandalwood\"],[\"sarod\"],[\"saskatchewan indie\"],[\"scam rap\"],[\"scandinavian r&b\"],[\"scandipop\"],[\"schlager\"],[\"scorecore\"],[\"scottish electronic\"],[\"scottish fiddle\"],[\"scottish folk\"],[\"scottish hip hop\"],[\"scottish indie\"],[\"scottish jazz\"],[\"scottish metal\"],[\"scottish new wave\"],[\"scottish rock\"],[\"scottish singer-songwriter\"],[\"scratch\"],[\"scream rap\"],[\"screamo\"],[\"seattle hip hop\"],[\"seattle indie\"],[\"second line\"],[\"sefardi\"],[\"serbian electronic\"],[\"serialism\"],[\"sertanejo\"],[\"sertanejo pop\"],[\"sertanejo tradicional\"],[\"sertanejo universitario\"],[\"sevdah\"],[\"sevillanas\"],[\"shaabi\"],[\"shabad\"],[\"shakuhachi\"],[\"shamanic\"],[\"shanty\"],[\"sheffield indie\"],[\"shibuya-kei\"],[\"shimmer pop\"],[\"shimmer psych\"],[\"shiver pop\"],[\"shoegaze\"],[\"show tunes\"],[\"shred\"],[\"shush\"],[\"sierreno\"],[\"singaporean mandopop\"],[\"singaporean pop\"],[\"singaporean singer-songwriter\"],[\"singer-songwriter\"],[\"singing bowl\"],[\"sitar\"],[\"ska\"],[\"ska argentino\"],[\"ska chileno\"],[\"ska jazz\"],[\"ska mexicano\"],[\"ska punk\"],[\"ska revival\"],[\"skate punk\"],[\"skiffle\"],[\"skramz\"],[\"sky room\"],[\"slack-key guitar\"],[\"slam poetry\"],[\"slamming deathcore\"],[\"slavic folk metal\"],[\"slayer\"],[\"slc indie\"],[\"sleaze rock\"],[\"sleep\"],[\"slovak electronic\"],[\"slovenian electronic\"],[\"slovenian metal\"],[\"slow game\"],[\"slowcore\"],[\"sludge metal\"],[\"small room\"],[\"smooth jazz\"],[\"smooth saxophone\"],[\"smooth soul\"],[\"soca\"],[\"socal pop punk\"],[\"social media pop\"],[\"soda pop\"],[\"soft rock\"],[\"solipsynthm\"],[\"son cubano\"],[\"son cubano clasico\"],[\"son jarocho\"],[\"sophisti-pop\"],[\"sotalaulut\"],[\"soukous\"],[\"soul\"],[\"soul blues\"],[\"soul flow\"],[\"soul jazz\"],[\"souldies\"],[\"sound\"],[\"sound art\"],[\"sound effects\"],[\"sound team\"],[\"soundtrack\"],[\"south african alternative\"],[\"south african choral\"],[\"south african country\"],[\"south african hip hop\"],[\"south african house\"],[\"south african jazz\"],[\"south african pop\"],[\"south african pop dance\"],[\"south african rock\"],[\"south carolina hip hop\"],[\"south carolina indie\"],[\"south carolina metal\"],[\"south dakota indie\"],[\"southampton indie\"],[\"southern americana\"],[\"southern gospel\"],[\"southern hip hop\"],[\"southern metal\"],[\"southern rock\"],[\"southern soul\"],[\"southern soul blues\"],[\"soviet synthpop\"],[\"sovietwave\"],[\"spa\"],[\"space age pop\"],[\"space ambient\"],[\"space rock\"],[\"spanish baroque\"],[\"spanish classical\"],[\"spanish classical piano\"],[\"spanish folk metal\"],[\"spanish hip hop\"],[\"spanish indie pop\"],[\"spanish invasion\"],[\"spanish metal\"],[\"spanish modern rock\"],[\"spanish new wave\"],[\"spanish noise pop\"],[\"spanish pop\"],[\"spanish pop rock\"],[\"spanish renaissance\"],[\"spanish rock\"],[\"spanish synthpop\"],[\"spanish techno\"],[\"speed garage\"],[\"speed metal\"],[\"speedcore\"],[\"spiritual hip hop\"],[\"spiritual jazz\"],[\"spirituals\"],[\"springfield mo indie\"],[\"spytrack\"],[\"st louis rap\"],[\"steampunk\"],[\"steel guitar\"],[\"steelpan\"],[\"stl indie\"],[\"stomp and flutter\"],[\"stomp and holler\"],[\"stomp and whittle\"],[\"stomp pop\"],[\"stoner metal\"],[\"stoner rock\"],[\"straight edge\"],[\"straight-ahead jazz\"],[\"street band\"],[\"street punk\"],[\"streichquartett\"],[\"stride\"],[\"string band\"],[\"string folk\"],[\"string orchestra\"],[\"string quartet\"],[\"strut\"],[\"substep\"],[\"sudanese pop\"],[\"sufi\"],[\"sufi chant\"],[\"sunshine pop\"],[\"supergroup\"],[\"surf music\"],[\"surf punk\"],[\"svensk progg\"],[\"swamp blues\"],[\"swamp pop\"],[\"swamp rock\"],[\"swancore\"],[\"swedish alternative rock\"],[\"swedish americana\"],[\"swedish black metal\"],[\"swedish choir\"],[\"swedish country\"],[\"swedish dancehall\"],[\"swedish death metal\"],[\"swedish doom metal\"],[\"swedish electronic\"],[\"swedish electropop\"],[\"swedish eurodance\"],[\"swedish garage rock\"],[\"swedish hard rock\"],[\"swedish hardcore\"],[\"swedish heavy metal\"],[\"swedish house\"],[\"swedish idol pop\"],[\"swedish indie folk\"],[\"swedish indie pop\"],[\"swedish indie rock\"],[\"swedish jazz\"],[\"swedish jazz orkester\"],[\"swedish melodic rock\"],[\"swedish metal\"],[\"swedish metalcore\"],[\"swedish pop\"],[\"swedish post-hardcore\"],[\"swedish power metal\"],[\"swedish prog\"],[\"swedish progressive metal\"],[\"swedish rock-and-roll\"],[\"swedish singer-songwriter\"],[\"swedish soul\"],[\"swedish stoner rock\"],[\"swedish synth\"],[\"swedish synthpop\"],[\"swedish tropical house\"],[\"swedish underground rap\"],[\"swing\"],[\"swing italiano\"],[\"swing revival\"],[\"swiss black metal\"],[\"swiss classical piano\"],[\"swiss country\"],[\"swiss metal\"],[\"swiss pop\"],[\"swiss rock\"],[\"swiss worship\"],[\"sydney indie\"],[\"symphonic black metal\"],[\"symphonic metal\"],[\"symphonic rock\"],[\"synth funk\"],[\"synthpop\"],[\"synthwave\"],[\"syrian pop\"],[\"tabla\"],[\"tagalog rap\"],[\"tagalog worship\"],[\"taiwan campus folk\"],[\"taiwan classical performance\"],[\"taiwan hip hop\"],[\"taiwan indie\"],[\"taiwan pop\"],[\"taiwan singer-songwriter\"],[\"tajik pop\"],[\"talent show\"],[\"tamaulipas indie\"],[\"tamaulipas rap\"],[\"tamborazo\"],[\"tamil hip hop\"],[\"tamil pop\"],[\"tamil worship\"],[\"tampa indie\"],[\"tango\"],[\"tango cancion\"],[\"tape club\"],[\"tech house\"],[\"technical death metal\"],[\"technical deathcore\"],[\"technical groove metal\"],[\"technical melodic death metal\"],[\"technical thrash\"],[\"techno\"],[\"techno kayo\"],[\"tecnobanda\"],[\"teen pop\"],[\"tejano\"],[\"tempe indie\"],[\"tennessee hip hop\"],[\"tennessee metal\"],[\"tex-mex\"],[\"texas blues\"],[\"texas country\"],[\"texas latin rap\"],[\"texas pop punk\"],[\"texas punk\"],[\"thai folk\"],[\"thai folk rock\"],[\"thai idol\"],[\"thai indie rock\"],[\"thai pop\"],[\"thall\"],[\"theme\"],[\"theremin\"],[\"thrash core\"],[\"thrash metal\"],[\"timba\"],[\"tin pan alley\"],[\"tipico\"],[\"tolkien metal\"],[\"tollywood\"],[\"tone\"],[\"torch song\"],[\"toronto indie\"],[\"toronto rap\"],[\"trad jazz catala\"],[\"traditional bluegrass\"],[\"traditional blues\"],[\"traditional british folk\"],[\"traditional country\"],[\"traditional folk\"],[\"traditional funk\"],[\"traditional rockabilly\"],[\"traditional ska\"],[\"traditional soul\"],[\"trance\"],[\"trance mexicano\"],[\"trancecore\"],[\"transpop\"],[\"trap\"],[\"trap argentino\"],[\"trap chileno\"],[\"trap dominicano\"],[\"trap latino\"],[\"trap mexicano\"],[\"trap queen\"],[\"trap soul\"],[\"trap triste\"],[\"trap venezolano\"],[\"traprun\"],[\"trash rock\"],[\"triangle indie\"],[\"tribal house\"],[\"trinidadian reggae\"],[\"trio cubano\"],[\"trip hop\"],[\"trival\"],[\"tropical\"],[\"tropical house\"],[\"tropicalia\"],[\"trova\"],[\"trova mexicana\"],[\"truck-driving country\"],[\"tuareg guitar\"],[\"tucson indie\"],[\"tulsa indie\"],[\"tuna estudiantil\"],[\"tunisian pop\"],[\"turbo folk\"],[\"turkish classical\"],[\"turkish classical performance\"],[\"turkish edm\"],[\"turkish experimental\"],[\"turkish folk\"],[\"turkish jazz\"],[\"turkish modern jazz\"],[\"turkish pop\"],[\"turkish psych\"],[\"turkish trap\"],[\"turkish trap pop\"],[\"turntablism\"],[\"twee pop\"],[\"twoubadou\"],[\"tzadik\"],[\"ugandan pop\"],[\"uilleann pipes\"],[\"uk alternative hip hop\"],[\"uk alternative pop\"],[\"uk americana\"],[\"uk contemporary jazz\"],[\"uk contemporary r&b\"],[\"uk dance\"],[\"uk dancehall\"],[\"uk diy punk\"],[\"uk dnb\"],[\"uk doom metal\"],[\"uk dub\"],[\"uk experimental electronic\"],[\"uk funky\"],[\"uk garage\"],[\"uk hip hop\"],[\"uk house\"],[\"uk metalcore\"],[\"uk noise rock\"],[\"uk pop\"],[\"uk pop punk\"],[\"uk post-hardcore\"],[\"uk post-punk\"],[\"uk reggae\"],[\"uk rockabilly\"],[\"uk stoner rock\"],[\"uk worship\"],[\"uk82\"],[\"ukrainian choir\"],[\"ukrainian classical\"],[\"ukrainian classical piano\"],[\"ukrainian electronic\"],[\"ukrainian pop\"],[\"ukulele\"],[\"umbanda\"],[\"underground hip hop\"],[\"underground power pop\"],[\"underground rap\"],[\"university choir\"],[\"uplifting trance\"],[\"uptempo hardcore\"],[\"urban contemporary\"],[\"urbano espanol\"],[\"us power metal\"],[\"utah indie\"],[\"uzbek pop\"],[\"uzbek traditional\"],[\"v-pop\"],[\"vallenato\"],[\"vallenato moderno\"],[\"vancouver indie\"],[\"vancouver metal\"],[\"vancouver punk\"],[\"vapor pop\"],[\"vapor soul\"],[\"vapor trap\"],[\"vapor twitch\"],[\"vaporwave\"],[\"variete francaise\"],[\"vaudeville\"],[\"vbs\"],[\"veena\"],[\"vegan straight edge\"],[\"vegas indie\"],[\"velha guarda\"],[\"venezuelan hip hop\"],[\"venezuelan indie\"],[\"venezuelan rock\"],[\"veracruz indie\"],[\"vermont indie\"],[\"vgm instrumental\"],[\"vgm remix\"],[\"victoria bc indie\"],[\"victorian britain\"],[\"video game music\"],[\"vienna indie\"],[\"vietnamese bolero\"],[\"vietnamese pop\"],[\"viking black metal\"],[\"viking folk\"],[\"viking metal\"],[\"villancicos\"],[\"vintage chanson\"],[\"vintage chinese pop\"],[\"vintage classical singing\"],[\"vintage country folk\"],[\"vintage dutch pop\"],[\"vintage french electronic\"],[\"vintage gospel\"],[\"vintage hollywood\"],[\"vintage italian pop\"],[\"vintage italian soundtrack\"],[\"vintage jazz\"],[\"vintage old-time\"],[\"vintage rockabilly\"],[\"vintage schlager\"],[\"vintage spanish pop\"],[\"vintage swedish pop\"],[\"vintage swing\"],[\"vintage tango\"],[\"viola\"],[\"violao\"],[\"violao classico\"],[\"violin\"],[\"viral pop\"],[\"viral rap\"],[\"viral trap\"],[\"virgin islands reggae\"],[\"virginia hip hop\"],[\"virginia metal\"],[\"virginia punk\"],[\"visor\"],[\"visual kei\"],[\"vocal ensemble\"],[\"vocal harmony group\"],[\"vocal house\"],[\"vocal jazz\"],[\"vocal trance\"],[\"vocaloid\"],[\"vogue\"],[\"volksmusik\"],[\"warm drone\"],[\"washboard\"],[\"washington indie\"],[\"wassoulou\"],[\"water\"],[\"wave\"],[\"welsh folk\"],[\"welsh indie\"],[\"welsh metal\"],[\"welsh rock\"],[\"west african jazz\"],[\"west australian hip hop\"],[\"west coast rap\"],[\"west coast reggae\"],[\"west coast trap\"],[\"west end\"],[\"west virginia indie\"],[\"western americana\"],[\"western mass indie\"],[\"western saharan folk\"],[\"western swing\"],[\"white noise\"],[\"wind ensemble\"],[\"wind quintet\"],[\"wisconsin indie\"],[\"witch house\"],[\"women's choir\"],[\"women's music\"],[\"wonky\"],[\"worcester ma indie\"],[\"world\"],[\"world fusion\"],[\"world meditation\"],[\"world worship\"],[\"worship\"],[\"wrestling\"],[\"wu fam\"],[\"wyoming indie\"],[\"wyoming roots\"],[\"xhosa\"],[\"xtra raw\"],[\"yacht rock\"],[\"ye ye\"],[\"yiddish folk\"],[\"yodeling\"],[\"yoga\"],[\"yoik\"],[\"york indie\"],[\"yorkshire folk\"],[\"yugoslav new wave\"],[\"yugoslav rock\"],[\"zambian pop\"],[\"zeuhl\"],[\"zhongguo feng\"],[\"zimdancehall\"],[\"zolo\"],[\"zouglou\"],[\"zouk\"],[\"zurich indie\"],[\"zydeco\"]],\"hovertemplate\":\"x=%{x}\\u003cbr\\u003ey=%{y}\\u003cbr\\u003egenres=%{customdata[0]}\\u003cbr\\u003ecluster=%{marker.color}\\u003cextra\\u003e\\u003c\\u002fextra\\u003e\",\"legendgroup\":\"\",\"marker\":{\"color\":[5,6,8,1,3,4,8,7,2,1,2,7,8,5,1,3,8,3,2,3,1,1,8,1,2,8,8,5,2,8,8,2,7,7,8,2,8,2,7,8,0,7,8,2,4,7,2,8,8,0,7,3,3,7,0,7,7,0,8,8,0,8,2,5,4,3,2,0,4,5,2,3,5,5,5,5,5,1,0,1,2,5,4,5,5,4,2,0,5,1,7,7,0,3,3,0,0,3,1,7,1,1,2,2,3,1,5,2,8,0,7,3,7,8,8,8,8,0,8,2,3,5,3,8,3,5,7,7,7,5,8,7,7,8,7,8,5,4,7,4,2,4,7,1,2,8,8,8,3,7,5,8,5,5,5,7,2,2,8,8,7,8,3,7,7,0,0,7,8,8,7,3,2,8,8,0,8,7,7,5,5,5,2,1,2,1,4,5,1,0,8,3,2,8,8,8,5,5,1,3,1,2,1,3,1,4,3,5,5,1,5,7,0,8,8,7,1,1,1,1,1,5,8,1,3,1,5,5,5,5,8,5,5,2,7,3,0,7,2,7,8,7,7,2,0,8,2,1,7,1,8,8,1,8,8,7,0,0,5,5,2,2,7,8,4,1,4,2,2,2,4,8,1,8,8,4,5,1,7,5,1,8,2,5,4,2,8,0,2,0,9,0,0,0,0,4,2,3,1,8,1,0,0,8,7,3,1,7,2,1,2,2,3,2,3,8,8,8,0,0,7,8,0,1,3,7,7,5,5,4,1,5,5,8,5,5,5,8,0,8,8,1,0,3,1,7,8,8,0,2,0,0,8,3,5,8,3,7,2,4,8,8,0,8,8,5,5,8,5,1,0,4,3,0,7,4,8,4,5,5,4,0,3,8,5,8,3,8,7,7,8,7,0,8,0,3,8,8,2,2,0,6,1,3,3,0,1,8,2,7,5,1,7,5,2,8,3,8,7,8,1,5,5,5,3,8,3,3,7,2,5,3,0,7,7,8,3,3,2,8,0,0,2,7,0,0,4,3,0,0,2,3,5,3,8,8,8,4,3,3,3,1,1,0,3,8,7,1,1,1,8,5,5,5,0,7,5,3,5,2,8,8,1,5,3,5,5,3,5,3,3,8,8,3,3,2,0,1,2,7,0,3,1,7,2,2,7,0,0,7,8,0,7,2,8,3,7,7,9,8,2,2,7,4,5,1,4,8,8,8,0,8,3,5,5,5,2,3,2,3,0,5,3,3,5,5,5,8,5,1,3,1,3,8,2,0,7,7,7,0,0,7,7,0,7,5,0,7,3,5,3,8,8,7,7,8,2,7,1,3,8,2,1,7,3,2,3,1,1,0,1,2,2,8,8,2,2,3,0,2,3,1,3,4,3,3,1,3,8,3,1,2,8,2,3,0,8,8,2,0,3,8,5,7,0,7,2,8,8,5,3,5,5,5,5,5,5,5,5,5,5,5,3,5,5,5,5,5,5,5,3,5,5,5,3,1,9,0,8,8,2,7,8,8,8,9,8,7,8,7,1,0,5,2,5,0,0,7,5,5,5,8,3,7,5,1,3,5,1,1,1,0,8,8,2,0,3,4,8,1,1,8,1,8,8,8,8,1,1,8,0,1,8,8,0,7,0,8,8,2,1,8,8,8,8,8,2,2,8,8,1,8,1,8,2,8,8,4,7,1,5,5,1,0,1,2,7,8,8,0,7,0,0,5,0,5,2,5,0,2,4,4,8,7,4,1,0,1,8,0,7,2,0,5,4,0,4,7,7,0,0,0,2,0,0,0,8,0,0,0,2,0,1,2,0,3,7,9,8,7,1,2,7,0,2,8,7,3,8,4,8,2,4,8,8,4,1,0,3,2,0,4,1,3,8,8,1,3,4,4,7,0,8,8,2,8,4,5,8,8,4,8,4,4,2,7,4,1,7,8,7,7,4,2,3,2,8,0,7,7,4,2,1,2,3,7,1,2,5,7,7,8,2,3,8,1,0,0,2,8,7,3,0,0,3,1,3,0,0,0,5,7,4,5,5,4,0,8,4,2,4,0,4,5,8,3,7,4,8,4,0,9,5,0,0,8,1,8,7,3,5,0,2,2,2,8,2,8,1,9,5,5,5,5,8,5,7,0,7,8,7,1,0,3,4,5,3,8,8,7,2,1,2,8,3,8,8,8,8,8,8,4,3,8,8,4,2,7,8,2,8,8,0,0,0,7,0,5,2,5,2,1,5,0,2,1,7,5,4,1,0,3,2,3,5,1,4,7,2,7,2,8,8,2,1,3,5,5,2,7,5,8,2,4,3,3,3,3,1,3,3,0,2,1,7,7,7,5,2,5,5,0,2,7,7,0,2,7,8,2,5,7,4,0,8,4,3,5,8,4,2,7,1,2,1,1,7,3,0,7,3,3,7,3,2,1,1,8,8,8,5,3,7,8,8,0,5,7,3,8,4,5,1,8,5,5,3,0,0,7,3,3,7,1,0,2,5,5,3,2,0,8,8,5,0,1,8,2,0,4,2,7,8,1,2,2,0,7,2,7,2,8,2,4,7,8,2,7,0,8,7,0,4,4,7,8,1,5,0,2,7,8,0,0,0,0,0,8,2,8,3,8,7,0,5,5,5,3,2,2,0,2,7,5,9,2,0,5,5,8,7,8,0,8,5,7,5,5,5,8,0,8,7,2,9,1,4,8,0,0,8,8,4,0,7,8,2,0,7,1,1,9,7,0,1,8,0,7,0,2,8,2,2,2,0,2,8,7,8,1,5,1,1,4,1,2,1,5,8,4,2,0,8,0,0,8,8,2,2,8,3,9,2,1,5,1,1,3,5,7,1,1,8,1,0,1,2,5,7,8,5,0,0,1,4,0,8,0,7,0,0,0,8,1,1,1,5,5,1,5,1,7,7,5,8,8,8,8,2,1,5,1,7,0,8,7,2,6,5,5,5,5,5,5,9,3,3,2,3,3,1,1,8,0,3,2,8,7,8,8,1,2,5,5,5,5,4,9,1,1,4,3,8,7,5,4,5,3,3,4,3,3,3,3,0,1,1,5,1,2,7,5,8,1,2,7,3,7,2,3,4,8,3,4,7,8,3,8,7,8,3,7,3,8,8,0,8,0,7,8,7,3,3,8,7,0,2,8,5,7,2,8,7,7,3,3,1,7,2,0,4,0,0,3,4,0,4,2,7,1,1,1,3,3,1,1,8,5,4,8,1,7,3,2,1,3,1,5,1,8,0,7,3,3,4,3,1,5,5,1,7,5,5,3,2,2,2,7,5,4,5,2,5,0,5,5,3,2,1,4,5,1,5,5,4,1,3,8,2,0,5,8,0,7,0,0,0,8,7,0,2,0,0,8,8,2,8,8,8,8,5,5,5,5,4,5,8,0,4,7,0,0,2,5,3,0,3,3,4,0,0,2,4,0,0,0,0,4,7,2,2,8,2,5,3,4,8,1,1,1,8,1,1,1,2,1,5,1,3,3,3,1,1,0,5,1,1,1,3,1,8,0,1,5,1,1,1,1,1,1,8,5,2,1,2,8,8,1,2,1,0,7,8,2,2,7,1,3,8,1,7,1,7,0,3,0,3,8,3,2,1,2,8,1,1,7,8,7,8,5,8,4,9,1,7,5,1,5,2,5,5,5,2,7,8,7,7,5,5,7,8,8,5,2,2,2,3,5,8,8,8,5,7,3,1,8,7,8,8,0,7,8,8,5,8,4,7,3,8,9,8,7,1,5,3,2,0,8,8,1,3,5,3,0,4,3,8,3,7,3,3,8,3,3,3,3,3,2,8,8,0,7,4,1,3,8,5,3,5,1,8,5,9,7,3,3,8,3,2,3,5,4,1,8,0,3,3,3,8,3,3,1,7,1,1,7,3,8,2,8,3,0,2,5,3,0,5,3,7,8,7,8,0,0,0,0,0,0,2,0,0,7,0,7,3,1,2,2,7,1,8,8,8,3,0,0,0,0,7,8,5,8,7,8,8,8,3,7,8,8,7,8,2,7,4,6,5,1,1,2,0,1,8,3,5,3,4,8,4,4,5,8,0,0,8,8,7,8,5,0,2,7,8,8,8,8,8,7,8,7,8,7,5,5,8,5,0,2,2,8,2,8,8,5,0,0,4,7,1,4,4,2,8,5,7,3,9,7,1,3,3,3,1,2,8,2,7,5,2,8,8,3,7,3,5,1,7,8,8,8,8,2,7,3,3,1,8,2,7,8,1,2,1,8,3,1,2,2,8,6,3,1,1,0,0,2,3,8,8,3,3,5,8,5,8,5,1,0,8,0,1,7,2,8,5,4,3,3,8,8,3,8,0,3,1,3,5,2,7,2,1,1,7,7,2,8,0,5,5,3,2,9,3,7,7,5,8,0,8,0,8,8,1,8,8,1,7,8,8,4,8,0,8,3,4,8,5,0,0,2,8,0,2,4,2,1,8,8,0,0,0,5,5,2,2,5,4,5,1,0,8,8,0,8,3,0,3,0,7,0,7,0,5,5,5,0,5,2,8,5,0,2,0,0,0,2,4,2,8,3,3,8,8,5,7,0,8,7,0,7,0,1,3,1,8,3,1,8,1,3,0,0,7,8,7,0,5,3,0,3,7,0,7,3,8,8,0,8,5,7,8,0,2,2,8,3,8,8,7,0,8,2,1,1,7,0,8,8,5,1,0,3,1,3,6,5,5,4,5,4,4,0,1,1,2,1,5,0,7,8,2,7,1,2,3,3,4,5,0,8,4,8,2,8,1,2,1,1,7,8,8,5,3,8,7,7,3,8,7,3,2,2,8,8,2,7,8,7,8,7,8,1,5,2,8,5,1,8,0,7,0,1,3,3,2,8,8,8,7,7,0,0,9,5,2,5,5,5,5,5,2,0,3,2,7,1,2,8,5,2,7,8,3,8,0,2,0,7,3,2,2,3,8,7,7,8,7,8,8,8,3,7,7,3,8,8,5,3,3,2,8,8,0,3,5,8,8,4,0,0,4,5,0,8,8,5,5,0,8,0,7,0,0,7,5,8,3,7,3,0,0,0,2,0,0,7,0,4,4,3,0,4,4,4,2,4,8,1,3,4,0,4,3,3,7,8,0,7,7,4,4,0,8,1,8,8,1,2,2,0,0,0,0,0,7,8,3,1,5,0,3,7,8,8,8,1,7,8,1,5,1,4,7,7,8,7,8,7,8,7,7,0,2,1,7,8,8,0,0,9,4,2,1,3,8,8,8,7,7,8,7,8,0,2,7,8,3,5,8,7,8,3,2,1,7,2,0,2,8,2,8,2,8,8,8,8,3,0,8,8,8,0,2,0,8,8,8,4,8,7,8,8,1,8,5,4,5,7,1,1,8,8,8,3,3,2,7,3,2,0,2,5,5,4,7,2,2,2,7,7,5,5,2,7,3,2,5,4,4,7,5,1,8,0,7,8,8,7,7,7,8,8,8,8,1,1,8,7,3,2,8,0,8,8,1,5,3,8,2,8,3,5,8,5,3,8,0,3,8,8,8,8,7,7,0,8,7,8,2,4,5,8,1,1,8,2,2,7,1,5,5,1,0,7,8,2,2,0,3,0,5,8,3,3,0,3,5,5,8,8,8,2,2,0,8,0,3,1,4,3,7,0,0,0,3,0,5,4,8,0,7,3,0,3,3,2,8,8,7,8,1,8,8,8,1,8,8,2,7,7,3,2,1,1,5,5,5,7,5,3,1,7,8,7,3,7,2,0,2,3,4,7,3,8,3,7,0,8,8,8,2,7,5,1,5,4,5,1,5,2,8,3,7,2,2,8,2,7,8,5,8,8,4,7,0,2,2,3,1,2,1,8,8,1,2,8,3,3,2,8,0,0,0,5,7,0,5,1,1,5,5,5,8,2,4,7,1,8,8,8,0,0,8,7,8,0,7,3,4,5,8,8,0,0,2,8,2,0,0,8,3,2,7,3,8,7,5,1,8,0,0,7,8,2,0,0,7,3,3,3,3,8,3,2,1,1,2,0,5,5,0,8,8,5,3,0,2,3,8,8,8,1,1,8,3,3,5,3,3,3,3,1,8,8,8,7,1,1,1,0,1,1,0,4,0,8,0,4,0,4,7,8,7,8,8,8,0,8,7,8,8,8,8,8,8,1,1,8,0,1,5,0,0,8,1,2,4,1,5,1,3,2,1,1,1,3,1,3,3,8,7,8,2,4,0,8,7,8,7,8,7,8,7,7,8,7,2,0,0,7,1,1,7,8,8,8,7,3,3,1,3,8,2,8,7,2,1,5,2,2,1,1,5,2,3,7,2,7,8,2,5,4,1,8,7,3,3,7,7,2,0,0,0,2,4,8,2,8,8,2,2,8,0,7,8,8,0,4,3,0,5,5,5,4,7,3,8,7,7,8,5,4,0,7,7,0,3,1,1,2,8,7,3,0,8,3,8,7,7,2,3,1,8,1,0,0,1,8,8,8,7,3,5,0,3,5,3,2,2,2,4,2,0,8,1,3,1,1,9,8,1,1,1,5,1,1,2,1,1,1,1,1,5,2,1,5,3,7,7,7,8,0,0,5,0,5,1,8,1,2,2,7,1,5,1,8,8,5,2,5,7,7,7,2,7,7,2,7,3,2,3,8,3,1,5,5,5,3,8,0,3,3,0,3,3,5,3,3,0,7,0,8,1,0,8,3,5,1,5,5,3,3,8,8,2,0,8,2,8,2,8,1,8],\"coloraxis\":\"coloraxis\",\"symbol\":\"circle\"},\"mode\":\"markers\",\"name\":\"\",\"showlegend\":false,\"x\":[47.28357696533203,41.64019775390625,-5.007908344268799,29.975717544555664,10.83160400390625,16.870031356811523,-18.57391929626465,-53.850196838378906,20.545162200927734,14.143037796020508,6.462307453155518,8.424399375915527,-6.06689453125,48.380008697509766,19.056642532348633,2.0980379581451416,2.826270580291748,2.6660194396972656,8.470714569091797,-8.071267127990723,13.276721954345703,17.657257080078125,-10.54588794708252,37.22832107543945,5.925565242767334,-16.965383529663086,-12.774449348449707,41.91511154174805,8.338769912719727,-14.373743057250977,-12.035242080688477,13.646871566772461,-22.68349838256836,11.377079010009766,-27.727262496948242,-2.2874138355255127,-8.915051460266113,12.85789966583252,-49.166107177734375,-17.796344757080078,-35.39341735839844,-49.588897705078125,-17.03536033630371,16.93463706970215,-1.2788976430892944,-33.795310974121094,14.689220428466797,-15.444887161254883,-13.457097053527832,-51.48262023925781,-26.5374813079834,-1.5080463886260986,5.190020561218262,-46.96268844604492,-32.33053207397461,-51.281768798828125,-46.617759704589844,-16.9979305267334,-24.650484085083008,-28.868274688720703,-19.550743103027344,-13.751493453979492,20.164770126342773,32.723323822021484,-17.876434326171875,9.671076774597168,5.95625638961792,4.626352310180664,11.308627128601074,40.56554412841797,18.319486618041992,16.01848602294922,52.29420852661133,43.815914154052734,51.891231536865234,50.10365676879883,41.313194274902344,17.96731948852539,-1.5314193964004517,33.46456527709961,31.12103271484375,44.2430419921875,16.538869857788086,31.224166870117188,46.74945068359375,-19.696937561035156,25.70372772216797,-38.65970230102539,45.459938049316406,18.188819885253906,-47.339012145996094,-48.89069366455078,-39.01728820800781,-3.243433952331543,-4.509955406188965,-32.45735549926758,-10.223357200622559,-1.011063575744629,38.14594650268555,-45.15740203857422,21.695003509521484,32.23256301879883,22.8182315826416,21.997943878173828,-2.263585329055786,23.08863067626953,37.935020446777344,15.82564926147461,-17.17837142944336,-28.58346176147461,-47.170143127441406,-12.355606079101562,-55.99988555908203,-17.241382598876953,-17.18827247619629,-13.976228713989258,-23.069597244262695,-26.283170700073242,4.766854763031006,8.591045379638672,-3.146068811416626,49.04378128051758,-1.8253257274627686,-15.638513565063477,-12.846156120300293,40.765506744384766,-40.78338623046875,3.056962728500366,-45.284664154052734,44.47477722167969,-15.096015930175781,-50.88372802734375,-52.42439270019531,-19.176557540893555,-46.80057907104492,-48.030242919921875,52.61935043334961,-17.876434326171875,-21.751174926757812,21.969934463500977,20.386661529541016,21.969934463500977,-26.76818084716797,17.751110076904297,12.367798805236816,-12.072572708129883,-10.6880521774292,-14.391827583312988,0.7463891506195068,-43.64798355102539,48.68230056762695,-3.1348350048065186,39.90743637084961,40.77873992919922,36.84657287597656,6.456609725952148,5.947961807250977,5.785636901855469,-24.063579559326172,-28.447853088378906,-48.12203598022461,-23.360984802246094,-4.6311187744140625,-53.99538803100586,-43.114742279052734,-29.43500518798828,-28.256103515625,-43.34583282470703,-16.696147918701172,-12.787989616394043,-48.09097671508789,-1.3412169218063354,13.220065116882324,-19.1230525970459,-16.14394760131836,-1.486128330230713,-21.3102970123291,-55.54079055786133,-48.47425079345703,50.28866195678711,52.86641311645508,53.43332290649414,14.846854209899902,48.75735092163086,16.303537368774414,2.76371693611145,-20.87674331665039,49.5687255859375,30.70901870727539,-19.371610641479492,-20.524124145507812,26.811201095581055,9.042131423950195,-5.593346118927002,-13.924473762512207,-14.174003601074219,54.81745910644531,29.991962432861328,36.483272552490234,15.813169479370117,25.197607040405273,14.197381019592285,27.446090698242188,14.278751373291016,17.72222137451172,5.237029552459717,-3.189000368118286,42.11878967285156,35.34513473510742,34.137386322021484,45.78813552856445,-41.528018951416016,-23.7795467376709,-13.694157600402832,-12.620628356933594,-18.87568473815918,34.99174118041992,25.220504760742188,29.273269653320312,37.286354064941406,9.920251846313477,50.673709869384766,-20.611312866210938,22.06353759765625,16.093429565429688,-1.7276195287704468,38.64352798461914,45.005592346191406,34.24201202392578,37.17336654663086,-12.586580276489258,44.045074462890625,35.32402420043945,29.33616828918457,-29.482980728149414,-4.269681930541992,-26.66584587097168,-42.265953063964844,9.353194236755371,-47.5013427734375,-20.52447509765625,-50.7055778503418,-50.36793899536133,8.467992782592773,-19.845096588134766,-24.511381149291992,10.007372856140137,17.031307220458984,7.210362434387207,28.243675231933594,-36.347591400146484,-16.01094627380371,30.190584182739258,-15.999625205993652,-15.379783630371094,-38.5188102722168,-5.532179355621338,-5.532179355621338,54.74360656738281,30.696117401123047,4.798222064971924,5.347365379333496,-40.3222770690918,-10.549996376037598,6.21989631652832,37.83844757080078,-14.09511661529541,10.56599235534668,17.014122009277344,27.003116607666016,0.7190062403678894,-8.284563064575195,36.059627532958984,-18.942371368408203,-16.618486404418945,0.6068917512893677,20.032716751098633,30.939851760864258,-24.422338485717773,38.29164123535156,30.81194496154785,-10.857230186462402,4.624328136444092,55.290435791015625,22.986745834350586,12.233904838562012,-56.479827880859375,-23.368309020996094,0.0822843462228775,-1.216544508934021,23.959766387939453,-23.172876358032227,-39.12335205078125,-22.657861709594727,-1.216544508934021,18.629547119140625,1.1032568216323853,9.24413013458252,13.575271606445312,9.445280075073242,12.860234260559082,-0.9691763520240784,-44.5149040222168,-14.28500747680664,-29.397380828857422,15.20461368560791,17.794126510620117,10.55385684967041,18.355295181274414,25.747623443603516,3.786811351776123,4.28214168548584,14.63844108581543,30.466318130493164,11.027800559997559,-22.579193115234375,-30.78162384033203,-25.47083282470703,-31.997432708740234,-31.071699142456055,-43.55477523803711,-33.22211456298828,-44.879276275634766,25.670608520507812,14.501056671142578,-44.52440643310547,-41.8811149597168,51.2407112121582,55.290435791015625,19.30376625061035,25.564666748046875,45.57288360595703,51.493003845214844,-9.362739562988281,38.89762878417969,50.618350982666016,36.19321823120117,-22.203725814819336,-28.07069969177246,-36.101131439208984,4.482119083404541,24.56912612915039,-28.070932388305664,12.972311973571777,12.560193061828613,-48.702919006347656,-27.550678253173828,-12.232568740844727,-2.2854154109954834,23.641748428344727,-28.07040786743164,-24.825223922729492,-29.9493465423584,6.742346286773682,39.307945251464844,-14.379937171936035,7.2250447273254395,-52.5482177734375,13.310521125793457,-16.45514678955078,-14.979086875915527,-8.404242515563965,-26.248340606689453,-13.765495300292969,-22.17540168762207,44.29473114013672,51.03193283081055,-5.104922771453857,47.29661178588867,34.63039016723633,-22.63726234436035,10.016271591186523,13.608560562133789,-23.94330406188965,-34.998382568359375,9.995630264282227,3.460300922393799,11.628950119018555,47.33388900756836,48.71995162963867,26.30078887939453,-48.33306884765625,1.3720091581344604,-27.15194320678711,40.295711517333984,-20.830411911010742,10.11672306060791,-10.281370162963867,-52.22236251831055,-35.66188049316406,-22.016040802001953,-49.363059997558594,-23.100439071655273,-15.837088584899902,-10.416300773620605,-14.404820442199707,-25.106597900390625,5.476428985595703,3.2960214614868164,17.588172912597656,-23.811979293823242,40.28303909301758,39.704368591308594,19.834835052490234,4.665364742279053,-17.433212280273438,34.434417724609375,5.906320571899414,5.6959147453308105,-54.26591491699219,33.662986755371094,28.798992156982422,-41.40507507324219,47.04759216308594,14.641350746154785,-6.444159507751465,25.41643714904785,-14.921255111694336,-37.31892776489258,-2.9898273944854736,15.441125869750977,44.945194244384766,39.15284729003906,52.55409622192383,10.837909698486328,-21.773832321166992,8.068572044372559,7.1714043617248535,-48.55500030517578,15.297704696655273,31.89650535583496,11.038712501525879,-28.39207649230957,-51.30469512939453,-0.814761757850647,-12.906050682067871,13.653789520263672,5.786712169647217,10.873001098632812,-23.634933471679688,-45.289180755615234,-31.709308624267578,16.890169143676758,-43.15325164794922,-43.376041412353516,-35.05110168457031,42.804901123046875,-0.009688079357147217,-30.17113494873047,-27.30436897277832,22.863513946533203,8.341712951660156,30.678356170654297,6.758518218994141,-29.367738723754883,-11.80369758605957,9.629732131958008,-9.580556869506836,11.280622482299805,3.627307891845703,7.826414108276367,21.708580017089844,48.150814056396484,-29.394197463989258,2.1601922512054443,-6.89217472076416,-20.51429557800293,27.979137420654297,29.257308959960938,27.979000091552734,-4.413490295410156,46.43290710449219,54.14564514160156,54.403682708740234,-10.468353271484375,-46.82103729248047,30.375808715820312,9.540729522705078,36.67817687988281,2.4134860038757324,-9.330355644226074,-18.58250617980957,20.5075740814209,40.84365463256836,12.561491012573242,44.780643463134766,36.3451042175293,-0.640708327293396,48.877384185791016,3.9468398094177246,-2.1763064861297607,-28.50801658630371,-25.387006759643555,1.3105130195617676,8.911323547363281,24.282106399536133,-47.7843017578125,3.101794481277466,20.34207534790039,-51.909488677978516,-25.532529830932617,0.5615891218185425,13.428908348083496,-50.89100646972656,1.0332856178283691,17.2352352142334,-44.90265655517578,-29.881763458251953,-35.37660217285156,-52.11376190185547,7.974296569824219,-32.39932632446289,-53.92014694213867,21.056928634643555,3.368218421936035,13.208433151245117,10.432230949401855,9.983551025390625,28.555709838867188,-29.253271102905273,19.50198745727539,18.7498779296875,-19.643552780151367,-10.039027214050293,52.004947662353516,25.359516143798828,-11.41686725616455,1.5697269439697266,-30.34113311767578,-6.8120574951171875,-38.45366668701172,-11.833479881286621,13.362895965576172,41.82754135131836,54.155513763427734,52.93694305419922,8.593598365783691,-6.2409186363220215,12.99599838256836,1.2202271223068237,-45.06754684448242,42.86832046508789,2.7003703117370605,0.6423411965370178,41.82754135131836,38.86115646362305,29.57283592224121,-32.47844314575195,44.43842697143555,21.9039249420166,-7.722345352172852,51.16377258300781,9.359136581420898,-11.497013092041016,11.50980281829834,-32.681861877441406,-44.67750549316406,-48.553585052490234,-5.054649353027344,-26.795494079589844,-28.294876098632812,-4.966238021850586,-40.27486801147461,-20.180740356445312,-41.54927444458008,31.112258911132812,-32.55681610107422,-50.300743103027344,0.9861764311790466,37.818519592285156,16.051774978637695,-15.45307731628418,-10.850719451904297,-54.38981628417969,6.6810712814331055,-31.669471740722656,14.407212257385254,-24.80771827697754,27.942886352539062,10.154118537902832,-18.638700485229492,19.36035919189453,28.14803695678711,-38.82847213745117,4.957551956176758,30.25839614868164,7.3676886558532715,39.99354934692383,17.106101989746094,-38.46688461303711,39.1143913269043,27.120080947875977,11.39846420288086,3.1815829277038574,4.906243324279785,29.51416015625,-0.2044476568698883,-0.9680643677711487,-11.326319694519043,27.900760650634766,7.963839054107666,37.56641387939453,8.561507225036621,-9.964006423950195,27.0833740234375,17.55191993713379,50.96361541748047,4.713085651397705,-7.841609001159668,-1.2632148265838623,28.030445098876953,25.68229866027832,6.488213062286377,26.454538345336914,19.92513084411621,1.5542738437652588,4.8643035888671875,-14.477537155151367,28.29793930053711,-20.574630737304688,8.709847450256348,3.0081355571746826,49.03562545776367,8.645033836364746,-8.885860443115234,-24.567581176757812,26.947200775146484,1.9244823455810547,-1.010746955871582,50.90666198730469,-3.7615950107574463,48.90038299560547,48.684043884277344,50.988861083984375,43.999061584472656,53.22563934326172,37.40762710571289,48.92161178588867,45.20063018798828,53.82968521118164,53.6503791809082,49.44366455078125,24.377382278442383,49.54867935180664,47.55153274536133,48.521934509277344,43.78959274291992,50.54405975341797,55.048377990722656,40.53911209106445,5.635004997253418,49.39373779296875,49.4444694519043,40.80363082885742,24.5314884185791,26.668167114257812,24.379281997680664,-28.727153778076172,10.744866371154785,-20.23221206665039,10.247645378112793,-34.641212463378906,-23.839933395385742,-21.268815994262695,-18.52849006652832,24.206178665161133,-31.33249855041504,14.784425735473633,-5.835520267486572,-47.98875427246094,31.011682510375977,-26.111469268798828,41.4285774230957,18.51529884338379,35.81550979614258,-33.82425308227539,-26.516220092773438,-51.248497009277344,52.29426956176758,50.52523422241211,40.45027160644531,-22.5903263092041,11.724286079406738,4.446778774261475,32.98518753051758,30.42622184753418,12.264074325561523,42.691444396972656,30.38814926147461,16.132204055786133,17.14640235900879,-4.462887763977051,-15.154779434204102,-20.690752029418945,14.001920700073242,-16.11324119567871,11.358370780944824,17.87920570373535,-16.959928512573242,15.704106330871582,19.090795516967773,-17.819122314453125,15.540013313293457,-23.028034210205078,-29.220617294311523,-21.27854347229004,2.3278379440307617,34.490638732910156,18.95944595336914,-15.763381958007812,-6.3150224685668945,48.07829284667969,-18.826889038085938,-18.82673454284668,-24.813051223754883,-51.384090423583984,-32.01152420043945,-21.87104606628418,-1.1776610612869263,8.981562614440918,22.24046516418457,-23.866064071655273,-13.170147895812988,-13.649626731872559,-20.715763092041016,-18.382457733154297,26.01475715637207,18.273075103759766,-14.537334442138672,-20.18744468688965,15.278261184692383,-24.576642990112305,6.996310710906982,-15.217809677124023,15.562650680541992,-14.616795539855957,-20.342092514038086,-15.806015014648438,-54.37894821166992,37.546634674072266,52.67974090576172,52.21094512939453,36.38958740234375,-33.21125793457031,47.51189422607422,6.97758674621582,-42.60865783691406,-26.17949676513672,-11.949118614196777,-29.32282829284668,-50.047393798828125,-11.326319694519043,-19.498788833618164,52.3629035949707,-13.555927276611328,35.83800506591797,11.50239372253418,32.52767562866211,-23.04134750366211,9.33907699584961,-0.3928455710411072,-11.734362602233887,-28.183269500732422,-46.35230255126953,-11.734362602233887,12.257245063781738,-7.907595157623291,36.605712890625,-24.626039505004883,-26.907562255859375,12.947386741638184,17.916353225708008,-2.3465194702148438,42.401268005371094,-2.0982413291931152,-14.173856735229492,-1.5957781076431274,-51.16941452026367,8.746179580688477,-9.547629356384277,-30.667388916015625,-31.695096969604492,13.517674446105957,-23.323211669921875,-24.143768310546875,-28.726802825927734,-14.606315612792969,-22.61998176574707,-23.976289749145508,-17.059261322021484,1.4750524759292603,-24.542911529541016,16.244338989257812,4.89390754699707,-6.6318230628967285,5.965310573577881,-27.930740356445312,24.30265235900879,3.863335132598877,-53.53208541870117,38.439918518066406,18.441442489624023,6.7195725440979,-41.262794494628906,8.880341529846191,-22.973045349121094,-26.547603607177734,19.40322494506836,-14.333136558532715,-0.8242124319076538,-18.88188934326172,7.944592475891113,-17.124460220336914,-29.36410903930664,-24.781923294067383,36.00002670288086,16.6081485748291,-0.23087765276432037,6.057332992553711,14.790970802307129,-35.0349006652832,-0.002341329585760832,16.961925506591797,2.2137904167175293,-14.382062911987305,-12.764375686645508,17.279142379760742,-8.807279586791992,4.617704391479492,-2.0002827644348145,-40.048038482666016,-44.12788772583008,-29.839717864990234,-14.122708320617676,22.216413497924805,-1.4069256782531738,17.944530487060547,52.86326599121094,4.082904815673828,-33.82137680053711,28.842708587646484,-18.341108322143555,18.659521102905273,0.7190062403678894,13.355588912963867,-52.07498550415039,-0.4419328272342682,21.40150260925293,-43.02901840209961,-20.79681968688965,-42.69902038574219,-42.94110870361328,0.616070032119751,17.59623908996582,4.965346336364746,13.433656692504883,-8.890107154846191,-27.474140167236328,-49.7165412902832,9.736939430236816,-11.963476181030273,9.145665168762207,17.20521354675293,28.675392150878906,-4.126460075378418,-54.58909225463867,37.79227066040039,2.927072525024414,40.70528793334961,-51.62790298461914,-52.93233871459961,-10.741255760192871,10.474903106689453,12.413474082946777,-17.034473419189453,26.617727279663086,-20.53339195251465,-45.92991638183594,9.806872367858887,-14.373238563537598,-44.66175842285156,7.472768783569336,-23.232192993164062,-20.7471923828125,-6.561313629150391,28.579166412353516,-0.8847494721412659,-11.132346153259277,-25.768680572509766,-25.554689407348633,46.585716247558594,-50.86757278442383,-9.47323989868164,41.91008377075195,30.263456344604492,-16.575895309448242,-45.726253509521484,-28.71040916442871,-19.092405319213867,9.714851379394531,25.137439727783203,-25.93828582763672,-0.15124806761741638,49.0435905456543,-11.233343124389648,12.504765510559082,10.490211486816406,-17.87527084350586,-13.313369750976562,9.497170448303223,-5.276238918304443,25.51335906982422,54.06889343261719,-27.679244995117188,-41.451454162597656,-24.704557418823242,33.458953857421875,-26.73863983154297,-49.08375930786133,14.277875900268555,20.595239639282227,-27.261756896972656,16.368799209594727,18.63552474975586,14.281821250915527,21.733301162719727,2.624460458755493,-13.811680793762207,15.826756477355957,28.258634567260742,50.23563766479492,48.7437629699707,42.86843490600586,43.716976165771484,1.70024573802948,50.72236251831055,8.098834991455078,-37.02840805053711,-52.00397872924805,-16.477527618408203,13.12084674835205,32.16443634033203,-35.757450103759766,4.500048637390137,-13.604513168334961,41.58137130737305,10.013927459716797,-18.774612426757812,-24.99137306213379,-28.913053512573242,14.922898292541504,18.76934814453125,1.3096909523010254,-28.387617111206055,26.761775970458984,-13.253852844238281,-30.126070022583008,-25.056886672973633,-5.917525291442871,-27.149463653564453,-24.20223617553711,-13.694634437561035,-33.217533111572266,-28.463762283325195,-16.17603302001953,13.893614768981934,4.534640789031982,-49.57168960571289,-9.64970588684082,12.017472267150879,-26.01089859008789,-30.075695037841797,-27.633325576782227,-43.67741394042969,-26.430604934692383,-49.59730911254883,-30.613658905029297,45.78664016723633,-3.29498028755188,44.75747299194336,27.002487182617188,28.430057525634766,25.77971076965332,-26.963254928588867,16.535982131958008,47.160003662109375,-50.23294448852539,46.85365295410156,-17.124460220336914,17.3853816986084,-32.33119583129883,-0.7445562481880188,14.882598876953125,13.588042259216309,41.70463943481445,32.06502914428711,4.346908092498779,-37.41708755493164,-0.6726714968681335,-41.133243560791016,7.002869606018066,-24.44757652282715,-48.25619888305664,20.844017028808594,32.30725860595703,10.974206924438477,47.632347106933594,37.60791778564453,9.709463119506836,1.1005948781967163,34.46004867553711,-19.72471046447754,13.128508567810059,-1.2045265436172485,6.41313362121582,-2.258629560470581,-2.853663921356201,25.730424880981445,17.582801818847656,6.167428493499756,15.319207191467285,-5.514382839202881,5.727333068847656,16.446443557739258,-48.0423698425293,-47.370304107666016,11.672694206237793,35.71080017089844,13.100327491760254,51.79146194458008,48.24055862426758,-17.256914138793945,16.471364974975586,-39.8715705871582,-39.73335266113281,-44.60182571411133,3.5470290184020996,-22.5330753326416,-0.46949899196624756,22.994346618652344,45.446834564208984,-51.15860366821289,-7.118454456329346,-24.917219161987305,-29.365219116210938,26.007667541503906,27.930374145507812,54.834468841552734,-7.5789875984191895,-1.2365093231201172,25.98451805114746,-22.849590301513672,28.798023223876953,28.35002326965332,40.317161560058594,18.64798355102539,3.6050429344177246,8.335129737854004,-20.509132385253906,-44.1645622253418,2.896160840988159,6.794493675231934,-3.0966830253601074,8.749723434448242,20.341014862060547,38.770381927490234,30.173995971679688,-11.537954330444336,-1.229129433631897,10.444581985473633,36.412696838378906,-8.95031452178955,-40.014503479003906,12.080533027648926,12.055176734924316,-32.7455940246582,41.81215286254883,-27.192670822143555,-1.3454437255859375,3.284942388534546,-7.241812229156494,31.843097686767578,30.697689056396484,-14.550185203552246,39.65647506713867,53.5729866027832,14.266499519348145,-27.213991165161133,-33.34383010864258,-44.59925079345703,16.421302795410156,-14.018509864807129,-5.521519660949707,32.3278694152832,-27.213991165161133,27.577280044555664,47.82224655151367,43.72533416748047,3.6794352531433105,7.237002372741699,-9.086910247802734,-14.571017265319824,-13.153006553649902,47.97899627685547,-25.13409423828125,34.90378189086914,-18.5025634765625,6.222745418548584,-35.317413330078125,-0.4935130476951599,16.573278427124023,-33.4450569152832,-9.743095397949219,29.908151626586914,10.403336524963379,6.384886741638184,-23.011512756347656,-38.361106872558594,22.87738037109375,-45.9638557434082,6.385104179382324,-18.113109588623047,7.720189094543457,-2.6700260639190674,-26.202375411987305,-24.384544372558594,12.892085075378418,-27.575185775756836,-35.588409423828125,-8.70918083190918,-52.213802337646484,-35.53468322753906,10.997824668884277,-19.934932708740234,-40.701988220214844,-11.525843620300293,36.03261184692383,45.70825958251953,-55.29822540283203,5.419917106628418,-51.923892974853516,-16.730876922607422,-35.933372497558594,-18.271501541137695,-32.47237014770508,-21.935630798339844,-27.64391326904297,-22.463220596313477,14.077899932861328,-16.530290603637695,0.9228283762931824,-9.63589096069336,11.352903366088867,-35.01454162597656,45.20616149902344,42.47273254394531,50.80565643310547,0.4372917711734772,12.194204330444336,1.0022615194320679,-22.159679412841797,13.931170463562012,-21.371362686157227,32.36878967285156,26.449661254882812,2.74847674369812,-40.21765899658203,50.176021575927734,51.91143798828125,-15.085399627685547,-42.399024963378906,-19.30953025817871,0.712434709072113,-19.523401260375977,50.540348052978516,-44.284034729003906,50.86421203613281,51.1667594909668,30.366863250732422,-23.73847770690918,-25.30144691467285,-6.135371208190918,-46.68168258666992,13.036017417907715,28.215492248535156,28.326154708862305,6.21989631652832,-25.208654403686523,-22.115449905395508,-35.831398010253906,-16.61111831665039,-21.025423049926758,-6.7245283126831055,-13.611068725585938,12.94583797454834,-28.950132369995117,12.058826446533203,-24.12401008605957,4.460609436035156,39.340171813964844,20.493267059326172,26.47599983215332,4.254576206207275,-1.109948754310608,15.277685165405273,5.130555152893066,-18.4914493560791,-6.202212810516357,-20.532011032104492,11.11580753326416,-21.112701416015625,2.2156667709350586,1.138709545135498,0.6657790541648865,-15.198110580444336,-2.6329782009124756,-26.608753204345703,-32.26138687133789,-11.565237998962402,36.93852615356445,34.445308685302734,37.63556671142578,32.29653549194336,5.05012321472168,54.5347785949707,29.93391990661621,31.635404586791992,36.7979621887207,-28.70711898803711,-22.284208297729492,23.973648071289062,-28.20357894897461,-3.9286341667175293,-19.47091293334961,-26.43042755126953,-10.9996919631958,-11.228920936584473,15.532167434692383,13.494460105895996,-31.669471740722656,-10.672247886657715,26.57012176513672,21.216167449951172,38.814918518066406,41.56705856323242,31.880388259887695,21.538476943969727,1.4836915731430054,40.338748931884766,-46.98652267456055,33.68146514892578,22.7698974609375,-11.197227478027344,31.650188446044922,-48.1274528503418,-5.761101722717285,14.38228702545166,38.259849548339844,12.242167472839355,-28.74816131591797,36.037498474121094,-35.621707916259766,-31.651561737060547,29.840538024902344,-1.2855260372161865,-21.821712493896484,1.5644474029541016,-48.3475227355957,-51.92890167236328,-32.089412689208984,-16.565073013305664,-1.5328092575073242,-31.820465087890625,34.382537841796875,20.507509231567383,37.83845901489258,34.57815170288086,39.290130615234375,40.02483367919922,44.06871795654297,19.706188201904297,-36.25118637084961,-20.757463455200195,45.77456283569336,-15.864930152893066,-15.90562629699707,-11.874308586120605,-4.436056137084961,17.436132431030273,32.39414978027344,31.930587768554688,37.213600158691406,-51.606746673583984,-38.27167892456055,-15.721482276916504,-49.11414337158203,2.619965076446533,40.592247009277344,52.492305755615234,51.20163345336914,49.883811950683594,54.34746170043945,49.67512512207031,36.98265075683594,26.884815216064453,-2.9132449626922607,8.958373069763184,9.959665298461914,-0.305341511964798,-0.305341511964798,18.128999710083008,33.961917877197266,-23.397127151489258,-33.34463119506836,27.23198699951172,4.670095920562744,-23.839494705200195,-52.429908752441406,-19.21921157836914,-11.37020206451416,20.734375,27.120080947875977,48.11051559448242,48.849021911621094,50.24433517456055,54.87825012207031,0.05016179382801056,27.33255958557129,38.16121292114258,38.161476135253906,0.05016179382801056,-6.842566013336182,-29.44721031188965,-53.227386474609375,55.2122917175293,17.91421890258789,30.180028915405273,4.820486068725586,12.664594650268555,10.479207038879395,5.289412021636963,16.11509132385254,-6.377010345458984,-14.786114692687988,-40.146026611328125,33.09531021118164,22.71712875366211,50.39965057373047,32.009700775146484,17.359790802001953,-45.789451599121094,40.68843460083008,-15.190844535827637,28.623891830444336,24.99483871459961,-53.28410339355469,2.3578929901123047,-2.176239252090454,19.77442169189453,13.171273231506348,24.797611236572266,-27.126277923583984,2.6835851669311523,-8.326192855834961,-14.502158164978027,-36.16685104370117,9.132003784179688,-20.15906524658203,-51.83849334716797,-25.583744049072266,0.7789232730865479,-43.85957336425781,-8.086433410644531,-28.96200180053711,-19.674850463867188,-42.8852424621582,-23.934106826782227,-26.341129302978516,9.348902702331543,-28.853036880493164,-44.82442855834961,6.963742256164551,1.4633452892303467,-22.61724853515625,-44.4289436340332,-11.326319694519043,14.143163681030273,-31.75952911376953,45.146583557128906,8.888398170471191,3.083078384399414,-30.988100051879883,-45.841949462890625,-44.6707763671875,3.21124529838562,25.1751651763916,13.07197380065918,12.057888984680176,13.468223571777344,-5.69540548324585,18.256893157958984,-39.99732208251953,-15.246163368225098,26.648488998413086,-18.06997299194336,-17.424419403076172,15.991094589233398,22.755128860473633,-27.25847816467285,39.88822555541992,1.7558120489120483,39.88444900512695,5.117790699005127,16.5655574798584,25.693992614746094,11.3975830078125,-31.654924392700195,24.034269332885742,4.425858020782471,-0.18207617104053497,1.8649053573608398,-4.942144393920898,0.7597503662109375,27.120080947875977,22.05229377746582,16.268190383911133,29.831579208374023,50.243003845214844,39.72237014770508,-20.913053512573242,-45.30923843383789,-40.24306106567383,6.485202789306641,6.323853015899658,0.717825174331665,5.871781826019287,49.07766342163086,49.014644622802734,33.4460334777832,49.29745864868164,-39.41271209716797,54.62754821777344,50.59386444091797,-3.7615950107574463,17.68842315673828,0.8555750846862793,0.8555750846862793,-44.82978820800781,45.43544006347656,20.02859115600586,32.76287841796875,0.8555750846862793,49.08219909667969,-26.94180679321289,44.1912727355957,43.98797607421875,-0.6260150671005249,10.77651596069336,18.20146369934082,10.581088066101074,49.149658203125,48.114410400390625,49.29222869873047,31.194175720214844,-0.38568833470344543,48.678524017333984,37.11897277832031,-24.85066795349121,16.843935012817383,-12.639840126037598,44.06415939331055,-7.247287273406982,-35.036739349365234,-32.78937911987305,-41.17246627807617,-43.17591857910156,-38.812110900878906,-21.171001434326172,-47.293365478515625,-39.31529235839844,18.171588897705078,-33.40664291381836,-26.028026580810547,-7.6827921867370605,-7.215064525604248,10.023289680480957,-16.96689796447754,-32.05569839477539,-6.960488796234131,-12.479031562805176,33.31559371948242,50.69863510131836,52.36884307861328,45.12419128417969,-8.209203720092773,31.823984146118164,-26.130889892578125,-27.429174423217773,15.228588104248047,6.217099666595459,0.9164606332778931,-50.797237396240234,-0.21302497386932373,31.823984146118164,16.436168670654297,-43.03678512573242,27.62749671936035,27.923431396484375,-5.297422885894775,-39.854244232177734,-40.07241439819336,4.439652919769287,-12.349865913391113,-49.84872055053711,-40.239723205566406,-41.927711486816406,-15.708907127380371,7.719560623168945,-50.46029281616211,18.171527862548828,15.86877155303955,-17.88589859008789,17.177064895629883,50.13723373413086,29.032873153686523,11.249979972839355,-3.314793109893799,30.013870239257812,21.534578323364258,18.782333374023438,-29.97142791748047,30.898588180541992,18.452381134033203,31.316390991210938,24.052528381347656,23.647899627685547,38.4870491027832,30.0524959564209,29.053787231445312,26.034780502319336,28.48849105834961,28.816221237182617,29.571557998657227,-16.214359283447266,34.86470031738281,23.285964965820312,25.428218841552734,30.818334579467773,3.3258914947509766,29.038131713867188,-30.483867645263672,-10.952324867248535,29.416748046875,37.792572021484375,34.94017028808594,30.080181121826172,38.07114028930664,12.538352012634277,29.941789627075195,29.16922378540039,-8.53348445892334,30.119014739990234,8.399763107299805,-4.87554407119751,14.17148208618164,-2.4126338958740234,-11.474255561828613,22.729415893554688,18.58351707458496,17.876785278320312,-33.34383010864258,-30.608003616333008,-25.037620544433594,11.812597274780273,11.346335411071777,-48.94849395751953,31.061054229736328,27.157896041870117,-21.953495025634766,36.68357467651367,-53.487464904785156,34.49745178222656,-49.274925231933594,-51.48262023925781,8.061633110046387,0.5853500366210938,-2.5870420932769775,-34.91396713256836,5.592857360839844,8.666922569274902,22.66733169555664,8.692683219909668,-13.730793952941895,17.819204330444336,22.599624633789062,-41.407474517822266,-29.90142822265625,10.579922676086426,-11.547255516052246,43.916603088378906,-9.508005142211914,10.997815132141113,26.12666893005371,16.698087692260742,-42.725894927978516,42.641666412353516,49.61930847167969,50.41776657104492,21.561922073364258,36.322410583496094,40.78408432006836,55.288658142089844,6.052612781524658,-44.77625274658203,-15.281591415405273,-29.86440658569336,-51.72290802001953,38.10725021362305,19.851856231689453,11.91384506225586,-21.52950668334961,-27.033945083618164,33.133399963378906,16.671466827392578,30.018484115600586,13.250732421875,-5.504405975341797,51.63212203979492,-23.506319046020508,-20.884859085083008,-23.171045303344727,51.90278625488281,-43.85374069213867,-8.179282188415527,35.38247299194336,-19.820470809936523,-47.44251251220703,-18.855012893676758,-1.4649813175201416,-24.223180770874023,-44.470462799072266,-21.463226318359375,-21.987133026123047,18.53232765197754,-31.520933151245117,4.608469486236572,-45.014556884765625,-8.271561622619629,-33.793724060058594,23.186023712158203,-22.950733184814453,-23.74277114868164,50.96361541748047,41.16984939575195,1.5370473861694336,25.618465423583984,-24.974748611450195,-21.51200294494629,-30.862327575683594,33.981712341308594,-3.326047420501709,50.01443099975586,4.72396993637085,-24.07309913635254,-39.968875885009766,7.549734115600586,-6.504632949829102,17.03582191467285,-41.24400329589844,-2.6899657249450684,-6.643215179443359,-7.5789875984191895,-6.328958511352539,27.69218635559082,-0.5669134855270386,21.329757690429688,14.890710830688477,17.65314483642578,-27.343557357788086,11.494709014892578,-24.16316795349121,-48.93663787841797,-17.75076675415039,31.894306182861328,8.090530395507812,-29.3262996673584,38.0316047668457,3.9908697605133057,39.18024444580078,10.286185264587402,-20.332134246826172,42.549957275390625,27.33255958557129,-1.6527957916259766,-0.2500499486923218,-7.291617393493652,-10.607393264770508,0.19389298558235168,4.186615943908691,8.384169578552246,38.26317596435547,-8.319624900817871,22.851146697998047,-22.507736206054688,-44.96205520629883,8.170973777770996,9.151060104370117,-1.8814260959625244,-6.198878765106201,6.241354465484619,1.6554358005523682,31.389020919799805,-18.637508392333984,37.15296936035156,33.3961296081543,11.912774085998535,-16.18010902404785,-48.55890655517578,17.545833587646484,-31.390621185302734,-2.18302845954895,-1.1425310373306274,24.268474578857422,46.16801452636719,5.256062030792236,-12.767730712890625,45.824684143066406,4.178672790527344,-30.811471939086914,-22.531200408935547,-41.0599250793457,1.7326782941818237,-26.932748794555664,-28.855436325073242,-24.815990447998047,-30.562252044677734,-22.944438934326172,-33.72970199584961,3.274256944656372,-28.686756134033203,-41.760276794433594,-50.220664978027344,-31.343229293823242,-53.69364547729492,-1.3601963520050049,19.232036590576172,9.061347961425781,8.470714569091797,11.909405708312988,28.855396270751953,-11.41600227355957,-11.025418281555176,5.7677507400512695,19.735937118530273,-24.368406295776367,-21.097028732299805,-28.070932388305664,-47.1398811340332,-24.600011825561523,4.7439351081848145,46.17960739135742,-29.974035263061523,-24.086700439453125,-22.57996940612793,-38.9069938659668,-28.489667892456055,7.5209431648254395,1.4076470136642456,-0.7532169222831726,-32.07290267944336,-51.89862823486328,-24.276533126831055,3.7146825790405273,-43.71852111816406,25.28647232055664,41.5499153137207,46.20663833618164,23.08856964111328,22.599624633789062,13.430292129516602,-29.475461959838867,12.614734649658203,-29.779125213623047,-2.212076425552368,23.90055274963379,-18.50745964050293,0.09294291585683823,-23.363157272338867,16.489309310913086,-12.01774787902832,43.35097885131836,-14.751157760620117,-16.68796157836914,-38.32201385498047,-14.936685562133789,-29.736108779907227,-47.89190673828125,-18.85456657409668,39.910682678222656,-36.55826187133789,16.013572692871094,-45.7330322265625,-9.715534210205078,-12.562115669250488,-19.551809310913086,-8.881083488464355,-22.31082534790039,11.694406509399414,-14.073738098144531,11.440351486206055,-20.885087966918945,-47.32357406616211,42.37642288208008,38.19239807128906,-2.935772657394409,53.578590393066406,-30.730392456054688,17.039623260498047,9.340780258178711,-22.88522720336914,21.321123123168945,-36.681175231933594,-20.708568572998047,32.48126220703125,-36.32236862182617,-43.36030578613281,20.825916290283203,-45.119361877441406,35.6626091003418,-6.998087406158447,-6.998087406158447,7.041365146636963,-31.943849563598633,33.106483459472656,-48.82627487182617,2.1601922512054443,26.57012176513672,10.24698257446289,41.94375991821289,12.49976921081543,7.818504810333252,22.06884765625,34.260398864746094,15.394379615783691,-12.122879028320312,24.304975509643555,-22.849590301513672,45.69816589355469,2.255417823791504,-11.370203018188477,-22.449907302856445,-1.9569499492645264,-19.969755172729492,-3.1206862926483154,52.046329498291016,34.99174118041992,-23.055219650268555,7.797769069671631,1.948217749595642,-2.5697848796844482,-0.9167085289955139,28.872783660888672,3.7132697105407715,11.97833251953125,-2.2541890144348145,24.844242095947266,-11.918993949890137,25.537080764770508,9.471482276916504,-19.768598556518555,31.553241729736328,28.581321716308594,19.32638168334961,4.877082347869873,-4.851472854614258,15.164935111999512,7.569179058074951,-4.059615135192871,-2.4095213413238525,40.592247009277344,20.19668197631836,36.85674285888672,11.824875831604004,-4.494375705718994,-5.976247787475586,23.715206146240234,0.2146485298871994,-30.20083999633789,-21.837444305419922,3.672618865966797,18.3336238861084,40.264949798583984,-1.5507047176361084,40.56118392944336,-36.62532424926758,35.397178649902344,30.56805419921875,-3.1984190940856934,-17.055950164794922,-23.545331954956055,31.926254272460938,-3.8935952186584473,10.041525840759277,-16.311275482177734,38.224273681640625,28.842708587646484,17.514787673950195,10.721609115600586,-21.793258666992188,1.260280728340149,1.3425570726394653,-24.109363555908203,-34.64275360107422,4.289450168609619,1.6942639350891113,28.610015869140625,50.00594711303711,17.54591178894043,-45.95175552368164,16.772836685180664,33.879520416259766,33.879520416259766,1.622422218322754,-44.90146255493164,4.318306922912598,-13.868531227111816,-41.262794494628906,32.53837966918945,32.68505859375,2.664390802383423,6.610235691070557,24.306711196899414,7.980888366699219,-36.52743148803711,-28.914752960205078,44.31280517578125,-15.748373031616211,-28.87835121154785,-19.016454696655273,-29.007522583007812,-33.659080505371094,8.550363540649414,14.285187721252441,-9.636174201965332,-23.21687126159668,26.103282928466797,-33.66223907470703,-23.96647071838379,-12.306710243225098,19.0234317779541,-11.893200874328613,-32.322059631347656,-12.588741302490234,9.079221725463867,-20.031579971313477,-32.48151779174805,41.05901336669922,-43.72956085205078,-23.777301788330078,8.032031059265137,-27.207794189453125,-54.981727600097656,12.75943660736084,13.58846664428711,2.581468343734741,31.875871658325195,6.761563777923584,-13.562482833862305,-19.3382511138916,-20.399703979492188,-20.60179328918457,54.050010681152344,23.166584014892578,18.80535125732422,13.54477310180664,46.50115966796875,6.979137897491455,47.227699279785156,34.546051025390625,-43.42459487915039,-14.522269248962402,-19.656551361083984,-30.872522354125977,-35.00248336791992,2.997174024581909,-35.86240768432617,4.504550457000732,-43.730648040771484,-46.49021530151367,-36.225341796875,9.847399711608887,-22.090457916259766,40.815773010253906,48.97489929199219,37.649723052978516,-1.216544508934021,40.825592041015625,11.85818099975586,-14.467612266540527,40.03657150268555,-0.6685342788696289,14.423312187194824,-4.606634616851807,-41.65958786010742,-37.97431945800781,14.874399185180664,4.9727630615234375,13.675642013549805,-5.742695331573486,6.240804672241211,6.6298065185546875,-18.884260177612305,6.978631019592285,47.33237075805664,-47.97976303100586,-12.90636920928955,-6.087754726409912,-46.79140090942383,-13.234708786010742,-23.87570571899414,-27.66946029663086,18.7691593170166,8.200345993041992,13.40148639678955,5.03129243850708,-0.2130693942308426,17.066530227661133,-15.491217613220215,32.468406677246094,10.372393608093262,-24.6374454498291,-34.960365295410156,-23.05872344970703,-27.87179946899414,-54.30548095703125,-30.200881958007812,42.86309814453125,-4.077694892883301,-40.39692687988281,8.956171035766602,-42.535911560058594,-40.39663314819336,-23.652385711669922,5.37380313873291,-30.975528717041016,-24.67076873779297,-39.009151458740234,-19.883981704711914,40.96092987060547,-52.72665023803711,-14.614236831665039,-36.34475326538086,21.580554962158203,23.60903549194336,-37.78799057006836,6.2858567237854,-30.354970932006836,-30.573671340942383,-44.59925079345703,-24.63796615600586,-22.98379135131836,16.952098846435547,20.499248504638672,41.712730407714844,-13.370312690734863,-20.910629272460938,-12.771408081054688,-16.12576675415039,49.54861068725586,42.24696350097656,-26.936857223510742,41.06742477416992,47.802711486816406,2.3112387657165527,27.623533248901367,51.633766174316406,43.873836517333984,-18.560497283935547,29.64396095275879,5.05012321472168,-2.5853495597839355,-37.85878372192383,29.925983428955078,44.9490852355957,19.48857307434082,29.198266983032227,46.92136764526367,-18.18381690979004,-45.79470443725586,-5.870595455169678,21.250911712646484,-46.58405303955078,28.595041275024414,1.647593379020691,1.9090231657028198,13.840276718139648,36.48141860961914,45.506103515625,-23.790409088134766,-14.359898567199707,-20.87674331665039,-6.244505405426025,10.848316192626953,-16.50330352783203,25.014488220214844,10.586965560913086,27.387496948242188,23.08856964111328,11.560232162475586,-26.223798751831055,-49.16652297973633,40.214134216308594,6.449141502380371,-4.991537094116211,-26.59914779663086,-45.17901611328125,14.466999053955078,-18.357206344604492,-48.0505256652832,7.330007553100586,22.384626388549805,4.627710819244385,-34.28924560546875,-20.436521530151367,24.06116485595703,-41.870269775390625,-34.43016815185547,10.199186325073242,-16.9514102935791,-50.02495193481445,-24.41409683227539,25.599132537841797,34.72520446777344,25.724496841430664,-11.562535285949707,38.224056243896484,16.007938385009766,-13.198736190795898,-7.773972511291504,-39.16282272338867,-7.2113142013549805,31.851747512817383,-1.179122805595398,-5.686860084533691,31.15802574157715,4.322076797485352,-17.69734764099121,-30.17778778076172,-48.63420486450195,-43.029563903808594,-32.66966247558594,-5.963551044464111,26.97122573852539,37.35655975341797,24.6815185546875,48.72710418701172,50.78731155395508,40.97235107421875,24.945789337158203,48.292388916015625,26.58702850341797,-30.08277702331543,8.35661506652832,24.6813907623291,-50.9794921875,21.146291732788086,9.527451515197754,-18.657838821411133,44.33414840698242,16.150846481323242,-43.08978271484375,-31.96803855895996,-2.7423596382141113,-26.360668182373047,-25.95162582397461,13.141850471496582,-32.625823974609375,1.8305983543395996,1.2931073904037476,6.00710391998291,11.57027816772461,-8.030645370483398,-18.080507278442383,-46.1147575378418,-3.4253921508789062,-28.559091567993164,-49.90300750732422,-19.53179359436035,-20.8560733795166,-27.045358657836914,8.234383583068848,-41.93034744262695,-36.45590591430664,-7.893301010131836,-17.294029235839844,-18.70047378540039,39.632015228271484,-10.084025382995605,17.03150177001953,25.264986038208008,-17.974525451660156,-9.685518264770508,-25.46466636657715,-17.898990631103516,44.58698654174805,-12.2644624710083,-13.380671501159668,-15.903141975402832,-26.66289520263672,-26.48872184753418,-16.060543060302734,55.036865234375,-26.94475746154785,-15.34614372253418,-13.423046112060547,17.584630966186523,50.58110809326172,-32.46223449707031,-25.87827491760254,-27.848512649536133,-39.64608383178711,-26.932695388793945,-36.82404708862305,4.67019510269165,46.80292892456055,-3.837611436843872,3.3487350940704346,7.428621292114258,9.148146629333496,-5.165452003479004,-25.077463150024414,-26.475618362426758,3.032836437225342,-11.770726203918457,-23.532390594482422,-47.574520111083984,-27.25406265258789,-2.1598966121673584,-2.513242721557617,10.349565505981445,-21.561904907226562,5.154566764831543,-3.278510808944702,-0.3939075171947479,11.275744438171387,8.917670249938965,-16.240360260009766,51.16377258300781,7.870632648468018,-14.81198501586914,-11.386127471923828,-18.869197845458984,21.535282135009766,5.285192966461182,-49.55744171142578,-9.596701622009277,-24.00014305114746,8.215195655822754,8.155577659606934,-2.9232842922210693,-7.50067663192749,-36.431854248046875,-16.318153381347656,6.365744113922119,-11.408594131469727,-0.09802553802728653,35.70717239379883,13.993934631347656,22.288957595825195,-36.40074920654297,-35.09162521362305,-35.075801849365234,-30.36387062072754,-43.67732620239258,-23.05509376525879,-57.34518814086914,24.649580001831055,36.05672073364258,37.02550506591797,-21.66796875,-6.099527359008789,-51.99457931518555,-16.83027458190918,-18.087549209594727,-15.469810485839844,22.0522518157959,-45.86742401123047,-33.06599807739258,38.58022689819336,43.707557678222656,27.763782501220703,21.45545768737793,11.918063163757324,-51.553775787353516,-6.2881903648376465,-47.99647521972656,-32.12225341796875,-3.6438567638397217,-21.315601348876953,-50.01618957519531,-46.4420166015625,-33.745479583740234,4.28214168548584,41.257686614990234,-46.80340576171875,-29.714271545410156,-9.634510040283203,-24.797592163085938,-39.674686431884766,26.632333755493164,-18.314786911010742,12.13344955444336,36.36054611206055,17.15467643737793,-19.15323257446289,-26.06942367553711,-28.780414581298828,-46.47397994995117,-49.31344985961914,-16.67725944519043,-47.052520751953125,-26.828811645507812,-33.80836486816406,9.6034517288208,-56.476402282714844,-14.892966270446777,11.06308650970459,45.124446868896484,-17.472593307495117,-19.698877334594727,-19.895870208740234,4.754243850708008,9.735607147216797,7.739417552947998,-52.66047668457031,25.154396057128906,-35.622474670410156,10.799087524414062,-29.088693618774414,15.062429428100586,-18.948040008544922,21.61406707763672,1.5644298791885376,-9.086358070373535,-2.8936495780944824,-13.658590316772461,-10.672247886657715,-8.228554725646973,-13.412211418151855,-21.626331329345703,-27.045358657836914,-22.63149642944336,24.122695922851562,-13.820191383361816,-13.364606857299805,-19.182727813720703,4.1525983810424805,19.694976806640625,-4.186927318572998,-37.34046936035156,6.531222343444824,5.341906547546387,11.21825122833252,-4.886728763580322,50.95817947387695,1.5500457286834717,40.214134216308594,-19.146940231323242,31.045297622680664,30.44546890258789,-12.44575023651123,-29.240638732910156,1.613264560699463,3.5428757667541504,20.384986877441406,22.883153915405273,11.49343204498291,27.36542510986328,3.661644697189331,-11.270855903625488,26.12693977355957,54.27968978881836,50.422027587890625,-15.436469078063965,-50.00312042236328,28.094253540039062,24.171890258789062,28.886009216308594,-49.004730224609375,-49.00457000732422,50.537261962890625,51.51237487792969,17.16887092590332,-37.84345245361328,9.515680313110352,24.91680908203125,51.12998580932617,-10.50120735168457,0.10618238151073456,-22.186798095703125,47.45185089111328,34.160980224609375,-31.545154571533203,-21.63632583618164,3.6779401302337646,-30.892045974731445,-2.23097562789917,-32.620697021484375,-18.06156349182129,-24.368343353271484,-2.020235538482666,-10.555961608886719,-2.331632614135742,-0.9286893010139465,11.589534759521484,18.611419677734375,-2.7718043327331543,0.9469739198684692,14.606151580810547,23.638071060180664,-35.19061279296875,-13.111249923706055,-30.41283416748047,-11.073872566223145,37.179473876953125,42.423580169677734,0.15834572911262512,-21.618017196655273,16.141374588012695,-26.834409713745117,6.596478462219238,29.772960662841797,-21.836450576782227,38.417724609375,3.4530868530273438,-57.34518814086914,-19.077472686767578,16.55433464050293,-37.377784729003906,-12.288290023803711,-18.996349334716797,-24.573055267333984,-54.01950454711914,-54.860137939453125,-28.45913314819336,-35.35956573486328,-4.418869495391846,-26.87839126586914,23.21396255493164,0.972567081451416,49.36808776855469,1.247093915939331,-4.803746700286865,18.71076774597168,0.3729040026664734,23.467348098754883,20.959495544433594,-43.06459045410156,39.68821334838867,48.55825424194336,32.05718231201172,14.351461410522461,-24.90043067932129,11.09929084777832,-23.24740219116211,18.678495407104492,13.751236915588379,-1.0039503574371338,9.549930572509766,-15.675651550292969,26.613189697265625,-15.931644439697266,-2.2414135932922363,1.9217253923416138,-6.698541164398193,8.136974334716797,46.53417205810547,49.5563850402832,-10.653509140014648,-22.901533126831055,-29.253318786621094,11.04039192199707,7.116279125213623,-36.50632095336914,-11.407505989074707,-33.812828063964844,9.73737907409668,17.76905059814453,-3.6270668506622314,21.881702423095703,-50.53651809692383,-45.68138122558594,-42.53302001953125,-28.332122802734375,4.52044153213501,-23.180496215820312,26.5551700592041,1.2945281267166138,-23.874555587768555,-5.165452003479004,-32.340301513671875,4.795642375946045,-23.341217041015625,3.0963122844696045,14.058609962463379,17.663625717163086,-0.18919596076011658,-32.01119613647461,-46.09687042236328,-28.689790725708008,13.610166549682617,1.496762752532959,-24.873186111450195,-0.8126456141471863,19.260770797729492,-6.7898850440979,-12.741145133972168,27.120080947875977,13.47091007232666,10.175023078918457,6.413819313049316,4.370368480682373,28.13311767578125,8.874709129333496,26.006107330322266,49.08332061767578,25.771333694458008,-43.593360900878906,30.816919326782227,-29.987932205200195,18.326719284057617,-22.994720458984375,-31.31870460510254,-27.498119354248047,12.648737907409668,-44.49340057373047,13.954927444458008,-25.846023559570312,10.153806686401367,5.38371467590332,1.8463655710220337,-39.89118194580078,-8.84887981414795,-14.982870101928711,7.322301864624023,-51.52880096435547,-26.789812088012695,-14.941512107849121,3.608536958694458,-9.741530418395996,15.42505168914795,-38.5188102722168,25.731306076049805,32.346988677978516,40.36574935913086,-10.106207847595215,33.028175354003906,47.26947784423828,44.9390983581543,2.227245569229126,-34.2523307800293,-0.899992823600769,8.828574180603027,3.300194501876831,11.625353813171387,-18.50896644592285,11.625353813171387,-44.548274993896484,-14.025606155395508,44.318016052246094,-20.407848358154297,-27.458730697631836,-0.07555638253688812,0.12350529432296753,-25.040477752685547,3.083078384399414,7.026442050933838,27.772247314453125,39.02134323120117,14.968042373657227,34.30339050292969,-30.039897918701172,-26.96128273010254,32.92509460449219,25.219097137451172,-20.365407943725586,0.9389573931694031,1.786373257637024,25.62485694885254,-26.538537979125977,-20.73590087890625,-20.660980224609375,-31.716054916381836,33.61841583251953,-26.203746795654297,-36.258460998535156,44.19762420654297,31.062705993652344,20.817678451538086,38.758033752441406,47.389862060546875,53.61484146118164,-15.971972465515137,13.50986099243164,19.808338165283203,9.681655883789062,33.095619201660156,4.798488140106201,-18.99650764465332,-16.752004623413086,-44.02635192871094,-45.35466384887695,1.5682239532470703,11.057250022888184,0.9840887188911438,-29.9522705078125,-45.44260787963867,2.221325635910034,-21.424392700195312,44.80443572998047,-24.198522567749023,-21.193344116210938,-26.659439086914062,-26.963254928588867,18.504833221435547,-24.794639587402344,6.332364559173584,-37.83968734741211,-22.243558883666992,-20.564424514770508,-3.7064449787139893,18.504833221435547,-38.7777214050293,-0.22173574566841125,-22.36751365661621,-45.3588752746582,34.496376037597656,33.24909973144531,-16.340105056762695,-24.50940704345703,2.241218328475952,-43.672752380371094,-20.564424514770508,1.8816874027252197,-45.35459899902344,-26.19873809814453,-42.138031005859375,2.651413917541504,-1.2275571823120117,11.711018562316895,35.05223846435547,-21.83551025390625,-9.651032447814941,2.854966640472412,30.69740104675293,24.768259048461914,3.4099698066711426,-4.937975883483887,49.03010559082031,37.69017791748047,1.9423643350601196,-30.05936050415039,-14.279786109924316,42.28128433227539,12.914365768432617,2.0720038414001465,1.1907058954238892,10.016112327575684,-15.044434547424316,-12.22712516784668,-11.867555618286133,32.52189254760742,29.62092399597168,4.322076797485352,-1.246972918510437,9.725876808166504,37.968997955322266,19.834426879882812,-2.2024412155151367,3.1324121952056885,-0.9142398834228516,28.980436325073242,-25.094514846801758,-33.793724060058594,-34.85563278198242,-19.42108154296875,27.061153411865234,16.61775016784668,28.939624786376953,-51.32952880859375,30.881175994873047,29.863996505737305,-17.41263771057129,8.29442024230957,-23.36504364013672,-13.756903648376465,-0.188149556517601,-21.53836441040039,-22.939224243164062,9.234101295471191,5.108094215393066,-12.536046981811523,-44.30683135986328,-11.78427505493164,-39.86424255371094,-30.017200469970703,-28.752880096435547,-13.788236618041992,10.454055786132812,-18.466232299804688,-29.509864807128906,-37.61777877807617,-15.843520164489746,-3.323967218399048,-2.4573235511779785,31.730941772460938,7.36661958694458,-2.6284704208374023,-39.99732208251953,34.27547836303711,48.02003479003906,-32.08424377441406,-24.600494384765625,-6.093532562255859,36.178524017333984,20.62412452697754,-18.452960968017578,35.558475494384766,45.120933532714844,36.652225494384766,2.7640132904052734,9.614035606384277,26.05824089050293,24.3398380279541,15.068144798278809,15.301280975341797,21.85721206665039,19.486326217651367,15.962214469909668,17.842817306518555,-20.69235610961914,2.2046821117401123,-0.3509029150009155,5.4950852394104,-32.33761215209961,-10.065030097961426,-51.31121063232422,-32.72797393798828,-53.50923538208008,-5.331393241882324,-47.13974380493164,-33.533843994140625,-53.47816848754883,-49.08371353149414,-27.14665985107422,-42.69301986694336,6.571638107299805,-36.363739013671875,-17.87820053100586,-17.772253036499023,4.282754898071289,31.446182250976562,12.147395133972168,-32.607177734375,-16.098318099975586,-25.002315521240234,8.652785301208496,8.45250415802002,14.017650604248047,13.919751167297363,20.19668197631836,-12.105243682861328,15.89228630065918,-2.9867465496063232,-24.567426681518555,23.547483444213867,32.24753189086914,52.57548522949219,8.738959312438965,7.569179058074951,12.401219367980957,47.43098068237305,31.790281295776367,25.290599822998047,14.840743064880371,-0.14860396087169647,0.6984814405441284,-52.78639602661133,-16.041080474853516,20.7944278717041,40.729766845703125,10.997824668884277,32.3132438659668,-32.64277648925781,-43.86262893676758,-0.48773717880249023,7.492645740509033,-30.54073715209961,-28.44121551513672,11.230868339538574,-12.524794578552246,-24.047143936157227,-25.553831100463867,10.041180610656738,15.74721908569336,-30.0930118560791,8.843688011169434,-30.35679817199707,-13.588384628295898,2.7074341773986816,5.623380661010742,-26.768213272094727,-27.610218048095703,-48.31498718261719,-15.469504356384277,-27.881643295288086,-38.5908088684082,-19.224428176879883,-3.920984983444214,-36.010311126708984,43.65154266357422,47.35145950317383,51.73340606689453,-2.1764464378356934,-20.422409057617188,34.72692108154297,-5.272303581237793,-51.584171295166016,-39.698333740234375,-32.06561279296875,45.506103515625,5.074984550476074,-2.1840648651123047,-45.82432556152344,-42.325042724609375,-34.33042907714844,1.9238156080245972,28.980436325073242,36.47781753540039,22.185253143310547,-12.368961334228516,-17.673664093017578,3.7932796478271484,-19.515737533569336,-20.13817024230957,-14.67801284790039,-26.27507972717285,-52.83491516113281,-41.46744918823242,5.628756046295166,-0.6318359971046448,29.758073806762695,1.7080885171890259,35.97502517700195,-22.910919189453125,-43.103023529052734,20.090028762817383,-27.92630958557129,-19.05718994140625,-13.182626724243164,-45.228824615478516,-29.81513786315918,41.48454284667969,-9.573738098144531,2.6831302642822266,52.96024703979492,15.163873672485352,16.069808959960938,22.185129165649414,22.185251235961914,-21.424392700195312,18.805498123168945,-21.00827407836914,-6.672983169555664,35.69291305541992,11.526477813720703,47.918479919433594,33.9893913269043,25.317794799804688,-15.007800102233887,37.75678253173828,35.954769134521484,34.97431182861328,39.46336364746094,26.70233917236328,37.841678619384766,25.605195999145508,35.43879318237305,27.052549362182617,36.45194625854492,25.676523208618164,35.30556106567383,52.88246536254883,29.18289566040039,20.042144775390625,52.53815841674805,-15.601252555847168,-53.557403564453125,-54.6542854309082,-48.64200210571289,-30.394018173217773,-46.66606140136719,-33.83637619018555,41.7318115234375,-41.5467643737793,42.854896545410156,19.370790481567383,-17.167278289794922,22.553375244140625,5.677496910095215,5.356015205383301,-22.40556526184082,31.64430046081543,37.29956817626953,23.325336456298828,-17.835269927978516,-3.307645559310913,25.60822105407715,11.960089683532715,37.208168029785156,-45.204471588134766,-47.50087356567383,-47.10291290283203,24.99873924255371,-1.5561227798461914,-52.358367919921875,17.248506546020508,-53.27092361450195,11.282824516296387,11.987781524658203,5.05165433883667,-17.476505279541016,20.19668197631836,18.493162155151367,52.63405990600586,36.541297912597656,45.20701599121094,28.4395809173584,-20.297584533691406,-44.106239318847656,8.288924217224121,-19.049270629882812,-32.62971115112305,8.551180839538574,29.364147186279297,44.441810607910156,-6.610158443450928,-6.438430309295654,-33.84962463378906,-37.80158996582031,-37.9238395690918,-8.121585845947266,7.731832027435303,-34.29313278198242,-2.6497113704681396,9.504365921020508,25.093441009521484,21.66426658630371,50.40085220336914,40.815773010253906,0.47690320014953613,2.8048532009124756,-11.879944801330566,-18.835647583007812,28.43451499938965,1.7780649662017822,-7.692483901977539,10.0034761428833,-14.217869758605957,14.48527717590332,-21.58011245727539,39.566829681396484,6.848209857940674],\"xaxis\":\"x\",\"y\":[1.3173410892486572,16.49534797668457,20.81700897216797,-25.19388198852539,-9.779261589050293,12.782156944274902,-20.816335678100586,-28.052431106567383,43.21124267578125,-23.444974899291992,56.273399353027344,9.09874153137207,20.138198852539062,-5.192748546600342,-31.318099975585938,-8.836557388305664,-34.84846878051758,-1.968218207359314,46.688941955566406,-0.1715392768383026,-19.9232234954834,-27.229341506958008,-35.7315559387207,-29.997634887695312,44.20146179199219,-39.250728607177734,-29.0733642578125,0.5109186768531799,62.426902770996094,-38.449459075927734,-32.41624069213867,61.33336639404297,-49.31916809082031,17.198938369750977,-20.2279052734375,53.72186279296875,-33.061649322509766,63.3166389465332,-6.670060157775879,-13.621430397033691,4.3482666015625,-21.570451736450195,-42.510337829589844,57.540958404541016,30.885366439819336,-12.961623191833496,62.188716888427734,4.913069725036621,-18.60618782043457,3.7402544021606445,-43.833343505859375,-0.8740882277488708,-6.456904411315918,-5.332319736480713,5.237626552581787,-28.311100006103516,2.9669525623321533,9.286022186279297,-27.44582176208496,-19.402740478515625,8.06466293334961,-3.6003212928771973,52.56121826171875,7.999936103820801,28.474637985229492,-6.389946937561035,55.54739761352539,2.470167636871338,20.650745391845703,9.584124565124512,50.18161392211914,7.470818996429443,15.098387718200684,-16.298912048339844,6.689396381378174,4.674081802368164,0.938113272190094,-21.585773468017578,50.50612258911133,-7.165128707885742,42.407440185546875,5.074962139129639,11.54636001586914,7.663484573364258,-8.414342880249023,30.168642044067383,47.23173522949219,18.054044723510742,-9.296494483947754,-37.328514099121094,-0.8699824810028076,-0.3915193974971771,9.391992568969727,-0.14612987637519836,-18.485713958740234,5.280027866363525,-1.3251867294311523,-1.2135154008865356,-34.3753776550293,-15.479182243347168,-29.81978988647461,-5.978110313415527,41.924861907958984,46.92452621459961,-3.766551971435547,16.54509162902832,27.22383689880371,40.91156005859375,-4.709863185882568,-0.9684253931045532,-21.408201217651367,-13.611594200134277,-10.696964263916016,-4.5175957679748535,-42.033203125,-13.974958419799805,-24.301349639892578,9.108076095581055,-35.727901458740234,55.97946548461914,-17.48748016357422,8.811503410339355,-0.36667439341545105,7.56071662902832,5.303691864013672,-17.718778610229492,-9.538536071777344,-16.988462448120117,-20.037382125854492,24.219057083129883,10.047109603881836,-22.814899444580078,-22.102346420288086,1.8328526020050049,3.216830015182495,13.415063858032227,12.37893009185791,28.474637985229492,-51.47294616699219,24.602136611938477,62.490814208984375,24.602136611938477,-8.879471778869629,-16.308753967285156,46.90867233276367,-15.32443904876709,2.2834482192993164,-21.697999954223633,-11.552936553955078,-4.260095596313477,13.58041000366211,-46.08806610107422,-17.74489974975586,3.399085521697998,7.056569576263428,-20.3734188079834,52.20806121826172,50.873390197753906,-12.276643753051758,-16.47898292541504,-6.993409156799316,-10.441290855407715,-7.558263778686523,-7.960221290588379,-0.37717074155807495,20.31503677368164,11.665529251098633,-12.422032356262207,-15.739405632019043,8.189615249633789,-2.2337961196899414,-16.396442413330078,46.08582305908203,3.2961912155151367,-18.096630096435547,50.5501823425293,-20.325706481933594,-20.406925201416016,-29.294057846069336,-9.894610404968262,5.253103733062744,0.7631321549415588,43.485107421875,-5.232767105102539,59.52546310424805,13.955451011657715,24.669736862182617,4.054346084594727,-4.992153644561768,21.229713439941406,-34.06428527832031,46.83913040161133,63.4046745300293,-31.358932495117188,-42.73400115966797,-41.9734992980957,10.805691719055176,4.73737907409668,-20.475601196289062,-0.4134095013141632,-35.64308547973633,60.15605545043945,-33.6945686340332,-3.7543344497680664,-34.3630256652832,22.975811004638672,-20.35224151611328,23.93265151977539,-0.7546335458755493,-12.860602378845215,14.713337898254395,-23.526309967041016,14.513453483581543,-44.23016357421875,-45.09394454956055,-47.57814407348633,-38.09492874145508,-34.38835525512695,-29.838674545288086,-22.896827697753906,-32.455204010009766,10.729843139648438,-38.985107421875,-26.264598846435547,-20.573974609375,7.5315680503845215,-1.0331916809082031,-7.274487495422363,4.581048965454102,-0.9426414966583252,-17.653783798217773,1.1274244785308838,-0.976718008518219,49.96192932128906,-12.131586074829102,0.6193638443946838,-11.524337768554688,-23.659626007080078,56.55024719238281,-4.828249454498291,-25.688432693481445,-23.289213180541992,-28.822465896606445,64.8219223022461,-8.618058204650879,-35.75802230834961,52.17079544067383,-29.356420516967773,7.915561199188232,-20.292726516723633,-34.232826232910156,3.910432815551758,-6.728998184204102,-20.911453247070312,-21.133636474609375,0.8996580839157104,53.63922882080078,53.63922882080078,7.147501468658447,9.433940887451172,58.28447341918945,58.1610221862793,26.604827880859375,13.897053718566895,39.4180793762207,-10.571364402770996,21.21772575378418,52.082801818847656,43.05681228637695,44.02360916137695,35.913848876953125,-32.35197448730469,-23.90093994140625,-26.44424819946289,-43.7268180847168,28.31960678100586,11.830804824829102,-24.355363845825195,-47.231414794921875,24.04511260986328,-26.62828254699707,15.506978988647461,57.238826751708984,13.796518325805664,24.004667282104492,57.06399154663086,-11.786767959594727,20.586284637451172,52.04481506347656,47.589962005615234,-18.917457580566406,23.89249038696289,12.495264053344727,23.839820861816406,47.589962005615234,12.330314636230469,55.63563919067383,-31.8373966217041,-30.615238189697266,-32.63520812988281,-22.273174285888672,52.370914459228516,19.792306900024414,4.436394691467285,-7.744279384613037,-27.012174606323242,-32.869346618652344,-23.19978904724121,58.37735366821289,-26.469860076904297,63.408294677734375,64.880859375,-27.616167068481445,47.80558395385742,-5.409323692321777,6.830202579498291,-31.011363983154297,-3.3736414909362793,18.714006423950195,13.873540878295898,-2.3061349391937256,-34.670318603515625,16.135122299194336,-33.18278884887695,10.116833686828613,-11.72424030303955,-2.9938127994537354,4.50931453704834,13.796518325805664,41.553916931152344,-7.471235275268555,-5.308070659637451,7.068978309631348,-29.424762725830078,-2.736011505126953,7.591487884521484,8.122746467590332,-0.6036587357521057,22.335664749145508,-35.12956619262695,-36.4169921875,-10.316441535949707,22.335920333862305,-8.724552154541016,-41.21505355834961,-29.59522247314453,-34.155174255371094,-21.314414978027344,42.45591735839844,52.669307708740234,22.336259841918945,1.3733612298965454,-0.1733972132205963,-30.124357223510742,29.83806037902832,-1.7748433351516724,-33.4828987121582,-8.3546724319458,41.684757232666016,13.504500389099121,-28.109970092773438,2.9251139163970947,31.301536560058594,3.670750856399536,-41.177738189697266,2.8943097591400146,13.383983612060547,-42.38282012939453,3.5074241161346436,-24.507261276245117,29.460695266723633,12.953557968139648,-19.95124053955078,24.4483642578125,-3.183555841445923,13.107922554016113,-34.293052673339844,10.134499549865723,-8.988016128540039,5.154160499572754,8.130948066711426,1.141794204711914,-14.87229061126709,-19.130699157714844,9.459993362426758,4.197206974029541,-12.322659492492676,-31.256601333618164,-28.445589065551758,-31.458080291748047,3.25750470161438,-4.641521453857422,31.40119743347168,1.2300617694854736,18.851673126220703,-8.059345245361328,-22.9658260345459,-33.23836898803711,63.95782470703125,54.92733383178711,31.348264694213867,17.206661224365234,-11.70423412322998,-14.048378944396973,-10.220029830932617,11.319465637207031,-29.51810646057129,-28.68901824951172,53.88483428955078,-25.86263656616211,6.150823593139648,-35.60166549682617,1.4702914953231812,3.386383295059204,44.993804931640625,-49.63304138183594,-0.40034541487693787,-24.792043685913086,-6.565418720245361,-30.38469886779785,-34.67562484741211,1.7281662225723267,26.456300735473633,13.53786563873291,-13.777423858642578,-13.156608581542969,-12.192245483398438,-19.90774154663086,-4.444722652435303,52.115020751953125,3.5413548946380615,-5.436046600341797,24.278413772583008,-21.484981536865234,10.890053749084473,-18.02841567993164,-2.3515546321868896,-20.996028900146484,53.116703033447266,-29.326614379882812,4.820942401885986,20.519672393798828,52.39090347290039,-12.381120681762695,14.749805450439453,6.815670013427734,14.903535842895508,0.3394348621368408,5.991756916046143,6.751110553741455,53.900482177734375,-8.151729583740234,5.971428394317627,-8.05695915222168,4.513263702392578,-15.183018684387207,-34.815372467041016,7.970461368560791,-6.418153285980225,-9.679031372070312,-6.924290180206299,-27.8117618560791,-15.446669578552246,9.852477073669434,-19.846792221069336,-52.412227630615234,-50.996517181396484,-23.617738723754883,-31.434972763061523,-23.581859588623047,-46.2319221496582,2.500962734222412,-3.5033411979675293,15.820204734802246,-1.3446723222732544,-2.5666885375976562,2.724351167678833,-10.482645988464355,23.442230224609375,52.95207214355469,-38.72450256347656,-16.33203125,-33.391571044921875,21.706092834472656,-8.99100112915039,3.610642194747925,6.46277379989624,-7.135891437530518,6.15657377243042,-3.552454948425293,0.9746891856193542,0.8106513023376465,-31.05987548828125,-5.152671813964844,-10.558740615844727,53.32250213623047,5.99696683883667,-43.359107971191406,59.76408004760742,-19.716276168823242,-8.793174743652344,-20.553579330444336,-22.294281005859375,-20.76924705505371,53.64308166503906,49.74344253540039,-3.297412157058716,9.53243637084961,14.394549369812012,-22.40253448486328,-34.26252746582031,13.106822967529297,-27.260969161987305,52.64936447143555,-27.286394119262695,-17.169889450073242,-25.710172653198242,-25.667367935180664,-20.983600616455078,-2.4011240005493164,55.41718673706055,55.3665657043457,-48.28125,17.77750587463379,11.787808418273926,-35.818965911865234,23.892162322998047,-44.14777755737305,-18.913124084472656,-23.213899612426758,21.794126510620117,13.340977668762207,-2.5299735069274902,-6.629124164581299,10.241447448730469,13.88023853302002,49.598297119140625,-18.629350662231445,51.557167053222656,-4.559018611907959,20.2939453125,6.347829341888428,-23.16320037841797,-4.974790573120117,-6.629124164581299,0.2748711407184601,6.726596355438232,-30.709117889404297,2.4024770259857178,-33.195682525634766,9.86353874206543,-17.53202247619629,-4.9084367752075195,-1.5729738473892212,52.825660705566406,7.855002403259277,-6.653067588806152,-22.731355667114258,-13.21915054321289,11.582067489624023,15.407421112060547,-12.449516296386719,-8.144111633300781,10.012463569641113,-2.4849305152893066,3.8727805614471436,6.919682502746582,-23.983448028564453,-10.223374366760254,4.400496006011963,0.01838049106299877,-36.3880615234375,-42.37228012084961,-15.919354438781738,13.86539363861084,-6.391536235809326,46.97521209716797,-47.0257682800293,-9.57847785949707,-19.385225296020508,-17.589847564697266,52.708683013916016,-26.29422950744629,-3.0931007862091064,-10.291205406188965,48.02438735961914,-32.252037048339844,-21.559803009033203,-30.996753692626953,21.87955665588379,-21.476409912109375,56.71995544433594,59.3106803894043,-34.014930725097656,-35.440879821777344,46.340492248535156,40.79625701904297,10.552433967590332,33.87947082519531,53.088279724121094,-10.396403312683105,-21.800762176513672,-9.198768615722656,15.6697359085083,-2.866466522216797,-8.919670104980469,-16.309724807739258,-10.794151306152344,-8.515656471252441,-13.73194694519043,-26.215818405151367,44.78229904174805,-28.684364318847656,49.19670104980469,-9.346490859985352,1.6697783470153809,-37.30918884277344,4.620922088623047,49.0010986328125,12.437682151794434,-19.429533004760742,-31.472793579101562,-3.668900728225708,-21.862064361572266,-11.234993934631348,-50.056861877441406,43.58538818359375,-30.996015548706055,-42.231754302978516,-0.9099178910255432,-9.989684104919434,-12.901532173156738,-11.46767520904541,7.249229431152344,6.325963020324707,-2.394192695617676,23.515859603881836,-2.4631192684173584,7.742221355438232,8.57097053527832,10.005915641784668,11.912529945373535,-2.7302842140197754,-11.682991981506348,6.662949562072754,4.693472385406494,5.9942474365234375,12.58366870880127,12.783814430236816,24.148656845092773,2.496605157852173,-12.347501754760742,-12.316925048828125,-4.211976051330566,-2.309985399246216,-29.993562698364258,-18.282453536987305,22.716678619384766,-40.99808883666992,-1.3046296834945679,63.383914947509766,-38.41562271118164,-28.875476837158203,-44.88472366333008,0.9376960396766663,-18.65496826171875,-37.08388137817383,-19.094139099121094,-35.303314208984375,2.4255990982055664,-32.430381774902344,-0.471073180437088,8.001863479614258,56.91130447387695,23.07868003845215,15.701699256896973,-10.500869750976562,-28.035249710083008,15.09823989868164,5.059243679046631,23.64684295654297,-12.660866737365723,-20.579561233520508,9.485711097717285,1.3130656480789185,-5.600428581237793,-8.049080848693848,9.786431312561035,-6.77690315246582,-21.348798751831055,-1.5392698049545288,51.38881301879883,-43.34209060668945,-36.35276794433594,57.715213775634766,14.810518264770508,-29.903715133666992,10.727156639099121,-13.697416305541992,-22.81768226623535,-35.91939926147461,-12.71609115600586,-23.47888946533203,-12.956215858459473,-29.042316436767578,-12.55044937133789,-30.752147674560547,-33.29535675048828,-29.059839248657227,2.537666082382202,5.844888687133789,-17.971174240112305,-14.333877563476562,-14.333761215209961,29.938241958618164,-24.678260803222656,16.346546173095703,-29.26880645751953,-42.371986389160156,65.97901153564453,-34.939605712890625,-39.90641784667969,-40.84912109375,-43.92461395263672,-40.505943298339844,-31.7122859954834,54.28811264038086,50.16841125488281,-40.011287689208984,-39.98782730102539,-16.405681610107422,-24.908525466918945,-42.42774963378906,-40.99114990234375,60.460693359375,-42.2693977355957,-39.828433990478516,28.62424087524414,-7.895442008972168,-31.272991180419922,-2.208482265472412,-1.8183716535568237,-12.542508125305176,16.632137298583984,-18.773399353027344,58.84067916870117,-3.901395797729492,-15.171245574951172,-26.419157028198242,5.443117618560791,-25.515968322753906,33.87947082519531,16.887296676635742,-4.809121131896973,18.27628517150879,27.120410919189453,61.74345779418945,-2.2265422344207764,20.630077362060547,58.125179290771484,9.354665756225586,24.416318893432617,-5.3950958251953125,2.61483097076416,24.416318893432617,-40.10211181640625,-9.431197166442871,-26.811214447021484,-24.62396812438965,4.84341287612915,13.896509170532227,56.46708297729492,41.8524284362793,10.157024383544922,27.045841217041016,13.11405086517334,30.04340171813965,-19.8970890045166,12.231673240661621,19.90337562561035,7.8094353675842285,15.757946014404297,44.058109283447266,23.777925491333008,23.064144134521484,18.36833381652832,-1.6953282356262207,29.471261978149414,30.257558822631836,14.77474594116211,49.59502410888672,4.993465423583984,-23.07733154296875,57.512481689453125,-1.7749446630477905,-14.296134948730469,-47.614627838134766,-18.387807846069336,-33.30405044555664,-15.674276351928711,-21.59946060180664,59.72396469116211,5.688118934631348,22.047515869140625,65.20652770996094,-16.403024673461914,-44.284000396728516,-11.264497756958008,-34.891395568847656,28.178375244140625,-46.76228713989258,54.41859817504883,34.24856948852539,-12.370369911193848,-35.1088752746582,28.37047004699707,-30.626480102539062,51.1672248840332,-24.217119216918945,45.910743713378906,2.9290101528167725,28.1498966217041,-33.17692565917969,-8.015987396240234,-35.722042083740234,-40.235252380371094,1.1865674257278442,-6.70274543762207,27.490814208984375,29.099367141723633,4.239695072174072,17.13463592529297,-37.1521110534668,-44.210147857666016,41.693328857421875,-34.08256912231445,37.79383087158203,11.859332084655762,-43.98295974731445,-32.968814849853516,37.69922637939453,-13.302573204040527,41.31525421142578,35.913848876953125,50.2801628112793,-21.162708282470703,39.028621673583984,-29.549522399902344,-24.899404525756836,-22.178224563598633,-7.3240227699279785,-6.622341632843018,29.601293563842773,46.86385726928711,1.576688289642334,57.15409469604492,-33.7983512878418,-10.62279224395752,-28.551958084106445,17.33310317993164,21.440500259399414,63.0124626159668,1.1925402879714966,49.33920669555664,-18.555559158325195,-21.4097900390625,-27.840328216552734,58.11602783203125,27.02505111694336,-24.58949089050293,-25.211706161499023,-33.42010498046875,57.212303161621094,-17.956546783447266,-34.755619049072266,-31.772533416748047,13.35374927520752,4.636910915374756,51.65989685058594,-41.67976379394531,-21.754446029663086,-33.29939270019531,22.47345542907715,12.31397533416748,13.249387741088867,-21.1788387298584,2.593183994293213,16.918033599853516,25.303722381591797,10.171130180358887,11.454544067382812,-21.114547729492188,13.588926315307617,7.969730377197266,2.1185710430145264,29.642702102661133,4.652416229248047,-37.85547637939453,24.279970169067383,66.72354125976562,5.767423629760742,-0.15111657977104187,29.077543258666992,8.811553001403809,-20.409217834472656,-17.196226119995117,-26.49991226196289,28.47389030456543,-44.95616149902344,15.630849838256836,53.1137580871582,-19.24271011352539,5.949387073516846,31.324039459228516,21.11362648010254,-1.3546298742294312,-33.49863052368164,-31.14764976501465,-5.652622699737549,-10.240338325500488,22.930768966674805,22.12250518798828,53.35515594482422,54.80127716064453,61.333709716796875,-35.948509216308594,57.5789680480957,2.728835105895996,-34.448822021484375,-20.411115646362305,-2.1566951274871826,-0.8917343616485596,0.5636544227600098,2.1530356407165527,-43.859161376953125,-3.6469156742095947,6.589710712432861,14.242874145507812,-28.292964935302734,-27.565555572509766,15.38825511932373,-14.315522193908691,9.516672134399414,-2.0424296855926514,20.37428855895996,7.054399490356445,-5.513629913330078,-30.253623962402344,-0.8975428938865662,-15.549254417419434,56.94680404663086,-14.283327102661133,52.50422668457031,-10.428053855895996,-6.699536323547363,4.413785457611084,-35.45960998535156,-1.0455591678619385,14.556185722351074,-23.58260154724121,-35.93784713745117,20.609683990478516,-18.10540771484375,0.9448811411857605,-46.68174743652344,12.188211441040039,56.249019622802734,-4.706124305725098,14.396240234375,55.17769241333008,-13.289875030517578,3.9137420654296875,11.45284366607666,16.29090690612793,14.859405517578125,-18.988582611083984,15.223583221435547,-7.996753692626953,53.65395736694336,-8.311673164367676,43.472129821777344,-27.549772262573242,22.630722045898438,33.41298294067383,42.7374267578125,-19.56932830810547,-20.777597427368164,-4.996802806854248,34.24856948852539,-16.744422912597656,1.6888090372085571,2.802785873413086,50.34596633911133,16.306928634643555,10.579511642456055,-35.142852783203125,30.659727096557617,-6.2605109214782715,41.09918975830078,-0.9077579379081726,58.55118942260742,-22.123579025268555,15.223137855529785,51.723609924316406,-13.341885566711426,9.639991760253906,8.682435989379883,29.161426544189453,66.73065185546875,11.49299430847168,7.482320308685303,-21.57129669189453,53.49307632446289,29.503116607666016,2.388725757598877,0.010260438546538353,2.6513545513153076,-0.4042189121246338,-27.121549606323242,-14.612873077392578,-7.126533031463623,53.917381286621094,59.08824920654297,-30.76231575012207,-7.954845428466797,4.468870162963867,12.631743431091309,3.868396043777466,48.15192413330078,-7.412137508392334,-7.327143669128418,25.996736526489258,48.17942428588867,-4.677337169647217,-5.773252487182617,4.558781623840332,46.92630386352539,-51.25482177734375,-38.16554260253906,40.79065704345703,-10.719707489013672,-29.79082489013672,15.258138656616211,22.88735580444336,-30.374544143676758,8.270133972167969,43.76242446899414,10.436017990112305,-44.678714752197266,27.497610092163086,55.06646728515625,-48.52825164794922,-36.27445983886719,47.25789260864258,-21.916152954101562,-21.201982498168945,8.423091888427734,-8.866257667541504,19.80722999572754,-1.6230337619781494,-30.9486141204834,-6.4101667404174805,-15.10063648223877,-15.710066795349121,59.76408386230469,-23.365251541137695,45.64035415649414,-48.63267517089844,-41.91243362426758,-40.72687530517578,-2.871824264526367,3.460559844970703,-19.76590347290039,-40.87131881713867,-40.86323547363281,0.0024345957208424807,7.676477909088135,-15.49736213684082,-0.06783511489629745,-33.933380126953125,17.182294845581055,-4.312982559204102,-5.112475872039795,-34.79070281982422,-8.85767650604248,9.87091064453125,-3.7238168716430664,31.489545822143555,29.91961097717285,-28.418758392333984,9.291598320007324,-15.214005470275879,13.520977973937988,-12.58406925201416,31.489545822143555,44.33038330078125,-9.494524002075195,4.526978492736816,-8.341588020324707,61.02239990234375,0.5852166414260864,-39.72589111328125,-22.446718215942383,-9.692327499389648,11.456607818603516,-13.88725757598877,-34.56367874145508,39.727684020996094,25.87449073791504,37.710166931152344,62.04359436035156,24.378643035888672,-33.16291809082031,31.786712646484375,56.16071319580078,69.1882553100586,8.99337100982666,-6.951694488525391,46.376094818115234,-22.028837203979492,69.1741714477539,3.6222572326660156,59.742652893066406,29.84328842163086,-9.309185028076172,-2.893432855606079,45.8077278137207,-23.795957565307617,6.74552583694458,-27.09636688232422,-27.819955825805664,25.94331169128418,20.159055709838867,30.996952056884766,-12.310844421386719,-45.441165924072266,-12.677286148071289,-4.9267730712890625,-15.79113483428955,51.296226501464844,-26.739112854003906,-35.84978103637695,13.293954849243164,8.670820236206055,11.90844440460205,16.056325912475586,7.583064556121826,3.2293951511383057,49.94116973876953,9.111807823181152,-9.317794799804688,-40.44097137451172,4.687755584716797,3.1688897609710693,-7.5467848777771,-15.961201667785645,12.719277381896973,-6.522855281829834,56.096561431884766,53.63235092163086,10.26464557647705,54.34364700317383,-51.691749572753906,5.825850009918213,-18.728456497192383,48.58180236816406,26.654409408569336,-10.75407886505127,-2.71651029586792,-21.14771270751953,-14.149114608764648,-25.979917526245117,51.944984436035156,-1.5601609945297241,8.955090522766113,0.8910010457038879,-3.732231616973877,-12.317505836486816,5.428831100463867,1.0586601495742798,31.079431533813477,20.120271682739258,-26.014667510986328,57.38347244262695,-19.137727737426758,-26.339622497558594,39.4180793762207,-21.35273551940918,9.958558082580566,14.796762466430664,4.4577717781066895,-11.00654411315918,12.144403457641602,18.73691749572754,13.712318420410156,-16.581439971923828,58.8980712890625,24.101743698120117,9.355982780456543,-22.085996627807617,-28.45949935913086,-19.341720581054688,8.130409240722656,13.925614356994629,-32.518341064453125,-30.41337013244629,15.110090255737305,-13.086679458618164,19.820581436157227,57.745506286621094,-26.168289184570312,46.376285552978516,51.33298873901367,55.065025329589844,10.810354232788086,53.39625930786133,-27.099620819091797,4.478640556335449,15.348779678344727,-31.40804672241211,-10.49060344696045,-32.2533073425293,-11.35185432434082,28.174386978149414,-3.847567319869995,46.77378463745117,46.28423309326172,-14.679824829101562,-23.869129180908203,31.16428565979004,43.69529342651367,16.794431686401367,-27.184232711791992,9.275834083557129,12.669797897338867,-41.0182991027832,-40.99353790283203,57.91080093383789,53.57172775268555,-6.391536235809326,-8.589694023132324,-17.441917419433594,45.86782455444336,-9.985363960266113,24.670618057250977,46.38127136230469,18.249547958374023,-18.803781509399414,21.2194766998291,0.531215488910675,-27.905906677246094,-38.950462341308594,-18.759746551513672,-30.424423217773438,15.661170959472656,-35.306758880615234,55.680355072021484,1.3733034133911133,17.39959144592285,-0.30443423986434937,11.111334800720215,26.40534019470215,9.998977661132812,-6.785732269287109,29.637388229370117,10.01758861541748,-38.72903823852539,6.714313507080078,-28.782339096069336,13.464469909667969,19.035205841064453,41.3747673034668,-31.231637954711914,-30.087318420410156,-31.53106117248535,-10.571429252624512,1.9265871047973633,-4.4268717765808105,-24.12303924560547,10.362053871154785,-27.019805908203125,-31.792301177978516,-51.06038284301758,11.410008430480957,4.161840915679932,-35.186431884765625,-33.98058319091797,16.516002655029297,59.01661682128906,-6.759958744049072,-3.19449520111084,-27.835186004638672,-26.910560607910156,-31.52880859375,-29.346254348754883,-23.98221778869629,39.90420913696289,16.999217987060547,-3.282744884490967,-8.397439956665039,-1.467833399772644,-0.7705299854278564,2.8853724002838135,-1.1960560083389282,-18.29520034790039,7.1790595054626465,-12.059966087341309,59.726741790771484,-23.413089752197266,-23.413089752197266,-34.39947509765625,-16.462862014770508,-13.165205001831055,11.662166595458984,7.7117228507995605,62.2932014465332,-0.713067352771759,-25.074777603149414,-43.538883209228516,-48.76888656616211,-11.363414764404297,56.71995544433594,6.93560791015625,6.168320178985596,12.376747131347656,13.560367584228516,34.818687438964844,-17.014368057250977,-34.29072952270508,-34.29075241088867,34.818687438964844,10.890010833740234,-16.637588500976562,-27.553958892822266,10.173781394958496,37.8414421081543,4.872853755950928,-11.765443801879883,-7.450708389282227,20.152833938598633,-12.01116943359375,7.964364051818848,10.561175346374512,-7.896876335144043,15.207196235656738,44.71592712402344,-38.93048095703125,-7.463838577270508,-7.470628261566162,56.9605712890625,-14.021066665649414,8.773816108703613,-22.752710342407227,-27.95702362060547,41.637149810791016,-22.27387809753418,-10.960816383361816,-15.160019874572754,47.560123443603516,13.169846534729004,5.751811981201172,-12.483458518981934,-8.7034912109375,18.045507431030273,-7.62624979019165,-33.624507904052734,-0.2334788590669632,-10.650368690490723,-21.649518966674805,-12.994370460510254,-16.63770294189453,-2.4285874366760254,-15.408527374267578,-19.233579635620117,-9.078235626220703,17.908588409423828,-14.47431755065918,26.50496482849121,4.759848117828369,-19.676158905029297,-3.140214681625366,-16.296459197998047,-8.239791870117188,-3.4715752601623535,-19.134252548217773,33.87947082519531,43.74506759643555,-21.49080467224121,-11.441254615783691,13.015730857849121,38.5413932800293,-30.234670639038086,2.524404764175415,2.776773452758789,-4.82623291015625,-4.977891445159912,-30.920236587524414,16.802595138549805,61.463096618652344,49.06606674194336,11.248760223388672,4.439371585845947,15.243027687072754,-2.7354350090026855,33.337711334228516,12.350592613220215,12.355338096618652,-19.461284637451172,-47.49828338623047,-21.262527465820312,13.9979887008667,-15.24320125579834,-19.09581184387207,9.650093078613281,-34.06369400024414,-32.868736267089844,-21.435016632080078,1.34412682056427,46.7561149597168,-4.557947158813477,15.468221664428711,-11.84429931640625,-14.479440689086914,56.71995544433594,-25.333898544311523,-8.603815078735352,31.882688522338867,13.35880184173584,-18.437335968017578,-26.74314308166504,20.49752426147461,-14.907907485961914,-20.82887077331543,-22.584312438964844,27.505342483520508,-6.7551798820495605,-14.320545196533203,-1.0818955898284912,4.603362083435059,-13.87120246887207,27.589826583862305,15.819526672363281,13.238048553466797,-9.989684104919434,59.691192626953125,51.008243560791016,51.008243560791016,-12.571797370910645,9.030657768249512,42.37648391723633,38.9029426574707,51.008243560791016,-13.867284774780273,34.187644958496094,-14.258259773254395,-15.14249324798584,-22.296541213989258,47.54676818847656,2.4576125144958496,7.851150989532471,0.278068870306015,-14.050126075744629,-13.567066192626953,5.0079450607299805,28.39128875732422,-14.965816497802734,-1.6494710445404053,-23.72341537475586,59.206695556640625,43.65656280517578,11.528552055358887,-18.198884963989258,2.8923940658569336,-14.290775299072266,14.8317289352417,15.102882385253906,9.080314636230469,-30.966323852539062,-0.5269384980201721,13.80744457244873,55.64264678955078,6.330531597137451,3.984123468399048,-27.743473052978516,-27.741605758666992,61.22401809692383,6.588833808898926,-9.64023208618164,-23.42963218688965,-28.105514526367188,2.1391022205352783,0.034762535244226456,7.871878147125244,13.074148178100586,15.215666770935059,8.920560836791992,-22.54035186767578,7.836299419403076,12.860943794250488,6.415384769439697,18.056550979614258,0.20298314094543457,52.9495735168457,8.920560836791992,-12.873527526855469,12.177936553955078,2.275768995285034,-3.1832797527313232,18.087697982788086,14.433281898498535,16.27922821044922,55.74441146850586,21.570234298706055,0.13060292601585388,16.261255264282227,16.377227783203125,0.009124585427343845,14.07279109954834,0.18747614324092865,55.64259719848633,30.485103607177734,-2.145852565765381,42.08036422729492,1.9507336616516113,6.875888347625732,19.478513717651367,-33.888633728027344,-6.594458103179932,-11.649856567382812,-30.695180892944336,-32.49955368041992,-7.526925086975098,-36.233402252197266,-9.22502326965332,51.267669677734375,-33.85203552246094,26.931007385253906,-5.874459743499756,-4.001016139984131,-6.88868522644043,-5.436360836029053,-3.0925850868225098,-4.889342784881592,16.06882667541504,0.926683247089386,-10.571792602539062,-6.839838981628418,-6.440074920654297,-13.144765853881836,-7.853732585906982,-34.55107498168945,7.511316299438477,-7.253310203552246,-3.329167604446411,-31.2790470123291,-8.473525047302246,-23.860830307006836,-35.55604553222656,-8.029629707336426,-29.950531005859375,14.681243896484375,31.463783264160156,64.80426025390625,8.62920093536377,55.28239440917969,-40.39338684082031,-5.257404327392578,-29.31114387512207,58.524173736572266,-33.00141906738281,29.91961097717285,-18.85731315612793,-27.58652114868164,55.65050506591797,56.275421142578125,-20.840408325195312,45.09897994995117,47.783565521240234,-39.5958251953125,-28.582534790039062,-23.732568740844727,-33.16661834716797,-6.471477508544922,3.7402544021606445,-18.233776092529297,-3.030104637145996,-10.928762435913086,-27.334796905517578,-8.851079940795898,68.65571594238281,-28.248920440673828,68.59365844726562,-19.420129776000977,-23.019325256347656,18.030550003051758,1.5040860176086426,-38.24399948120117,-25.43059539794922,-38.40085983276367,13.16745376586914,2.5856199264526367,20.159038543701172,-18.437517166137695,-23.578824996948242,-3.634340763092041,-1.5067375898361206,-14.68736743927002,-15.289276123046875,54.85727310180664,-2.6780500411987305,24.622983932495117,12.993157386779785,48.09892654418945,-19.206499099731445,-22.073820114135742,-19.118228912353516,-18.686038970947266,27.879302978515625,11.813213348388672,-23.405399322509766,-11.987347602844238,-12.414241790771484,-4.097192287445068,61.79573059082031,46.8221549987793,41.53654098510742,-10.990423202514648,-2.4046213626861572,-28.192888259887695,-34.1505126953125,-27.051090240478516,6.374985694885254,-12.707681655883789,-0.1001158356666565,-12.270109176635742,-39.501129150390625,-23.754438400268555,-38.78817367553711,-39.51487731933594,7.458949089050293,-12.8081693649292,-16.034032821655273,-30.99985694885254,42.932010650634766,-14.286043167114258,30.589847564697266,-15.502375602722168,0.23009492456912994,-10.036699295043945,-19.294910430908203,-36.06650924682617,-35.99008560180664,-16.309724807739258,-1.7040494680404663,-10.765965461730957,46.27314758300781,8.433767318725586,-20.070600509643555,-25.735694885253906,-11.77413272857666,6.825677871704102,-4.22393274307251,-6.361348628997803,14.554330825805664,-19.753421783447266,9.66251277923584,13.467268943786621,-13.55048656463623,-3.8967957496643066,1.6257057189941406,-23.15529441833496,-44.678714752197266,-22.931459426879883,42.483516693115234,1.167300820350647,4.781370162963867,10.361496925354004,44.16122817993164,-30.712722778320312,-33.760101318359375,21.059873580932617,-2.849179744720459,30.16267967224121,-14.346186637878418,-4.142007827758789,-37.673587799072266,4.832705497741699,-2.256977081298828,-8.373804092407227,-36.651363372802734,3.752281904220581,-13.363676071166992,-17.014368057250977,14.7451810836792,-12.480256080627441,-6.43713903427124,-31.468730926513672,-11.36312484741211,50.8338737487793,-0.9078065156936646,28.901988983154297,18.102262496948242,-34.05361557006836,-17.42496681213379,8.535075187683105,-1.315895438194275,-30.512699127197266,-13.374929428100586,-41.2794189453125,-24.41008949279785,-3.883809804916382,-23.152921676635742,-49.16300582885742,-29.300939559936523,-13.027148246765137,-21.49570083618164,-12.234947204589844,13.547998428344727,41.713706970214844,-10.005257606506348,2.1381964683532715,50.59682846069336,43.76241683959961,-2.6923723220825195,-0.35877227783203125,14.117904663085938,10.456022262573242,-2.9705424308776855,-14.476005554199219,-0.5038119554519653,-6.292194843292236,-30.460834503173828,17.72471046447754,18.826032638549805,13.78730297088623,18.656049728393555,11.969348907470703,10.907856941223145,47.59260177612305,17.09869956970215,20.611949920654297,-19.59013557434082,19.042612075805664,-20.358753204345703,-11.760513305664062,-32.50992965698242,52.61990737915039,46.688941955566406,-22.342147827148438,-36.86358642578125,-43.76152801513672,-44.76551055908203,-33.33510208129883,-8.84030818939209,20.125734329223633,28.920116424560547,22.335920333862305,5.316319942474365,-9.829835891723633,-31.873149871826172,-2.912269353866577,-31.216402053833008,-9.424630165100098,-15.949703216552734,8.704194068908691,2.593937397003174,-32.77756118774414,13.868210792541504,-44.93091583251953,-35.458831787109375,-22.968862533569336,-41.43939208984375,54.11189651489258,-9.55980110168457,4.435423851013184,16.558399200439453,2.6203596591949463,16.5451602935791,18.030550003051758,47.4660530090332,7.315829277038574,-12.714229583740234,-23.121734619140625,-20.22652816772461,23.826358795166016,-20.851301193237305,36.4545783996582,-8.501553535461426,14.831645965576172,16.74851417541504,7.110495090484619,6.448173999786377,20.978681564331055,16.649492263793945,-28.075159072875977,-29.71721839904785,-25.074899673461914,-22.323598861694336,26.43674087524414,17.17027473449707,51.91097640991211,-3.9629743099212646,5.5842413902282715,4.485264301300049,-9.40068531036377,-33.859161376953125,-12.532876014709473,13.317317008972168,-14.715058326721191,17.082542419433594,3.0719590187072754,-18.53421401977539,9.261527061462402,4.128052711486816,-30.356725692749023,1.7955193519592285,6.418030738830566,60.28055953979492,64.09015655517578,-11.112974166870117,53.660179138183594,11.513052940368652,2.9802372455596924,7.555889129638672,25.606138229370117,14.301932334899902,23.190271377563477,-8.450470924377441,-27.373098373413086,25.374732971191406,25.374732971191406,43.334869384765625,-18.185529708862305,-0.027669984847307205,-6.201417922973633,-19.846792221069336,-17.441917419433594,-22.095582962036133,-17.96028709411621,-17.989463806152344,-21.0806941986084,-12.651029586791992,-33.26526641845703,55.498329162597656,-23.251346588134766,46.443260192871094,-48.52825164794922,-3.8147683143615723,53.88518142700195,-48.76871871948242,-38.38090133666992,-12.336126327514648,-47.90748596191406,-20.52354621887207,15.311400413513184,-38.09492874145508,-45.18303680419922,-25.687471389770508,-43.164886474609375,-34.49816131591797,-42.1822395324707,46.64524841308594,-24.691333770751953,-18.533456802368164,8.098109245300293,-29.656635284423828,-43.04523849487305,48.811832427978516,-25.549985885620117,-43.408206939697266,-30.877975463867188,48.065433502197266,-33.3542366027832,23.162466049194336,-17.2847957611084,-24.906728744506836,31.2200927734375,51.156768798828125,-46.804805755615234,16.999217987060547,-4.643604755401611,-23.58128547668457,-26.49028205871582,6.108671188354492,6.528534889221191,49.90919494628906,-14.952589988708496,-31.468217849731445,-10.225698471069336,-6.3804030418396,-29.051300048828125,26.375356674194336,-34.11185836791992,25.518383026123047,-34.71211624145508,25.19377326965332,44.85192108154297,41.59418487548828,-14.469869613647461,19.411331176757812,39.414764404296875,-14.198291778564453,64.0219955444336,-25.2735652923584,4.8885626792907715,37.69922637939453,-8.897635459899902,7.768458366394043,4.460270881652832,17.677515029907227,-5.710236549377441,-10.355159759521484,21.256729125976562,-27.967426300048828,15.183206558227539,4.9184675216674805,-7.860373020172119,41.71369171142578,-1.4958481788635254,48.070396423339844,47.39393997192383,47.39393997192383,6.7688798904418945,2.5906736850738525,55.180824279785156,-27.280092239379883,22.047515869140625,6.378807544708252,7.111196517944336,-8.226259231567383,57.889976501464844,-18.072185516357422,-16.50341033935547,-6.681980133056641,-10.927186965942383,2.724867820739746,-26.58811378479004,14.680061340332031,-8.516498565673828,15.145764350891113,-32.8033561706543,-34.56751251220703,-22.98046875,-29.570877075195312,-30.584596633911133,-32.286869049072266,-34.32936096191406,0.16492147743701935,-26.93691635131836,11.279254913330078,-26.537988662719727,21.6766357421875,-26.53835105895996,-8.108182907104492,32.49574279785156,-28.931713104248047,20.679046630859375,17.612321853637695,-14.635664939880371,62.15511703491211,-28.32806396484375,-7.262694358825684,48.48435974121094,13.804718017578125,49.65671920776367,42.90589141845703,-37.95291519165039,9.98538589477539,8.401382446289062,17.849803924560547,15.869126319885254,10.700471878051758,19.4030818939209,39.57819366455078,51.7040901184082,9.909135818481445,13.949395179748535,8.419508934020996,-24.642305374145508,8.793538093566895,-43.05601501464844,-43.535545349121094,8.940267562866211,-31.97100257873535,-5.612244129180908,4.914857864379883,-9.56389045715332,18.71860694885254,-1.9949613809585571,16.766826629638672,-22.72059440612793,25.84278678894043,30.778596878051758,8.894859313964844,-3.409417152404785,47.589962005615234,22.818687438964844,53.29298782348633,-10.139178276062012,7.080827713012695,47.83256530761719,51.674530029296875,51.51183319091797,17.630285263061523,21.410797119140625,50.28894805908203,23.7039794921875,42.44196701049805,-38.33844757080078,-8.442270278930664,-20.536191940307617,-29.010412216186523,-37.92217254638672,12.115062713623047,-8.341452598571777,14.20871639251709,14.074736595153809,2.6980478763580322,19.1893367767334,-47.24637985229492,10.44035530090332,-14.283146858215332,-7.862318992614746,-21.034509658813477,-30.553112030029297,-37.40933609008789,-1.269142985343933,-43.50063705444336,39.47947692871094,-18.57555389404297,19.846519470214844,21.531530380249023,-47.59918212890625,-18.088281631469727,-22.839860916137695,14.953178405761719,-3.5340445041656494,-18.435997009277344,11.540421485900879,9.19597339630127,-13.29398250579834,11.540425300598145,-7.200908660888672,-16.573680877685547,-31.458219528198242,-18.5651798248291,2.0545458793640137,-21.94354248046875,3.422091007232666,-23.157682418823242,-0.44409045577049255,15.806251525878906,50.146053314208984,44.16838455200195,9.719429969787598,-32.09910202026367,-37.28351974487305,-35.16994094848633,-28.418758392333984,22.65283966064453,-1.3978285789489746,40.638671875,-30.740501403808594,-13.600730895996094,-7.598628520965576,16.60223388671875,1.585010051727295,-14.075233459472656,-12.449182510375977,-16.474624633789062,33.078311920166016,-1.7844992876052856,-14.998214721679688,-9.978425979614258,-16.252208709716797,-0.44663992524147034,5.413719177246094,32.45118713378906,0.436638742685318,28.174386978149414,27.090518951416016,14.341472625732422,31.760440826416016,-14.250542640686035,47.97152328491211,-31.954601287841797,11.798019409179688,-3.5537126064300537,-3.6104135513305664,18.844745635986328,50.97016906738281,-15.781098365783691,-9.98974609375,41.29682540893555,-31.803104400634766,-21.759023666381836,28.58890724182129,23.498260498046875,7.578092575073242,-31.646268844604492,24.669736862182617,-41.385009765625,55.174922943115234,8.42322063446045,-26.242910385131836,54.534515380859375,-10.181852340698242,16.5451602935791,13.22889518737793,-29.077226638793945,13.92491340637207,10.950127601623535,-11.382681846618652,-31.276676177978516,-47.42675018310547,-8.600533485412598,-6.715381622314453,4.634711265563965,-22.70995330810547,-25.68411636352539,46.498443603515625,52.84135818481445,-29.240358352661133,-31.1721248626709,38.13352966308594,-1.6519325971603394,-33.406105041503906,-21.898029327392578,-37.33075714111328,-20.165361404418945,-42.43742370605469,-26.571706771850586,7.189584255218506,48.41802978515625,-1.9024171829223633,1.3265329599380493,-26.050037384033203,-43.04682922363281,-6.615426540374756,-8.034982681274414,-3.1174099445343018,46.732330322265625,-5.770313739776611,-3.907036304473877,41.373897552490234,-42.62078857421875,-2.05710506439209,-27.488441467285156,-19.16086769104004,-8.715736389160156,7.05430269241333,5.604338645935059,-18.950265884399414,26.526296615600586,57.896827697753906,-2.8272807598114014,-6.975768566131592,21.301372528076172,37.09000778198242,9.981400489807129,48.82062911987305,11.320090293884277,-28.934165954589844,57.89682388305664,-28.173511505126953,-32.38735580444336,55.30964660644531,-29.805063247680664,1.2604796886444092,53.37335205078125,-13.676700592041016,-14.12316608428955,-11.9556303024292,-14.089766502380371,-11.413514137268066,55.6768913269043,6.7512593269348145,10.926173210144043,-14.712079048156738,45.059940338134766,56.02239990234375,-16.469884872436523,-46.164756774902344,-0.9706465601921082,-15.14504623413086,-19.163707733154297,-21.923673629760742,-30.43622589111328,-11.579225540161133,-6.521004676818848,-19.274219512939453,-15.256336212158203,-12.764059066772461,7.927523612976074,-30.590991973876953,-29.153135299682617,-1.589515209197998,-2.00478196144104,-8.730112075805664,54.02720260620117,-23.666187286376953,-21.676403045654297,21.540069580078125,-8.320650100708008,-12.641054153442383,-34.277103424072266,-34.45844268798828,29.08795166015625,9.876838684082031,14.964184761047363,29.557899475097656,9.190382957458496,12.94449520111084,8.545561790466309,-13.839183807373047,11.2119140625,-2.1271886825561523,8.853470802307129,-14.514530181884766,16.618982315063477,-2.7902510166168213,22.50115966796875,15.52369499206543,9.325535774230957,-3.481804847717285,-46.090789794921875,0.9738961458206177,-16.492414474487305,-31.129016876220703,48.490943908691406,-0.6305097341537476,31.382556915283203,56.771541595458984,14.95830249786377,19.637971878051758,4.511488437652588,13.696840286254883,46.49431610107422,27.66852569580078,8.481371879577637,21.032358169555664,44.078948974609375,29.59971046447754,38.690460205078125,64.99948120117188,14.37474250793457,6.72346305847168,-17.53202247619629,-13.326323509216309,26.639822006225586,7.559844493865967,32.283329010009766,-10.452637672424316,-29.049560546875,-27.27703094482422,2.9734389781951904,18.555763244628906,8.839903831481934,7.594275951385498,27.37200355529785,12.804095268249512,13.322699546813965,6.326230525970459,-42.40884780883789,-17.30216407775879,13.104761123657227,-30.43016242980957,55.5133171081543,52.70710372924805,13.766618728637695,14.563126564025879,13.290130615234375,13.979889869689941,16.2908878326416,-45.182926177978516,-13.870521545410156,-1.5066224336624146,-6.916727066040039,8.516414642333984,26.174184799194336,-19.23880386352539,-28.865354537963867,-12.304224967956543,-15.468503952026367,-26.7786808013916,-25.33360481262207,-11.964571952819824,-27.595287322998047,-22.503568649291992,5.37302303314209,-32.56736755371094,-3.604006290435791,-21.331716537475586,-23.930606842041016,-50.37152862548828,-26.49361801147461,-27.957687377929688,-13.587095260620117,-39.116455078125,-22.487998962402344,-22.89811897277832,7.954927444458008,64.880859375,-17.64021110534668,1.4884892702102661,-33.351505279541016,-30.261796951293945,1.3061678409576416,27.102327346801758,-18.24984359741211,30.310874938964844,48.157737731933594,-31.48548126220703,-17.174962997436523,-11.108302116394043,-15.492459297180176,-37.83127212524414,-24.079042434692383,-23.910545349121094,-38.3863639831543,-22.80825424194336,-28.029287338256836,-0.42857256531715393,52.43709182739258,-11.894665718078613,-43.21954345703125,-7.093846797943115,-8.124687194824219,-31.523420333862305,34.41180419921875,-15.924132347106934,-28.333770751953125,51.25149154663086,-33.542327880859375,-29.687101364135742,44.4527587890625,14.054373741149902,53.951087951660156,-9.564515113830566,58.1409797668457,4.87767219543457,53.551753997802734,-38.72914505004883,-38.34933853149414,-30.357202529907227,-12.19080638885498,-8.589694023132324,0.43919140100479126,6.575103759765625,-16.05453109741211,-6.521004676818848,5.2769927978515625,51.82224655151367,6.57672119140625,-13.944742202758789,-16.796449661254883,-45.15620422363281,41.961116790771484,-44.0928840637207,-5.744106769561768,-33.715938568115234,-34.56791305541992,-39.68244552612305,-42.60444259643555,1.3054182529449463,35.585601806640625,10.950127601623535,-37.12453079223633,-24.248376846313477,-12.084364891052246,-18.01487922668457,-37.60802459716797,-30.232370376586914,-4.665035724639893,-9.690303802490234,40.96131134033203,4.598846912384033,4.648070335388184,51.93012619018555,33.79655456542969,47.311058044433594,7.200256824493408,13.113944053649902,23.210552215576172,2.364786148071289,46.09123611450195,48.461185455322266,49.32533645629883,2.8117871284484863,2.81174373626709,-7.934267044067383,6.157956123352051,53.79415512084961,0.9437990784645081,-13.197275161743164,47.53437805175781,-1.117720365524292,12.339774131774902,36.722251892089844,-47.581825256347656,-1.1597371101379395,47.18611145019531,-32.15422821044922,6.428591728210449,6.965088844299316,-20.963808059692383,-39.52799606323242,-37.66355514526367,-48.0250244140625,-49.22281265258789,-39.63528060913086,-35.83294677734375,-39.45098114013672,-38.17768859863281,-33.33572769165039,-16.180585861206055,-43.43280029296875,13.733750343322754,-28.106807708740234,52.79629135131836,-26.872722625732422,15.776373863220215,-28.23927879333496,-17.585304260253906,-26.496360778808594,5.69589900970459,-19.612323760986328,-22.34417152404785,51.229766845703125,-17.21790313720703,-18.937278747558594,5.995144844055176,-8.130167007446289,0.7525732517242432,-0.11174201965332031,-13.870521545410156,8.124028205871582,-12.86328125,10.301233291625977,-26.301319122314453,3.9981582164764404,-18.63213348388672,-28.642601013183594,-22.43790054321289,13.923436164855957,-31.571561813354492,-13.786262512207031,-36.858154296875,54.34185791015625,34.652496337890625,-1.2600562572479248,-32.846641540527344,8.675435066223145,-31.22078514099121,-34.92523956298828,49.20114517211914,49.69972229003906,-18.72792625427246,-24.110210418701172,4.966541290283203,1.6052227020263672,-35.437381744384766,10.833740234375,17.224821090698242,-11.484070777893066,47.05838394165039,49.572357177734375,3.1537110805511475,-12.365283012390137,15.382030487060547,23.0291748046875,-43.65937042236328,-13.740007400512695,-5.811500549316406,-4.302438735961914,-8.390131950378418,13.823512077331543,2.558804988861084,-39.572227478027344,-27.080162048339844,-2.4011104106903076,67.65121459960938,59.663116455078125,11.400988578796387,-40.27717971801758,10.994029998779297,-17.368669509887695,0.0855792835354805,29.416828155517578,-10.684953689575195,-3.5670106410980225,5.449670314788818,17.111873626708984,11.970719337463379,2.500652313232422,11.032649993896484,22.867063522338867,35.04813003540039,-39.690059661865234,48.490943908691406,-16.614866256713867,-0.08754648268222809,22.10527801513672,-2.8287057876586914,16.53108024597168,48.19874572753906,-30.655000686645508,-37.727516174316406,-0.6138550639152527,-17.652189254760742,-40.66510772705078,-30.461376190185547,-3.161982774734497,-34.61273956298828,-34.82029724121094,-40.21433639526367,-27.69457244873047,56.71995544433594,4.459499359130859,-21.78305435180664,-26.251861572265625,62.81599426269531,-6.477628231048584,-33.66740417480469,22.815763473510742,10.462433815002441,23.05670166015625,-4.331590175628662,5.652529239654541,-21.85150718688965,-14.532118797302246,-46.81414031982422,-29.175315856933594,-43.550048828125,-31.6491756439209,-16.389068603515625,61.20526885986328,-7.268082618713379,52.5012321472168,-4.006031513214111,45.60482406616211,-5.80156946182251,-0.5113679766654968,-39.198516845703125,-9.128472328186035,-24.02969741821289,17.57293128967285,3.6973676681518555,-31.742490768432617,-33.826969146728516,56.63911056518555,0.8996580839157104,23.679338455200195,-13.550338745117188,10.792120933532715,10.389869689941406,38.66401290893555,-15.578063011169434,12.128432273864746,53.955780029296875,-29.224990844726562,-8.14535903930664,-23.114965438842773,48.66667175292969,42.972225189208984,-2.5428450107574463,42.972225189208984,-13.172348022460938,-21.5878963470459,-6.705889701843262,-15.61056137084961,-6.1724677085876465,28.61003303527832,12.484428405761719,22.10488510131836,38.5413932800293,64.71983337402344,-5.327532768249512,-20.0345458984375,47.34953689575195,-11.173288345336914,-23.530702590942383,5.375825881958008,-12.144232749938965,49.8206901550293,-13.795695304870605,-15.246119499206543,-7.986795425415039,57.35972213745117,-13.829246520996094,29.543193817138672,29.5338077545166,13.896308898925781,1.0297330617904663,-36.56489181518555,16.012800216674805,7.455537796020508,-8.06665325164795,-30.296754837036133,-0.534198522567749,8.494185447692871,1.325717806816101,-34.190242767333984,42.08644104003906,39.18460464477539,-20.96351432800293,44.715965270996094,-33.85221862792969,6.68397331237793,12.169890403747559,4.922048091888428,8.099634170532227,-41.27040481567383,-22.944686889648438,-31.19963836669922,8.488645553588867,-1.7228742837905884,-13.762816429138184,24.8070011138916,24.129241943359375,-13.56302261352539,-39.845882415771484,18.18181800842285,33.41298294067383,46.06071472167969,-11.407882690429688,48.76449966430664,11.837434768676758,12.455904960632324,-5.097538948059082,1.6995993852615356,46.06071472167969,-7.076391696929932,-16.159528732299805,-3.8053295612335205,-0.5781115293502808,1.1025761365890503,38.5186882019043,19.025327682495117,21.831546783447266,47.98051452636719,-13.788198471069336,-5.097538948059082,50.634769439697266,8.099769592285156,26.372453689575195,-4.815347671508789,-11.678384780883789,-7.329148292541504,9.255109786987305,7.947188377380371,-8.351828575134277,-6.867022514343262,59.067543029785156,-26.68236541748047,-29.96314239501953,56.10038757324219,48.27809524536133,-1.9926928281784058,3.274204730987549,47.68741989135742,-11.673230171203613,8.335687637329102,-1.1528666019439697,-6.054847717285156,46.296485900878906,51.91768264770508,8.769647598266602,-29.319984436035156,-27.169414520263672,14.716053009033203,-21.5432186126709,-31.352947235107422,-42.62078857421875,8.77804946899414,-8.33617877960205,12.162862777709961,-9.687712669372559,-6.0387396812438965,-9.417642593383789,-13.680952072143555,-37.73151397705078,-14.358223915100098,-10.036699295043945,-29.589990615844727,-47.09703826904297,-31.02667236328125,-30.477157592773438,-35.38542175292969,-3.000875949859619,-29.008115768432617,-29.643705368041992,11.439545631408691,16.10222625732422,31.397884368896484,1.2257108688354492,49.078369140625,26.7382869720459,24.780654907226562,15.951056480407715,7.032045841217041,-44.335304260253906,-14.20161247253418,-41.47181701660156,-2.7655293941497803,-29.65412712097168,21.241867065429688,-41.30134582519531,-22.010494232177734,-11.583230972290039,-34.7733039855957,9.38168716430664,0.7559542059898376,-27.12752342224121,-26.81075668334961,-23.995765686035156,-42.62223815917969,-26.91437339782715,4.439371585845947,-13.364392280578613,-7.3104119300842285,16.40104103088379,30.24055290222168,-50.48784637451172,-24.847002029418945,56.007728576660156,30.201326370239258,-26.957433700561523,13.67547607421875,-21.857498168945312,-12.212721824645996,52.13353729248047,-35.819950103759766,-33.8373908996582,-22.86532211303711,-0.7395989298820496,-30.54370880126953,-27.413867950439453,0.19182389974594116,-37.724910736083984,-48.411705017089844,-34.96384811401367,40.08197021484375,28.086292266845703,9.264646530151367,-38.682037353515625,-22.485794067382812,-26.5430908203125,-8.086140632629395,5.4256062507629395,-22.266782760620117,-36.877384185791016,-20.708518981933594,-18.276302337646484,-26.825950622558594,-24.55059242248535,50.88233947753906,17.81923484802246,9.609436988830566,-35.364315032958984,-45.0552978515625,48.40797805786133,14.62292766571045,-35.299129486083984,-40.379791259765625,-2.266850233078003,-20.877214431762695,-6.446178436279297,-2.142848253250122,-34.33422088623047,-4.643604755401611,-37.52429962158203,30.50582504272461,-43.69900894165039,-50.056453704833984,50.067508697509766,42.75656509399414,6.817094326019287,49.637725830078125,31.2200927734375,-11.84427547454834,-18.95384979248047,36.670345306396484,47.15001678466797,-16.765539169311523,12.316278457641602,41.16038131713867,-28.088308334350586,10.369650840759277,56.28134536743164,23.035581588745117,20.159055709838867,-10.77642822265625,-27.235719680786133,-11.026708602905273,-13.906807899475098,-1.675696849822998,-16.079681396484375,-14.748824119567871,59.40178680419922,43.81283950805664,14.661433219909668,24.94803810119629,66.33065032958984,13.762005805969238,-14.811720848083496,53.23442077636719,-24.85686492919922,-11.390523910522461,48.08103561401367,64.79259490966797,-17.277902603149414,4.396353721618652,5.316908836364746,8.699369430541992,-38.27494812011719,18.219079971313477,32.43345642089844,-11.708062171936035,15.984763145446777,13.946157455444336,0.6385927200317383,8.130837440490723,28.544113159179688,-50.92445373535156,-11.349689483642578,-41.340389251708984,-20.829259872436523,-2.6658263206481934,-31.736539840698242,23.498260498046875,44.02676773071289,41.72266387939453,-11.850425720214844,-23.686630249023438,21.04485321044922,-11.39487361907959,-37.73151397705078,-20.02701187133789,58.95714569091797,-43.49117660522461,-48.41868591308594,-11.327607154846191,21.08354949951172,7.36302375793457,-9.792620658874512,-18.322429656982422,-20.154020309448242,-13.16982364654541,56.420570373535156,-7.040528297424316,-33.64637756347656,17.445457458496094,-29.702289581298828,6.966372013092041,14.335041046142578,-32.63933563232422,-27.706785202026367,-39.051788330078125,-41.670692443847656,-13.312437057495117,-20.34647560119629,27.610687255859375,19.890579223632812,-23.260786056518555,-1.40083909034729,10.28884220123291,42.537322998046875,58.95717239379883,58.957855224609375,24.8070011138916,39.578304290771484,17.348695755004883,-44.2238883972168,-25.941402435302734,-11.47860050201416,-13.438084602355957,-31.134674072265625,-19.347625732421875,9.558268547058105,-21.139835357666016,-22.065902709960938,-29.613323211669922,-3.3656866550445557,-31.580480575561523,-25.00571060180664,54.05706787109375,-22.247840881347656,-35.90439987182617,-21.518796920776367,-30.93069839477539,-31.007831573486328,0.6184894442558289,45.48738479614258,-14.082963943481445,2.098785638809204,-10.166975975036621,-20.090959548950195,-15.887521743774414,-17.146509170532227,-29.508541107177734,5.799850940704346,11.70398998260498,-9.683976173400879,15.043869972229004,0.488529771566391,-28.60592269897461,-34.42073059082031,-11.019877433776855,44.16569900512695,53.257843017578125,-50.536468505859375,-28.508678436279297,23.37289810180664,-33.073570251464844,-11.838643074035645,-36.99787521362305,22.5358943939209,63.58957290649414,25.994348526000977,0.7966264486312866,1.3272722959518433,1.9834483861923218,44.39714813232422,14.535547256469727,-27.371109008789062,58.348785400390625,-27.249195098876953,-12.119892120361328,49.13520431518555,-4.902761936187744,-34.86033248901367,-4.643604755401611,-34.614418029785156,15.86736011505127,5.050637245178223,26.013927459716797,2.934600830078125,-21.95965576171875,19.49311637878418,-6.823912620544434,-19.85881996154785,1.388285756111145,-0.9605380892753601,1.0912545919418335,11.755165100097656,-2.0772480964660645,-2.2142467498779297,7.749892234802246,-31.696861267089844,12.006813049316406,-16.56633186340332,-37.6350212097168,25.37616539001465,-33.3301887512207,-10.859969139099121,36.94786834716797,-30.424049377441406,16.563634872436523,30.778596878051758,-19.949155807495117,1.0851656198501587,-38.08940887451172,-14.612698554992676,56.5526008605957,3.2637314796447754,-6.870484352111816,60.18935775756836,5.361533164978027,59.358665466308594,-44.17995834350586,-28.89276695251465,-35.61521530151367],\"yaxis\":\"y\",\"type\":\"scattergl\"}],                        {\"template\":{\"data\":{\"histogram2dcontour\":[{\"type\":\"histogram2dcontour\",\"colorbar\":{\"outlinewidth\":0,\"ticks\":\"\"},\"colorscale\":[[0.0,\"#0d0887\"],[0.1111111111111111,\"#46039f\"],[0.2222222222222222,\"#7201a8\"],[0.3333333333333333,\"#9c179e\"],[0.4444444444444444,\"#bd3786\"],[0.5555555555555556,\"#d8576b\"],[0.6666666666666666,\"#ed7953\"],[0.7777777777777778,\"#fb9f3a\"],[0.8888888888888888,\"#fdca26\"],[1.0,\"#f0f921\"]]}],\"choropleth\":[{\"type\":\"choropleth\",\"colorbar\":{\"outlinewidth\":0,\"ticks\":\"\"}}],\"histogram2d\":[{\"type\":\"histogram2d\",\"colorbar\":{\"outlinewidth\":0,\"ticks\":\"\"},\"colorscale\":[[0.0,\"#0d0887\"],[0.1111111111111111,\"#46039f\"],[0.2222222222222222,\"#7201a8\"],[0.3333333333333333,\"#9c179e\"],[0.4444444444444444,\"#bd3786\"],[0.5555555555555556,\"#d8576b\"],[0.6666666666666666,\"#ed7953\"],[0.7777777777777778,\"#fb9f3a\"],[0.8888888888888888,\"#fdca26\"],[1.0,\"#f0f921\"]]}],\"heatmap\":[{\"type\":\"heatmap\",\"colorbar\":{\"outlinewidth\":0,\"ticks\":\"\"},\"colorscale\":[[0.0,\"#0d0887\"],[0.1111111111111111,\"#46039f\"],[0.2222222222222222,\"#7201a8\"],[0.3333333333333333,\"#9c179e\"],[0.4444444444444444,\"#bd3786\"],[0.5555555555555556,\"#d8576b\"],[0.6666666666666666,\"#ed7953\"],[0.7777777777777778,\"#fb9f3a\"],[0.8888888888888888,\"#fdca26\"],[1.0,\"#f0f921\"]]}],\"heatmapgl\":[{\"type\":\"heatmapgl\",\"colorbar\":{\"outlinewidth\":0,\"ticks\":\"\"},\"colorscale\":[[0.0,\"#0d0887\"],[0.1111111111111111,\"#46039f\"],[0.2222222222222222,\"#7201a8\"],[0.3333333333333333,\"#9c179e\"],[0.4444444444444444,\"#bd3786\"],[0.5555555555555556,\"#d8576b\"],[0.6666666666666666,\"#ed7953\"],[0.7777777777777778,\"#fb9f3a\"],[0.8888888888888888,\"#fdca26\"],[1.0,\"#f0f921\"]]}],\"contourcarpet\":[{\"type\":\"contourcarpet\",\"colorbar\":{\"outlinewidth\":0,\"ticks\":\"\"}}],\"contour\":[{\"type\":\"contour\",\"colorbar\":{\"outlinewidth\":0,\"ticks\":\"\"},\"colorscale\":[[0.0,\"#0d0887\"],[0.1111111111111111,\"#46039f\"],[0.2222222222222222,\"#7201a8\"],[0.3333333333333333,\"#9c179e\"],[0.4444444444444444,\"#bd3786\"],[0.5555555555555556,\"#d8576b\"],[0.6666666666666666,\"#ed7953\"],[0.7777777777777778,\"#fb9f3a\"],[0.8888888888888888,\"#fdca26\"],[1.0,\"#f0f921\"]]}],\"surface\":[{\"type\":\"surface\",\"colorbar\":{\"outlinewidth\":0,\"ticks\":\"\"},\"colorscale\":[[0.0,\"#0d0887\"],[0.1111111111111111,\"#46039f\"],[0.2222222222222222,\"#7201a8\"],[0.3333333333333333,\"#9c179e\"],[0.4444444444444444,\"#bd3786\"],[0.5555555555555556,\"#d8576b\"],[0.6666666666666666,\"#ed7953\"],[0.7777777777777778,\"#fb9f3a\"],[0.8888888888888888,\"#fdca26\"],[1.0,\"#f0f921\"]]}],\"mesh3d\":[{\"type\":\"mesh3d\",\"colorbar\":{\"outlinewidth\":0,\"ticks\":\"\"}}],\"scatter\":[{\"fillpattern\":{\"fillmode\":\"overlay\",\"size\":10,\"solidity\":0.2},\"type\":\"scatter\"}],\"parcoords\":[{\"type\":\"parcoords\",\"line\":{\"colorbar\":{\"outlinewidth\":0,\"ticks\":\"\"}}}],\"scatterpolargl\":[{\"type\":\"scatterpolargl\",\"marker\":{\"colorbar\":{\"outlinewidth\":0,\"ticks\":\"\"}}}],\"bar\":[{\"error_x\":{\"color\":\"#2a3f5f\"},\"error_y\":{\"color\":\"#2a3f5f\"},\"marker\":{\"line\":{\"color\":\"#E5ECF6\",\"width\":0.5},\"pattern\":{\"fillmode\":\"overlay\",\"size\":10,\"solidity\":0.2}},\"type\":\"bar\"}],\"scattergeo\":[{\"type\":\"scattergeo\",\"marker\":{\"colorbar\":{\"outlinewidth\":0,\"ticks\":\"\"}}}],\"scatterpolar\":[{\"type\":\"scatterpolar\",\"marker\":{\"colorbar\":{\"outlinewidth\":0,\"ticks\":\"\"}}}],\"histogram\":[{\"marker\":{\"pattern\":{\"fillmode\":\"overlay\",\"size\":10,\"solidity\":0.2}},\"type\":\"histogram\"}],\"scattergl\":[{\"type\":\"scattergl\",\"marker\":{\"colorbar\":{\"outlinewidth\":0,\"ticks\":\"\"}}}],\"scatter3d\":[{\"type\":\"scatter3d\",\"line\":{\"colorbar\":{\"outlinewidth\":0,\"ticks\":\"\"}},\"marker\":{\"colorbar\":{\"outlinewidth\":0,\"ticks\":\"\"}}}],\"scattermapbox\":[{\"type\":\"scattermapbox\",\"marker\":{\"colorbar\":{\"outlinewidth\":0,\"ticks\":\"\"}}}],\"scatterternary\":[{\"type\":\"scatterternary\",\"marker\":{\"colorbar\":{\"outlinewidth\":0,\"ticks\":\"\"}}}],\"scattercarpet\":[{\"type\":\"scattercarpet\",\"marker\":{\"colorbar\":{\"outlinewidth\":0,\"ticks\":\"\"}}}],\"carpet\":[{\"aaxis\":{\"endlinecolor\":\"#2a3f5f\",\"gridcolor\":\"white\",\"linecolor\":\"white\",\"minorgridcolor\":\"white\",\"startlinecolor\":\"#2a3f5f\"},\"baxis\":{\"endlinecolor\":\"#2a3f5f\",\"gridcolor\":\"white\",\"linecolor\":\"white\",\"minorgridcolor\":\"white\",\"startlinecolor\":\"#2a3f5f\"},\"type\":\"carpet\"}],\"table\":[{\"cells\":{\"fill\":{\"color\":\"#EBF0F8\"},\"line\":{\"color\":\"white\"}},\"header\":{\"fill\":{\"color\":\"#C8D4E3\"},\"line\":{\"color\":\"white\"}},\"type\":\"table\"}],\"barpolar\":[{\"marker\":{\"line\":{\"color\":\"#E5ECF6\",\"width\":0.5},\"pattern\":{\"fillmode\":\"overlay\",\"size\":10,\"solidity\":0.2}},\"type\":\"barpolar\"}],\"pie\":[{\"automargin\":true,\"type\":\"pie\"}]},\"layout\":{\"autotypenumbers\":\"strict\",\"colorway\":[\"#636efa\",\"#EF553B\",\"#00cc96\",\"#ab63fa\",\"#FFA15A\",\"#19d3f3\",\"#FF6692\",\"#B6E880\",\"#FF97FF\",\"#FECB52\"],\"font\":{\"color\":\"#2a3f5f\"},\"hovermode\":\"closest\",\"hoverlabel\":{\"align\":\"left\"},\"paper_bgcolor\":\"white\",\"plot_bgcolor\":\"#E5ECF6\",\"polar\":{\"bgcolor\":\"#E5ECF6\",\"angularaxis\":{\"gridcolor\":\"white\",\"linecolor\":\"white\",\"ticks\":\"\"},\"radialaxis\":{\"gridcolor\":\"white\",\"linecolor\":\"white\",\"ticks\":\"\"}},\"ternary\":{\"bgcolor\":\"#E5ECF6\",\"aaxis\":{\"gridcolor\":\"white\",\"linecolor\":\"white\",\"ticks\":\"\"},\"baxis\":{\"gridcolor\":\"white\",\"linecolor\":\"white\",\"ticks\":\"\"},\"caxis\":{\"gridcolor\":\"white\",\"linecolor\":\"white\",\"ticks\":\"\"}},\"coloraxis\":{\"colorbar\":{\"outlinewidth\":0,\"ticks\":\"\"}},\"colorscale\":{\"sequential\":[[0.0,\"#0d0887\"],[0.1111111111111111,\"#46039f\"],[0.2222222222222222,\"#7201a8\"],[0.3333333333333333,\"#9c179e\"],[0.4444444444444444,\"#bd3786\"],[0.5555555555555556,\"#d8576b\"],[0.6666666666666666,\"#ed7953\"],[0.7777777777777778,\"#fb9f3a\"],[0.8888888888888888,\"#fdca26\"],[1.0,\"#f0f921\"]],\"sequentialminus\":[[0.0,\"#0d0887\"],[0.1111111111111111,\"#46039f\"],[0.2222222222222222,\"#7201a8\"],[0.3333333333333333,\"#9c179e\"],[0.4444444444444444,\"#bd3786\"],[0.5555555555555556,\"#d8576b\"],[0.6666666666666666,\"#ed7953\"],[0.7777777777777778,\"#fb9f3a\"],[0.8888888888888888,\"#fdca26\"],[1.0,\"#f0f921\"]],\"diverging\":[[0,\"#8e0152\"],[0.1,\"#c51b7d\"],[0.2,\"#de77ae\"],[0.3,\"#f1b6da\"],[0.4,\"#fde0ef\"],[0.5,\"#f7f7f7\"],[0.6,\"#e6f5d0\"],[0.7,\"#b8e186\"],[0.8,\"#7fbc41\"],[0.9,\"#4d9221\"],[1,\"#276419\"]]},\"xaxis\":{\"gridcolor\":\"white\",\"linecolor\":\"white\",\"ticks\":\"\",\"title\":{\"standoff\":15},\"zerolinecolor\":\"white\",\"automargin\":true,\"zerolinewidth\":2},\"yaxis\":{\"gridcolor\":\"white\",\"linecolor\":\"white\",\"ticks\":\"\",\"title\":{\"standoff\":15},\"zerolinecolor\":\"white\",\"automargin\":true,\"zerolinewidth\":2},\"scene\":{\"xaxis\":{\"backgroundcolor\":\"#E5ECF6\",\"gridcolor\":\"white\",\"linecolor\":\"white\",\"showbackground\":true,\"ticks\":\"\",\"zerolinecolor\":\"white\",\"gridwidth\":2},\"yaxis\":{\"backgroundcolor\":\"#E5ECF6\",\"gridcolor\":\"white\",\"linecolor\":\"white\",\"showbackground\":true,\"ticks\":\"\",\"zerolinecolor\":\"white\",\"gridwidth\":2},\"zaxis\":{\"backgroundcolor\":\"#E5ECF6\",\"gridcolor\":\"white\",\"linecolor\":\"white\",\"showbackground\":true,\"ticks\":\"\",\"zerolinecolor\":\"white\",\"gridwidth\":2}},\"shapedefaults\":{\"line\":{\"color\":\"#2a3f5f\"}},\"annotationdefaults\":{\"arrowcolor\":\"#2a3f5f\",\"arrowhead\":0,\"arrowwidth\":1},\"geo\":{\"bgcolor\":\"white\",\"landcolor\":\"#E5ECF6\",\"subunitcolor\":\"white\",\"showland\":true,\"showlakes\":true,\"lakecolor\":\"white\"},\"title\":{\"x\":0.05},\"mapbox\":{\"style\":\"light\"}}},\"xaxis\":{\"anchor\":\"y\",\"domain\":[0.0,1.0],\"title\":{\"text\":\"x\"}},\"yaxis\":{\"anchor\":\"x\",\"domain\":[0.0,1.0],\"title\":{\"text\":\"y\"}},\"coloraxis\":{\"colorbar\":{\"title\":{\"text\":\"cluster\"}},\"colorscale\":[[0.0,\"#0d0887\"],[0.1111111111111111,\"#46039f\"],[0.2222222222222222,\"#7201a8\"],[0.3333333333333333,\"#9c179e\"],[0.4444444444444444,\"#bd3786\"],[0.5555555555555556,\"#d8576b\"],[0.6666666666666666,\"#ed7953\"],[0.7777777777777778,\"#fb9f3a\"],[0.8888888888888888,\"#fdca26\"],[1.0,\"#f0f921\"]]},\"legend\":{\"tracegroupgap\":0},\"margin\":{\"t\":60}},                        {\"responsive\": true}                    ).then(function(){\n",
              "                            \n",
              "var gd = document.getElementById('35d2defa-294b-42c3-8764-e4328eeb8368');\n",
              "var x = new MutationObserver(function (mutations, observer) {{\n",
              "        var display = window.getComputedStyle(gd).display;\n",
              "        if (!display || display === 'none') {{\n",
              "            console.log([gd, 'removed!']);\n",
              "            Plotly.purge(gd);\n",
              "            observer.disconnect();\n",
              "        }}\n",
              "}});\n",
              "\n",
              "// Listen for the removal of the full notebook cells\n",
              "var notebookContainer = gd.closest('#notebook-container');\n",
              "if (notebookContainer) {{\n",
              "    x.observe(notebookContainer, {childList: true});\n",
              "}}\n",
              "\n",
              "// Listen for the clearing of the current output cell\n",
              "var outputEl = gd.closest('.output');\n",
              "if (outputEl) {{\n",
              "    x.observe(outputEl, {childList: true});\n",
              "}}\n",
              "\n",
              "                        })                };                            </script>        </div>\n",
              "</body>\n",
              "</html>"
            ]
          },
          "metadata": {}
        }
      ]
    },
    {
      "cell_type": "code",
      "source": [
        "from sklearn.cluster import KMeans\n",
        "from sklearn.preprocessing import StandardScaler\n",
        "from sklearn.pipeline import Pipeline\n",
        "from sklearn.impute import SimpleImputer\n",
        "from joblib import parallel_backend\n",
        "\n",
        "# Define the pipeline with imputation\n",
        "song_cluster_pipeline = Pipeline([\n",
        "    ('imputer', SimpleImputer(strategy='mean')),  # You can choose a different strategy if needed\n",
        "    ('scaler', StandardScaler()),\n",
        "    ('kmeans', KMeans(n_clusters=20))\n",
        "])\n",
        "\n",
        "# Select only numerical columns for clustering\n",
        "X = data.select_dtypes(np.number)\n",
        "\n",
        "# Fit the pipeline with imputation\n",
        "with parallel_backend('threading', n_jobs=4):\n",
        "    song_cluster_labels = song_cluster_pipeline.fit_predict(X)\n",
        "\n",
        "# Assign cluster labels to the original data\n",
        "data['cluster_label'] = song_cluster_labels"
      ],
      "metadata": {
        "id": "jsjjFG1C1pDq"
      },
      "execution_count": 24,
      "outputs": []
    },
    {
      "source": [
        "print(data.isnull().sum())"
      ],
      "cell_type": "code",
      "metadata": {
        "colab": {
          "base_uri": "https://localhost:8080/"
        },
        "id": "o--ZlCN02eWT",
        "outputId": "6f57234d-b3dd-43b0-db62-307cb751229f"
      },
      "execution_count": 26,
      "outputs": [
        {
          "output_type": "stream",
          "name": "stdout",
          "text": [
            "valence             0\n",
            "year                0\n",
            "acousticness        0\n",
            "artists             0\n",
            "danceability        0\n",
            "duration_ms         0\n",
            "energy              0\n",
            "explicit            0\n",
            "id                  0\n",
            "instrumentalness    0\n",
            "key                 0\n",
            "liveness            0\n",
            "loudness            1\n",
            "mode                1\n",
            "name                1\n",
            "popularity          1\n",
            "release_date        1\n",
            "speechiness         1\n",
            "tempo               1\n",
            "decade              0\n",
            "cluster_label       0\n",
            "dtype: int64\n"
          ]
        }
      ]
    },
    {
      "source": [
        "data.info()\n",
        "data.head()"
      ],
      "cell_type": "code",
      "metadata": {
        "colab": {
          "base_uri": "https://localhost:8080/",
          "height": 1000
        },
        "id": "4l9v9FyT2sd3",
        "outputId": "af76e773-2e7e-4cae-ba35-18f71602e328"
      },
      "execution_count": 28,
      "outputs": [
        {
          "output_type": "stream",
          "name": "stdout",
          "text": [
            "<class 'pandas.core.frame.DataFrame'>\n",
            "Int64Index: 42360 entries, 0 to 42359\n",
            "Data columns (total 21 columns):\n",
            " #   Column            Non-Null Count  Dtype  \n",
            "---  ------            --------------  -----  \n",
            " 0   valence           42360 non-null  float64\n",
            " 1   year              42360 non-null  int64  \n",
            " 2   acousticness      42360 non-null  float64\n",
            " 3   artists           42360 non-null  object \n",
            " 4   danceability      42360 non-null  float64\n",
            " 5   duration_ms       42360 non-null  int64  \n",
            " 6   energy            42360 non-null  float64\n",
            " 7   explicit          42360 non-null  int64  \n",
            " 8   id                42360 non-null  object \n",
            " 9   instrumentalness  42360 non-null  float64\n",
            " 10  key               42360 non-null  int64  \n",
            " 11  liveness          42360 non-null  float64\n",
            " 12  loudness          42360 non-null  float64\n",
            " 13  mode              42360 non-null  float64\n",
            " 14  name              42360 non-null  object \n",
            " 15  popularity        42360 non-null  float64\n",
            " 16  release_date      42360 non-null  object \n",
            " 17  speechiness       42360 non-null  float64\n",
            " 18  tempo             42360 non-null  float64\n",
            " 19  decade            42360 non-null  object \n",
            " 20  cluster_label     42360 non-null  int32  \n",
            "dtypes: float64(11), int32(1), int64(4), object(5)\n",
            "memory usage: 6.9+ MB\n"
          ]
        },
        {
          "output_type": "execute_result",
          "data": {
            "text/plain": [
              "   valence  year  acousticness  \\\n",
              "0   0.0594  1921         0.982   \n",
              "1   0.9630  1921         0.732   \n",
              "2   0.0394  1921         0.961   \n",
              "3   0.1650  1921         0.967   \n",
              "4   0.2530  1921         0.957   \n",
              "\n",
              "                                             artists  danceability  \\\n",
              "0  ['Sergei Rachmaninoff', 'James Levine', 'Berli...         0.279   \n",
              "1                                     ['Dennis Day']         0.819   \n",
              "2  ['KHP Kridhamardawa Karaton Ngayogyakarta Hadi...         0.328   \n",
              "3                                   ['Frank Parker']         0.275   \n",
              "4                                     ['Phil Regan']         0.418   \n",
              "\n",
              "   duration_ms  energy  explicit                      id  instrumentalness  \\\n",
              "0       831667   0.211         0  4BJqT0PrAfrxzMOxytFOIz          0.878000   \n",
              "1       180533   0.341         0  7xPhfUan2yNtyFG0cUWkt8          0.000000   \n",
              "2       500062   0.166         0  1o6I8BglA6ylDMrIELygv1          0.913000   \n",
              "3       210000   0.309         0  3ftBPsC5vPBKxYSee08FDH          0.000028   \n",
              "4       166693   0.193         0  4d6HGyGT8e121BsdKmw9v6          0.000002   \n",
              "\n",
              "   ...  liveness  loudness  mode  \\\n",
              "0  ...     0.665   -20.096   1.0   \n",
              "1  ...     0.160   -12.441   1.0   \n",
              "2  ...     0.101   -14.850   1.0   \n",
              "3  ...     0.381    -9.316   1.0   \n",
              "4  ...     0.229   -10.096   1.0   \n",
              "\n",
              "                                                name popularity  release_date  \\\n",
              "0  Piano Concerto No. 3 in D Minor, Op. 30: III. ...        4.0          1921   \n",
              "1                            Clancy Lowered the Boom        5.0          1921   \n",
              "2                                          Gati Bali        5.0          1921   \n",
              "3                                          Danny Boy        3.0          1921   \n",
              "4                        When Irish Eyes Are Smiling        2.0          1921   \n",
              "\n",
              "  speechiness    tempo  decade cluster_label  \n",
              "0      0.0366   80.954   1920s            13  \n",
              "1      0.4150   60.936   1920s             1  \n",
              "2      0.0339  110.339   1920s            13  \n",
              "3      0.0354  100.109   1920s            15  \n",
              "4      0.0380  101.665   1920s            15  \n",
              "\n",
              "[5 rows x 21 columns]"
            ],
            "text/html": [
              "\n",
              "  <div id=\"df-8370b2e5-3081-42ad-b6b6-3af6642bef83\" class=\"colab-df-container\">\n",
              "    <div>\n",
              "<style scoped>\n",
              "    .dataframe tbody tr th:only-of-type {\n",
              "        vertical-align: middle;\n",
              "    }\n",
              "\n",
              "    .dataframe tbody tr th {\n",
              "        vertical-align: top;\n",
              "    }\n",
              "\n",
              "    .dataframe thead th {\n",
              "        text-align: right;\n",
              "    }\n",
              "</style>\n",
              "<table border=\"1\" class=\"dataframe\">\n",
              "  <thead>\n",
              "    <tr style=\"text-align: right;\">\n",
              "      <th></th>\n",
              "      <th>valence</th>\n",
              "      <th>year</th>\n",
              "      <th>acousticness</th>\n",
              "      <th>artists</th>\n",
              "      <th>danceability</th>\n",
              "      <th>duration_ms</th>\n",
              "      <th>energy</th>\n",
              "      <th>explicit</th>\n",
              "      <th>id</th>\n",
              "      <th>instrumentalness</th>\n",
              "      <th>...</th>\n",
              "      <th>liveness</th>\n",
              "      <th>loudness</th>\n",
              "      <th>mode</th>\n",
              "      <th>name</th>\n",
              "      <th>popularity</th>\n",
              "      <th>release_date</th>\n",
              "      <th>speechiness</th>\n",
              "      <th>tempo</th>\n",
              "      <th>decade</th>\n",
              "      <th>cluster_label</th>\n",
              "    </tr>\n",
              "  </thead>\n",
              "  <tbody>\n",
              "    <tr>\n",
              "      <th>0</th>\n",
              "      <td>0.0594</td>\n",
              "      <td>1921</td>\n",
              "      <td>0.982</td>\n",
              "      <td>['Sergei Rachmaninoff', 'James Levine', 'Berli...</td>\n",
              "      <td>0.279</td>\n",
              "      <td>831667</td>\n",
              "      <td>0.211</td>\n",
              "      <td>0</td>\n",
              "      <td>4BJqT0PrAfrxzMOxytFOIz</td>\n",
              "      <td>0.878000</td>\n",
              "      <td>...</td>\n",
              "      <td>0.665</td>\n",
              "      <td>-20.096</td>\n",
              "      <td>1.0</td>\n",
              "      <td>Piano Concerto No. 3 in D Minor, Op. 30: III. ...</td>\n",
              "      <td>4.0</td>\n",
              "      <td>1921</td>\n",
              "      <td>0.0366</td>\n",
              "      <td>80.954</td>\n",
              "      <td>1920s</td>\n",
              "      <td>13</td>\n",
              "    </tr>\n",
              "    <tr>\n",
              "      <th>1</th>\n",
              "      <td>0.9630</td>\n",
              "      <td>1921</td>\n",
              "      <td>0.732</td>\n",
              "      <td>['Dennis Day']</td>\n",
              "      <td>0.819</td>\n",
              "      <td>180533</td>\n",
              "      <td>0.341</td>\n",
              "      <td>0</td>\n",
              "      <td>7xPhfUan2yNtyFG0cUWkt8</td>\n",
              "      <td>0.000000</td>\n",
              "      <td>...</td>\n",
              "      <td>0.160</td>\n",
              "      <td>-12.441</td>\n",
              "      <td>1.0</td>\n",
              "      <td>Clancy Lowered the Boom</td>\n",
              "      <td>5.0</td>\n",
              "      <td>1921</td>\n",
              "      <td>0.4150</td>\n",
              "      <td>60.936</td>\n",
              "      <td>1920s</td>\n",
              "      <td>1</td>\n",
              "    </tr>\n",
              "    <tr>\n",
              "      <th>2</th>\n",
              "      <td>0.0394</td>\n",
              "      <td>1921</td>\n",
              "      <td>0.961</td>\n",
              "      <td>['KHP Kridhamardawa Karaton Ngayogyakarta Hadi...</td>\n",
              "      <td>0.328</td>\n",
              "      <td>500062</td>\n",
              "      <td>0.166</td>\n",
              "      <td>0</td>\n",
              "      <td>1o6I8BglA6ylDMrIELygv1</td>\n",
              "      <td>0.913000</td>\n",
              "      <td>...</td>\n",
              "      <td>0.101</td>\n",
              "      <td>-14.850</td>\n",
              "      <td>1.0</td>\n",
              "      <td>Gati Bali</td>\n",
              "      <td>5.0</td>\n",
              "      <td>1921</td>\n",
              "      <td>0.0339</td>\n",
              "      <td>110.339</td>\n",
              "      <td>1920s</td>\n",
              "      <td>13</td>\n",
              "    </tr>\n",
              "    <tr>\n",
              "      <th>3</th>\n",
              "      <td>0.1650</td>\n",
              "      <td>1921</td>\n",
              "      <td>0.967</td>\n",
              "      <td>['Frank Parker']</td>\n",
              "      <td>0.275</td>\n",
              "      <td>210000</td>\n",
              "      <td>0.309</td>\n",
              "      <td>0</td>\n",
              "      <td>3ftBPsC5vPBKxYSee08FDH</td>\n",
              "      <td>0.000028</td>\n",
              "      <td>...</td>\n",
              "      <td>0.381</td>\n",
              "      <td>-9.316</td>\n",
              "      <td>1.0</td>\n",
              "      <td>Danny Boy</td>\n",
              "      <td>3.0</td>\n",
              "      <td>1921</td>\n",
              "      <td>0.0354</td>\n",
              "      <td>100.109</td>\n",
              "      <td>1920s</td>\n",
              "      <td>15</td>\n",
              "    </tr>\n",
              "    <tr>\n",
              "      <th>4</th>\n",
              "      <td>0.2530</td>\n",
              "      <td>1921</td>\n",
              "      <td>0.957</td>\n",
              "      <td>['Phil Regan']</td>\n",
              "      <td>0.418</td>\n",
              "      <td>166693</td>\n",
              "      <td>0.193</td>\n",
              "      <td>0</td>\n",
              "      <td>4d6HGyGT8e121BsdKmw9v6</td>\n",
              "      <td>0.000002</td>\n",
              "      <td>...</td>\n",
              "      <td>0.229</td>\n",
              "      <td>-10.096</td>\n",
              "      <td>1.0</td>\n",
              "      <td>When Irish Eyes Are Smiling</td>\n",
              "      <td>2.0</td>\n",
              "      <td>1921</td>\n",
              "      <td>0.0380</td>\n",
              "      <td>101.665</td>\n",
              "      <td>1920s</td>\n",
              "      <td>15</td>\n",
              "    </tr>\n",
              "  </tbody>\n",
              "</table>\n",
              "<p>5 rows × 21 columns</p>\n",
              "</div>\n",
              "    <div class=\"colab-df-buttons\">\n",
              "\n",
              "  <div class=\"colab-df-container\">\n",
              "    <button class=\"colab-df-convert\" onclick=\"convertToInteractive('df-8370b2e5-3081-42ad-b6b6-3af6642bef83')\"\n",
              "            title=\"Convert this dataframe to an interactive table.\"\n",
              "            style=\"display:none;\">\n",
              "\n",
              "  <svg xmlns=\"http://www.w3.org/2000/svg\" height=\"24px\" viewBox=\"0 -960 960 960\">\n",
              "    <path d=\"M120-120v-720h720v720H120Zm60-500h600v-160H180v160Zm220 220h160v-160H400v160Zm0 220h160v-160H400v160ZM180-400h160v-160H180v160Zm440 0h160v-160H620v160ZM180-180h160v-160H180v160Zm440 0h160v-160H620v160Z\"/>\n",
              "  </svg>\n",
              "    </button>\n",
              "\n",
              "  <style>\n",
              "    .colab-df-container {\n",
              "      display:flex;\n",
              "      gap: 12px;\n",
              "    }\n",
              "\n",
              "    .colab-df-convert {\n",
              "      background-color: #E8F0FE;\n",
              "      border: none;\n",
              "      border-radius: 50%;\n",
              "      cursor: pointer;\n",
              "      display: none;\n",
              "      fill: #1967D2;\n",
              "      height: 32px;\n",
              "      padding: 0 0 0 0;\n",
              "      width: 32px;\n",
              "    }\n",
              "\n",
              "    .colab-df-convert:hover {\n",
              "      background-color: #E2EBFA;\n",
              "      box-shadow: 0px 1px 2px rgba(60, 64, 67, 0.3), 0px 1px 3px 1px rgba(60, 64, 67, 0.15);\n",
              "      fill: #174EA6;\n",
              "    }\n",
              "\n",
              "    .colab-df-buttons div {\n",
              "      margin-bottom: 4px;\n",
              "    }\n",
              "\n",
              "    [theme=dark] .colab-df-convert {\n",
              "      background-color: #3B4455;\n",
              "      fill: #D2E3FC;\n",
              "    }\n",
              "\n",
              "    [theme=dark] .colab-df-convert:hover {\n",
              "      background-color: #434B5C;\n",
              "      box-shadow: 0px 1px 3px 1px rgba(0, 0, 0, 0.15);\n",
              "      filter: drop-shadow(0px 1px 2px rgba(0, 0, 0, 0.3));\n",
              "      fill: #FFFFFF;\n",
              "    }\n",
              "  </style>\n",
              "\n",
              "    <script>\n",
              "      const buttonEl =\n",
              "        document.querySelector('#df-8370b2e5-3081-42ad-b6b6-3af6642bef83 button.colab-df-convert');\n",
              "      buttonEl.style.display =\n",
              "        google.colab.kernel.accessAllowed ? 'block' : 'none';\n",
              "\n",
              "      async function convertToInteractive(key) {\n",
              "        const element = document.querySelector('#df-8370b2e5-3081-42ad-b6b6-3af6642bef83');\n",
              "        const dataTable =\n",
              "          await google.colab.kernel.invokeFunction('convertToInteractive',\n",
              "                                                    [key], {});\n",
              "        if (!dataTable) return;\n",
              "\n",
              "        const docLinkHtml = 'Like what you see? Visit the ' +\n",
              "          '<a target=\"_blank\" href=https://colab.research.google.com/notebooks/data_table.ipynb>data table notebook</a>'\n",
              "          + ' to learn more about interactive tables.';\n",
              "        element.innerHTML = '';\n",
              "        dataTable['output_type'] = 'display_data';\n",
              "        await google.colab.output.renderOutput(dataTable, element);\n",
              "        const docLink = document.createElement('div');\n",
              "        docLink.innerHTML = docLinkHtml;\n",
              "        element.appendChild(docLink);\n",
              "      }\n",
              "    </script>\n",
              "  </div>\n",
              "\n",
              "\n",
              "<div id=\"df-977c6500-277c-461d-a5f3-8758f32175c8\">\n",
              "  <button class=\"colab-df-quickchart\" onclick=\"quickchart('df-977c6500-277c-461d-a5f3-8758f32175c8')\"\n",
              "            title=\"Suggest charts\"\n",
              "            style=\"display:none;\">\n",
              "\n",
              "<svg xmlns=\"http://www.w3.org/2000/svg\" height=\"24px\"viewBox=\"0 0 24 24\"\n",
              "     width=\"24px\">\n",
              "    <g>\n",
              "        <path d=\"M19 3H5c-1.1 0-2 .9-2 2v14c0 1.1.9 2 2 2h14c1.1 0 2-.9 2-2V5c0-1.1-.9-2-2-2zM9 17H7v-7h2v7zm4 0h-2V7h2v10zm4 0h-2v-4h2v4z\"/>\n",
              "    </g>\n",
              "</svg>\n",
              "  </button>\n",
              "\n",
              "<style>\n",
              "  .colab-df-quickchart {\n",
              "      --bg-color: #E8F0FE;\n",
              "      --fill-color: #1967D2;\n",
              "      --hover-bg-color: #E2EBFA;\n",
              "      --hover-fill-color: #174EA6;\n",
              "      --disabled-fill-color: #AAA;\n",
              "      --disabled-bg-color: #DDD;\n",
              "  }\n",
              "\n",
              "  [theme=dark] .colab-df-quickchart {\n",
              "      --bg-color: #3B4455;\n",
              "      --fill-color: #D2E3FC;\n",
              "      --hover-bg-color: #434B5C;\n",
              "      --hover-fill-color: #FFFFFF;\n",
              "      --disabled-bg-color: #3B4455;\n",
              "      --disabled-fill-color: #666;\n",
              "  }\n",
              "\n",
              "  .colab-df-quickchart {\n",
              "    background-color: var(--bg-color);\n",
              "    border: none;\n",
              "    border-radius: 50%;\n",
              "    cursor: pointer;\n",
              "    display: none;\n",
              "    fill: var(--fill-color);\n",
              "    height: 32px;\n",
              "    padding: 0;\n",
              "    width: 32px;\n",
              "  }\n",
              "\n",
              "  .colab-df-quickchart:hover {\n",
              "    background-color: var(--hover-bg-color);\n",
              "    box-shadow: 0 1px 2px rgba(60, 64, 67, 0.3), 0 1px 3px 1px rgba(60, 64, 67, 0.15);\n",
              "    fill: var(--button-hover-fill-color);\n",
              "  }\n",
              "\n",
              "  .colab-df-quickchart-complete:disabled,\n",
              "  .colab-df-quickchart-complete:disabled:hover {\n",
              "    background-color: var(--disabled-bg-color);\n",
              "    fill: var(--disabled-fill-color);\n",
              "    box-shadow: none;\n",
              "  }\n",
              "\n",
              "  .colab-df-spinner {\n",
              "    border: 2px solid var(--fill-color);\n",
              "    border-color: transparent;\n",
              "    border-bottom-color: var(--fill-color);\n",
              "    animation:\n",
              "      spin 1s steps(1) infinite;\n",
              "  }\n",
              "\n",
              "  @keyframes spin {\n",
              "    0% {\n",
              "      border-color: transparent;\n",
              "      border-bottom-color: var(--fill-color);\n",
              "      border-left-color: var(--fill-color);\n",
              "    }\n",
              "    20% {\n",
              "      border-color: transparent;\n",
              "      border-left-color: var(--fill-color);\n",
              "      border-top-color: var(--fill-color);\n",
              "    }\n",
              "    30% {\n",
              "      border-color: transparent;\n",
              "      border-left-color: var(--fill-color);\n",
              "      border-top-color: var(--fill-color);\n",
              "      border-right-color: var(--fill-color);\n",
              "    }\n",
              "    40% {\n",
              "      border-color: transparent;\n",
              "      border-right-color: var(--fill-color);\n",
              "      border-top-color: var(--fill-color);\n",
              "    }\n",
              "    60% {\n",
              "      border-color: transparent;\n",
              "      border-right-color: var(--fill-color);\n",
              "    }\n",
              "    80% {\n",
              "      border-color: transparent;\n",
              "      border-right-color: var(--fill-color);\n",
              "      border-bottom-color: var(--fill-color);\n",
              "    }\n",
              "    90% {\n",
              "      border-color: transparent;\n",
              "      border-bottom-color: var(--fill-color);\n",
              "    }\n",
              "  }\n",
              "</style>\n",
              "\n",
              "  <script>\n",
              "    async function quickchart(key) {\n",
              "      const quickchartButtonEl =\n",
              "        document.querySelector('#' + key + ' button');\n",
              "      quickchartButtonEl.disabled = true;  // To prevent multiple clicks.\n",
              "      quickchartButtonEl.classList.add('colab-df-spinner');\n",
              "      try {\n",
              "        const charts = await google.colab.kernel.invokeFunction(\n",
              "            'suggestCharts', [key], {});\n",
              "      } catch (error) {\n",
              "        console.error('Error during call to suggestCharts:', error);\n",
              "      }\n",
              "      quickchartButtonEl.classList.remove('colab-df-spinner');\n",
              "      quickchartButtonEl.classList.add('colab-df-quickchart-complete');\n",
              "    }\n",
              "    (() => {\n",
              "      let quickchartButtonEl =\n",
              "        document.querySelector('#df-977c6500-277c-461d-a5f3-8758f32175c8 button');\n",
              "      quickchartButtonEl.style.display =\n",
              "        google.colab.kernel.accessAllowed ? 'block' : 'none';\n",
              "    })();\n",
              "  </script>\n",
              "</div>\n",
              "\n",
              "    </div>\n",
              "  </div>\n"
            ],
            "application/vnd.google.colaboratory.intrinsic+json": {
              "type": "dataframe",
              "variable_name": "data"
            }
          },
          "metadata": {},
          "execution_count": 28
        }
      ]
    },
    {
      "source": [
        "numeric_data = data.select_dtypes(include=[\"number\"])"
      ],
      "cell_type": "code",
      "metadata": {
        "id": "wwV9Odkq2yJN"
      },
      "execution_count": 29,
      "outputs": []
    },
    {
      "source": [
        "imputer = SimpleImputer(strategy=\"mean\")\n",
        "imputed_data = imputer.fit_transform(numeric_data)"
      ],
      "cell_type": "code",
      "metadata": {
        "id": "O1vEC1A-24vf"
      },
      "execution_count": 30,
      "outputs": []
    },
    {
      "source": [
        "data[\"valence\"] = data[\"valence\"]\n",
        "data[numeric_data.columns] = imputed_data"
      ],
      "cell_type": "code",
      "metadata": {
        "id": "4eH9Nt-826tk"
      },
      "execution_count": 31,
      "outputs": []
    },
    {
      "source": [
        "data.info()\n",
        "data.head()"
      ],
      "cell_type": "code",
      "metadata": {
        "colab": {
          "base_uri": "https://localhost:8080/",
          "height": 1000
        },
        "id": "2U6NdTfV28U5",
        "outputId": "9d436204-27d0-4d87-f67a-e3489240831b"
      },
      "execution_count": 32,
      "outputs": [
        {
          "output_type": "stream",
          "name": "stdout",
          "text": [
            "<class 'pandas.core.frame.DataFrame'>\n",
            "Int64Index: 42360 entries, 0 to 42359\n",
            "Data columns (total 21 columns):\n",
            " #   Column            Non-Null Count  Dtype  \n",
            "---  ------            --------------  -----  \n",
            " 0   valence           42360 non-null  float64\n",
            " 1   year              42360 non-null  float64\n",
            " 2   acousticness      42360 non-null  float64\n",
            " 3   artists           42360 non-null  object \n",
            " 4   danceability      42360 non-null  float64\n",
            " 5   duration_ms       42360 non-null  float64\n",
            " 6   energy            42360 non-null  float64\n",
            " 7   explicit          42360 non-null  float64\n",
            " 8   id                42360 non-null  object \n",
            " 9   instrumentalness  42360 non-null  float64\n",
            " 10  key               42360 non-null  float64\n",
            " 11  liveness          42360 non-null  float64\n",
            " 12  loudness          42360 non-null  float64\n",
            " 13  mode              42360 non-null  float64\n",
            " 14  name              42360 non-null  object \n",
            " 15  popularity        42360 non-null  float64\n",
            " 16  release_date      42360 non-null  object \n",
            " 17  speechiness       42360 non-null  float64\n",
            " 18  tempo             42360 non-null  float64\n",
            " 19  decade            42360 non-null  object \n",
            " 20  cluster_label     42360 non-null  float64\n",
            "dtypes: float64(16), object(5)\n",
            "memory usage: 7.1+ MB\n"
          ]
        },
        {
          "output_type": "execute_result",
          "data": {
            "text/plain": [
              "   valence    year  acousticness  \\\n",
              "0   0.0594  1921.0         0.982   \n",
              "1   0.9630  1921.0         0.732   \n",
              "2   0.0394  1921.0         0.961   \n",
              "3   0.1650  1921.0         0.967   \n",
              "4   0.2530  1921.0         0.957   \n",
              "\n",
              "                                             artists  danceability  \\\n",
              "0  ['Sergei Rachmaninoff', 'James Levine', 'Berli...         0.279   \n",
              "1                                     ['Dennis Day']         0.819   \n",
              "2  ['KHP Kridhamardawa Karaton Ngayogyakarta Hadi...         0.328   \n",
              "3                                   ['Frank Parker']         0.275   \n",
              "4                                     ['Phil Regan']         0.418   \n",
              "\n",
              "   duration_ms  energy  explicit                      id  instrumentalness  \\\n",
              "0     831667.0   0.211       0.0  4BJqT0PrAfrxzMOxytFOIz          0.878000   \n",
              "1     180533.0   0.341       0.0  7xPhfUan2yNtyFG0cUWkt8          0.000000   \n",
              "2     500062.0   0.166       0.0  1o6I8BglA6ylDMrIELygv1          0.913000   \n",
              "3     210000.0   0.309       0.0  3ftBPsC5vPBKxYSee08FDH          0.000028   \n",
              "4     166693.0   0.193       0.0  4d6HGyGT8e121BsdKmw9v6          0.000002   \n",
              "\n",
              "   ...  liveness  loudness  mode  \\\n",
              "0  ...     0.665   -20.096   1.0   \n",
              "1  ...     0.160   -12.441   1.0   \n",
              "2  ...     0.101   -14.850   1.0   \n",
              "3  ...     0.381    -9.316   1.0   \n",
              "4  ...     0.229   -10.096   1.0   \n",
              "\n",
              "                                                name popularity  release_date  \\\n",
              "0  Piano Concerto No. 3 in D Minor, Op. 30: III. ...        4.0          1921   \n",
              "1                            Clancy Lowered the Boom        5.0          1921   \n",
              "2                                          Gati Bali        5.0          1921   \n",
              "3                                          Danny Boy        3.0          1921   \n",
              "4                        When Irish Eyes Are Smiling        2.0          1921   \n",
              "\n",
              "  speechiness    tempo  decade cluster_label  \n",
              "0      0.0366   80.954   1920s          13.0  \n",
              "1      0.4150   60.936   1920s           1.0  \n",
              "2      0.0339  110.339   1920s          13.0  \n",
              "3      0.0354  100.109   1920s          15.0  \n",
              "4      0.0380  101.665   1920s          15.0  \n",
              "\n",
              "[5 rows x 21 columns]"
            ],
            "text/html": [
              "\n",
              "  <div id=\"df-c1c820ca-396e-4241-9265-f17882412f3f\" class=\"colab-df-container\">\n",
              "    <div>\n",
              "<style scoped>\n",
              "    .dataframe tbody tr th:only-of-type {\n",
              "        vertical-align: middle;\n",
              "    }\n",
              "\n",
              "    .dataframe tbody tr th {\n",
              "        vertical-align: top;\n",
              "    }\n",
              "\n",
              "    .dataframe thead th {\n",
              "        text-align: right;\n",
              "    }\n",
              "</style>\n",
              "<table border=\"1\" class=\"dataframe\">\n",
              "  <thead>\n",
              "    <tr style=\"text-align: right;\">\n",
              "      <th></th>\n",
              "      <th>valence</th>\n",
              "      <th>year</th>\n",
              "      <th>acousticness</th>\n",
              "      <th>artists</th>\n",
              "      <th>danceability</th>\n",
              "      <th>duration_ms</th>\n",
              "      <th>energy</th>\n",
              "      <th>explicit</th>\n",
              "      <th>id</th>\n",
              "      <th>instrumentalness</th>\n",
              "      <th>...</th>\n",
              "      <th>liveness</th>\n",
              "      <th>loudness</th>\n",
              "      <th>mode</th>\n",
              "      <th>name</th>\n",
              "      <th>popularity</th>\n",
              "      <th>release_date</th>\n",
              "      <th>speechiness</th>\n",
              "      <th>tempo</th>\n",
              "      <th>decade</th>\n",
              "      <th>cluster_label</th>\n",
              "    </tr>\n",
              "  </thead>\n",
              "  <tbody>\n",
              "    <tr>\n",
              "      <th>0</th>\n",
              "      <td>0.0594</td>\n",
              "      <td>1921.0</td>\n",
              "      <td>0.982</td>\n",
              "      <td>['Sergei Rachmaninoff', 'James Levine', 'Berli...</td>\n",
              "      <td>0.279</td>\n",
              "      <td>831667.0</td>\n",
              "      <td>0.211</td>\n",
              "      <td>0.0</td>\n",
              "      <td>4BJqT0PrAfrxzMOxytFOIz</td>\n",
              "      <td>0.878000</td>\n",
              "      <td>...</td>\n",
              "      <td>0.665</td>\n",
              "      <td>-20.096</td>\n",
              "      <td>1.0</td>\n",
              "      <td>Piano Concerto No. 3 in D Minor, Op. 30: III. ...</td>\n",
              "      <td>4.0</td>\n",
              "      <td>1921</td>\n",
              "      <td>0.0366</td>\n",
              "      <td>80.954</td>\n",
              "      <td>1920s</td>\n",
              "      <td>13.0</td>\n",
              "    </tr>\n",
              "    <tr>\n",
              "      <th>1</th>\n",
              "      <td>0.9630</td>\n",
              "      <td>1921.0</td>\n",
              "      <td>0.732</td>\n",
              "      <td>['Dennis Day']</td>\n",
              "      <td>0.819</td>\n",
              "      <td>180533.0</td>\n",
              "      <td>0.341</td>\n",
              "      <td>0.0</td>\n",
              "      <td>7xPhfUan2yNtyFG0cUWkt8</td>\n",
              "      <td>0.000000</td>\n",
              "      <td>...</td>\n",
              "      <td>0.160</td>\n",
              "      <td>-12.441</td>\n",
              "      <td>1.0</td>\n",
              "      <td>Clancy Lowered the Boom</td>\n",
              "      <td>5.0</td>\n",
              "      <td>1921</td>\n",
              "      <td>0.4150</td>\n",
              "      <td>60.936</td>\n",
              "      <td>1920s</td>\n",
              "      <td>1.0</td>\n",
              "    </tr>\n",
              "    <tr>\n",
              "      <th>2</th>\n",
              "      <td>0.0394</td>\n",
              "      <td>1921.0</td>\n",
              "      <td>0.961</td>\n",
              "      <td>['KHP Kridhamardawa Karaton Ngayogyakarta Hadi...</td>\n",
              "      <td>0.328</td>\n",
              "      <td>500062.0</td>\n",
              "      <td>0.166</td>\n",
              "      <td>0.0</td>\n",
              "      <td>1o6I8BglA6ylDMrIELygv1</td>\n",
              "      <td>0.913000</td>\n",
              "      <td>...</td>\n",
              "      <td>0.101</td>\n",
              "      <td>-14.850</td>\n",
              "      <td>1.0</td>\n",
              "      <td>Gati Bali</td>\n",
              "      <td>5.0</td>\n",
              "      <td>1921</td>\n",
              "      <td>0.0339</td>\n",
              "      <td>110.339</td>\n",
              "      <td>1920s</td>\n",
              "      <td>13.0</td>\n",
              "    </tr>\n",
              "    <tr>\n",
              "      <th>3</th>\n",
              "      <td>0.1650</td>\n",
              "      <td>1921.0</td>\n",
              "      <td>0.967</td>\n",
              "      <td>['Frank Parker']</td>\n",
              "      <td>0.275</td>\n",
              "      <td>210000.0</td>\n",
              "      <td>0.309</td>\n",
              "      <td>0.0</td>\n",
              "      <td>3ftBPsC5vPBKxYSee08FDH</td>\n",
              "      <td>0.000028</td>\n",
              "      <td>...</td>\n",
              "      <td>0.381</td>\n",
              "      <td>-9.316</td>\n",
              "      <td>1.0</td>\n",
              "      <td>Danny Boy</td>\n",
              "      <td>3.0</td>\n",
              "      <td>1921</td>\n",
              "      <td>0.0354</td>\n",
              "      <td>100.109</td>\n",
              "      <td>1920s</td>\n",
              "      <td>15.0</td>\n",
              "    </tr>\n",
              "    <tr>\n",
              "      <th>4</th>\n",
              "      <td>0.2530</td>\n",
              "      <td>1921.0</td>\n",
              "      <td>0.957</td>\n",
              "      <td>['Phil Regan']</td>\n",
              "      <td>0.418</td>\n",
              "      <td>166693.0</td>\n",
              "      <td>0.193</td>\n",
              "      <td>0.0</td>\n",
              "      <td>4d6HGyGT8e121BsdKmw9v6</td>\n",
              "      <td>0.000002</td>\n",
              "      <td>...</td>\n",
              "      <td>0.229</td>\n",
              "      <td>-10.096</td>\n",
              "      <td>1.0</td>\n",
              "      <td>When Irish Eyes Are Smiling</td>\n",
              "      <td>2.0</td>\n",
              "      <td>1921</td>\n",
              "      <td>0.0380</td>\n",
              "      <td>101.665</td>\n",
              "      <td>1920s</td>\n",
              "      <td>15.0</td>\n",
              "    </tr>\n",
              "  </tbody>\n",
              "</table>\n",
              "<p>5 rows × 21 columns</p>\n",
              "</div>\n",
              "    <div class=\"colab-df-buttons\">\n",
              "\n",
              "  <div class=\"colab-df-container\">\n",
              "    <button class=\"colab-df-convert\" onclick=\"convertToInteractive('df-c1c820ca-396e-4241-9265-f17882412f3f')\"\n",
              "            title=\"Convert this dataframe to an interactive table.\"\n",
              "            style=\"display:none;\">\n",
              "\n",
              "  <svg xmlns=\"http://www.w3.org/2000/svg\" height=\"24px\" viewBox=\"0 -960 960 960\">\n",
              "    <path d=\"M120-120v-720h720v720H120Zm60-500h600v-160H180v160Zm220 220h160v-160H400v160Zm0 220h160v-160H400v160ZM180-400h160v-160H180v160Zm440 0h160v-160H620v160ZM180-180h160v-160H180v160Zm440 0h160v-160H620v160Z\"/>\n",
              "  </svg>\n",
              "    </button>\n",
              "\n",
              "  <style>\n",
              "    .colab-df-container {\n",
              "      display:flex;\n",
              "      gap: 12px;\n",
              "    }\n",
              "\n",
              "    .colab-df-convert {\n",
              "      background-color: #E8F0FE;\n",
              "      border: none;\n",
              "      border-radius: 50%;\n",
              "      cursor: pointer;\n",
              "      display: none;\n",
              "      fill: #1967D2;\n",
              "      height: 32px;\n",
              "      padding: 0 0 0 0;\n",
              "      width: 32px;\n",
              "    }\n",
              "\n",
              "    .colab-df-convert:hover {\n",
              "      background-color: #E2EBFA;\n",
              "      box-shadow: 0px 1px 2px rgba(60, 64, 67, 0.3), 0px 1px 3px 1px rgba(60, 64, 67, 0.15);\n",
              "      fill: #174EA6;\n",
              "    }\n",
              "\n",
              "    .colab-df-buttons div {\n",
              "      margin-bottom: 4px;\n",
              "    }\n",
              "\n",
              "    [theme=dark] .colab-df-convert {\n",
              "      background-color: #3B4455;\n",
              "      fill: #D2E3FC;\n",
              "    }\n",
              "\n",
              "    [theme=dark] .colab-df-convert:hover {\n",
              "      background-color: #434B5C;\n",
              "      box-shadow: 0px 1px 3px 1px rgba(0, 0, 0, 0.15);\n",
              "      filter: drop-shadow(0px 1px 2px rgba(0, 0, 0, 0.3));\n",
              "      fill: #FFFFFF;\n",
              "    }\n",
              "  </style>\n",
              "\n",
              "    <script>\n",
              "      const buttonEl =\n",
              "        document.querySelector('#df-c1c820ca-396e-4241-9265-f17882412f3f button.colab-df-convert');\n",
              "      buttonEl.style.display =\n",
              "        google.colab.kernel.accessAllowed ? 'block' : 'none';\n",
              "\n",
              "      async function convertToInteractive(key) {\n",
              "        const element = document.querySelector('#df-c1c820ca-396e-4241-9265-f17882412f3f');\n",
              "        const dataTable =\n",
              "          await google.colab.kernel.invokeFunction('convertToInteractive',\n",
              "                                                    [key], {});\n",
              "        if (!dataTable) return;\n",
              "\n",
              "        const docLinkHtml = 'Like what you see? Visit the ' +\n",
              "          '<a target=\"_blank\" href=https://colab.research.google.com/notebooks/data_table.ipynb>data table notebook</a>'\n",
              "          + ' to learn more about interactive tables.';\n",
              "        element.innerHTML = '';\n",
              "        dataTable['output_type'] = 'display_data';\n",
              "        await google.colab.output.renderOutput(dataTable, element);\n",
              "        const docLink = document.createElement('div');\n",
              "        docLink.innerHTML = docLinkHtml;\n",
              "        element.appendChild(docLink);\n",
              "      }\n",
              "    </script>\n",
              "  </div>\n",
              "\n",
              "\n",
              "<div id=\"df-62dea5a8-abea-4467-8751-d58092937c4e\">\n",
              "  <button class=\"colab-df-quickchart\" onclick=\"quickchart('df-62dea5a8-abea-4467-8751-d58092937c4e')\"\n",
              "            title=\"Suggest charts\"\n",
              "            style=\"display:none;\">\n",
              "\n",
              "<svg xmlns=\"http://www.w3.org/2000/svg\" height=\"24px\"viewBox=\"0 0 24 24\"\n",
              "     width=\"24px\">\n",
              "    <g>\n",
              "        <path d=\"M19 3H5c-1.1 0-2 .9-2 2v14c0 1.1.9 2 2 2h14c1.1 0 2-.9 2-2V5c0-1.1-.9-2-2-2zM9 17H7v-7h2v7zm4 0h-2V7h2v10zm4 0h-2v-4h2v4z\"/>\n",
              "    </g>\n",
              "</svg>\n",
              "  </button>\n",
              "\n",
              "<style>\n",
              "  .colab-df-quickchart {\n",
              "      --bg-color: #E8F0FE;\n",
              "      --fill-color: #1967D2;\n",
              "      --hover-bg-color: #E2EBFA;\n",
              "      --hover-fill-color: #174EA6;\n",
              "      --disabled-fill-color: #AAA;\n",
              "      --disabled-bg-color: #DDD;\n",
              "  }\n",
              "\n",
              "  [theme=dark] .colab-df-quickchart {\n",
              "      --bg-color: #3B4455;\n",
              "      --fill-color: #D2E3FC;\n",
              "      --hover-bg-color: #434B5C;\n",
              "      --hover-fill-color: #FFFFFF;\n",
              "      --disabled-bg-color: #3B4455;\n",
              "      --disabled-fill-color: #666;\n",
              "  }\n",
              "\n",
              "  .colab-df-quickchart {\n",
              "    background-color: var(--bg-color);\n",
              "    border: none;\n",
              "    border-radius: 50%;\n",
              "    cursor: pointer;\n",
              "    display: none;\n",
              "    fill: var(--fill-color);\n",
              "    height: 32px;\n",
              "    padding: 0;\n",
              "    width: 32px;\n",
              "  }\n",
              "\n",
              "  .colab-df-quickchart:hover {\n",
              "    background-color: var(--hover-bg-color);\n",
              "    box-shadow: 0 1px 2px rgba(60, 64, 67, 0.3), 0 1px 3px 1px rgba(60, 64, 67, 0.15);\n",
              "    fill: var(--button-hover-fill-color);\n",
              "  }\n",
              "\n",
              "  .colab-df-quickchart-complete:disabled,\n",
              "  .colab-df-quickchart-complete:disabled:hover {\n",
              "    background-color: var(--disabled-bg-color);\n",
              "    fill: var(--disabled-fill-color);\n",
              "    box-shadow: none;\n",
              "  }\n",
              "\n",
              "  .colab-df-spinner {\n",
              "    border: 2px solid var(--fill-color);\n",
              "    border-color: transparent;\n",
              "    border-bottom-color: var(--fill-color);\n",
              "    animation:\n",
              "      spin 1s steps(1) infinite;\n",
              "  }\n",
              "\n",
              "  @keyframes spin {\n",
              "    0% {\n",
              "      border-color: transparent;\n",
              "      border-bottom-color: var(--fill-color);\n",
              "      border-left-color: var(--fill-color);\n",
              "    }\n",
              "    20% {\n",
              "      border-color: transparent;\n",
              "      border-left-color: var(--fill-color);\n",
              "      border-top-color: var(--fill-color);\n",
              "    }\n",
              "    30% {\n",
              "      border-color: transparent;\n",
              "      border-left-color: var(--fill-color);\n",
              "      border-top-color: var(--fill-color);\n",
              "      border-right-color: var(--fill-color);\n",
              "    }\n",
              "    40% {\n",
              "      border-color: transparent;\n",
              "      border-right-color: var(--fill-color);\n",
              "      border-top-color: var(--fill-color);\n",
              "    }\n",
              "    60% {\n",
              "      border-color: transparent;\n",
              "      border-right-color: var(--fill-color);\n",
              "    }\n",
              "    80% {\n",
              "      border-color: transparent;\n",
              "      border-right-color: var(--fill-color);\n",
              "      border-bottom-color: var(--fill-color);\n",
              "    }\n",
              "    90% {\n",
              "      border-color: transparent;\n",
              "      border-bottom-color: var(--fill-color);\n",
              "    }\n",
              "  }\n",
              "</style>\n",
              "\n",
              "  <script>\n",
              "    async function quickchart(key) {\n",
              "      const quickchartButtonEl =\n",
              "        document.querySelector('#' + key + ' button');\n",
              "      quickchartButtonEl.disabled = true;  // To prevent multiple clicks.\n",
              "      quickchartButtonEl.classList.add('colab-df-spinner');\n",
              "      try {\n",
              "        const charts = await google.colab.kernel.invokeFunction(\n",
              "            'suggestCharts', [key], {});\n",
              "      } catch (error) {\n",
              "        console.error('Error during call to suggestCharts:', error);\n",
              "      }\n",
              "      quickchartButtonEl.classList.remove('colab-df-spinner');\n",
              "      quickchartButtonEl.classList.add('colab-df-quickchart-complete');\n",
              "    }\n",
              "    (() => {\n",
              "      let quickchartButtonEl =\n",
              "        document.querySelector('#df-62dea5a8-abea-4467-8751-d58092937c4e button');\n",
              "      quickchartButtonEl.style.display =\n",
              "        google.colab.kernel.accessAllowed ? 'block' : 'none';\n",
              "    })();\n",
              "  </script>\n",
              "</div>\n",
              "\n",
              "    </div>\n",
              "  </div>\n"
            ],
            "application/vnd.google.colaboratory.intrinsic+json": {
              "type": "dataframe",
              "variable_name": "data"
            }
          },
          "metadata": {},
          "execution_count": 32
        }
      ]
    },
    {
      "cell_type": "code",
      "source": [
        "!pip install spotipy"
      ],
      "metadata": {
        "colab": {
          "base_uri": "https://localhost:8080/"
        },
        "id": "B2Cnm7GZ2-5_",
        "outputId": "d09cc849-884e-4c1d-c012-2d7fae5b5d95"
      },
      "execution_count": 33,
      "outputs": [
        {
          "output_type": "stream",
          "name": "stdout",
          "text": [
            "Collecting spotipy\n",
            "  Downloading spotipy-2.23.0-py3-none-any.whl (29 kB)\n",
            "Collecting redis>=3.5.3 (from spotipy)\n",
            "  Downloading redis-5.0.3-py3-none-any.whl (251 kB)\n",
            "\u001b[2K     \u001b[90m━━━━━━━━━━━━━━━━━━━━━━━━━━━━━━━━━━━━━━━━\u001b[0m \u001b[32m251.8/251.8 kB\u001b[0m \u001b[31m6.4 MB/s\u001b[0m eta \u001b[36m0:00:00\u001b[0m\n",
            "\u001b[?25hRequirement already satisfied: requests>=2.25.0 in /usr/local/lib/python3.10/dist-packages (from spotipy) (2.31.0)\n",
            "Requirement already satisfied: six>=1.15.0 in /usr/local/lib/python3.10/dist-packages (from spotipy) (1.16.0)\n",
            "Requirement already satisfied: urllib3>=1.26.0 in /usr/local/lib/python3.10/dist-packages (from spotipy) (2.0.7)\n",
            "Requirement already satisfied: async-timeout>=4.0.3 in /usr/local/lib/python3.10/dist-packages (from redis>=3.5.3->spotipy) (4.0.3)\n",
            "Requirement already satisfied: charset-normalizer<4,>=2 in /usr/local/lib/python3.10/dist-packages (from requests>=2.25.0->spotipy) (3.3.2)\n",
            "Requirement already satisfied: idna<4,>=2.5 in /usr/local/lib/python3.10/dist-packages (from requests>=2.25.0->spotipy) (3.6)\n",
            "Requirement already satisfied: certifi>=2017.4.17 in /usr/local/lib/python3.10/dist-packages (from requests>=2.25.0->spotipy) (2024.2.2)\n",
            "Installing collected packages: redis, spotipy\n",
            "Successfully installed redis-5.0.3 spotipy-2.23.0\n"
          ]
        }
      ]
    },
    {
      "cell_type": "code",
      "source": [
        "import os\n",
        "\n",
        "# Set up Spotify API credentials\n",
        "os.environ[\"SPOTIFY_CLIENT_ID\"] = \"your_client_id\"\n",
        "os.environ[\"SPOTIFY_CLIENT_SECRET\"] = \"your_client_secret\"\n",
        "\n",
        "# Now initialize Spotify client\n",
        "sp = spotipy.Spotify(auth_manager=SpotifyClientCredentials(client_id=os.environ[\"SPOTIFY_CLIENT_ID\"],\n",
        "                                                           client_secret=os.environ[\"SPOTIFY_CLIENT_SECRET\"]))"
      ],
      "metadata": {
        "id": "lsMqqyIf3lMd"
      },
      "execution_count": 35,
      "outputs": []
    },
    {
      "cell_type": "code",
      "source": [
        "import os\n",
        "\n",
        "# Set up Spotify API credentials\n",
        "os.environ[\"SPOTIFY_CLIENT_ID\"] = \"your_client_id\"\n",
        "os.environ[\"SPOTIFY_CLIENT_SECRET\"] = \"your_client_secret\""
      ],
      "metadata": {
        "id": "2OgEQlSo3nKT"
      },
      "execution_count": 37,
      "outputs": []
    },
    {
      "cell_type": "code",
      "source": [
        "%env SPOTIFY_CLIENT_ID=your_client_id\n",
        "%env SPOTIFY_CLIENT_SECRET=your_client_secret"
      ],
      "metadata": {
        "colab": {
          "base_uri": "https://localhost:8080/"
        },
        "id": "Lpnsjlj336BL",
        "outputId": "44425602-5205-40f4-9367-45ab96a873da"
      },
      "execution_count": 39,
      "outputs": [
        {
          "output_type": "stream",
          "name": "stdout",
          "text": [
            "env: SPOTIFY_CLIENT_ID=your_client_id\n",
            "env: SPOTIFY_CLIENT_SECRET=your_client_secret\n"
          ]
        }
      ]
    },
    {
      "cell_type": "code",
      "source": [
        "import spotipy\n",
        "from spotipy.oauth2 import SpotifyClientCredentials\n",
        "from collections import defaultdict\n",
        "\n",
        "sp = spotipy.Spotify(auth_manager=SpotifyClientCredentials(client_id=os.environ[\"SPOTIFY_CLIENT_ID\"],\n",
        "                                                           client_secret=os.environ[\"SPOTIFY_CLIENT_SECRET\"]))\n",
        "\n",
        "def find_song(name, year):\n",
        "    song_data = defaultdict()\n",
        "    results = sp.search(q= 'track: {} year: {}'.format(name,year), limit=1)\n",
        "    if results['tracks']['items'] == []:\n",
        "        return None\n",
        "\n",
        "    results = results['tracks']['items'][0]\n",
        "    track_id = results['id']\n",
        "    audio_features = sp.audio_features(track_id)[0]\n",
        "\n",
        "    song_data['name'] = [name]\n",
        "    song_data['year'] = [year]\n",
        "    song_data['explicit'] = [int(results['explicit'])]\n",
        "    song_data['duration_ms'] = [results['duration_ms']]\n",
        "    song_data['popularity'] = [results['popularity']]\n",
        "\n",
        "    for key, value in audio_features.items():\n",
        "        song_data[key] = value\n",
        "\n",
        "    return pd.DataFrame(song_data)"
      ],
      "metadata": {
        "id": "WmmfK1k64UHj"
      },
      "execution_count": 40,
      "outputs": []
    },
    {
      "cell_type": "code",
      "source": [
        "from collections import defaultdict\n",
        "from sklearn.metrics import euclidean_distances\n",
        "from scipy.spatial.distance import cdist\n",
        "import difflib\n",
        "\n",
        "number_cols = ['valence', 'year', 'acousticness', 'danceability', 'duration_ms', 'energy', 'explicit',\n",
        " 'instrumentalness', 'key', 'liveness', 'loudness', 'mode', 'popularity', 'speechiness', 'tempo']\n",
        "\n",
        "\n",
        "def get_song_data(song, spotify_data):\n",
        "\n",
        "    try:\n",
        "        song_data = spotify_data[(spotify_data['name'] == song['name'])\n",
        "                                & (spotify_data['year'] == song['year'])].iloc[0]\n",
        "        return song_data\n",
        "\n",
        "    except IndexError:\n",
        "        return find_song(song['name'], song['year'])\n",
        "\n",
        "\n",
        "def get_mean_vector(song_list, spotify_data):\n",
        "\n",
        "    song_vectors = []\n",
        "\n",
        "    for song in song_list:\n",
        "        song_data = get_song_data(song, spotify_data)\n",
        "        if song_data is None:\n",
        "            print('Warning: {} does not exist in Spotify or in database'.format(song['name']))\n",
        "            continue\n",
        "        song_vector = song_data[number_cols].values\n",
        "        song_vectors.append(song_vector)\n",
        "\n",
        "    song_matrix = np.array(list(song_vectors))\n",
        "    return np.mean(song_matrix, axis=0)\n",
        "\n",
        "\n",
        "def flatten_dict_list(dict_list):\n",
        "\n",
        "    flattened_dict = defaultdict()\n",
        "    for key in dict_list[0].keys():\n",
        "        flattened_dict[key] = []\n",
        "\n",
        "    for dictionary in dict_list:\n",
        "        for key, value in dictionary.items():\n",
        "            flattened_dict[key].append(value)\n",
        "\n",
        "    return flattened_dict\n",
        "\n",
        "\n",
        "def recommend_songs( song_list, spotify_data, n_songs=10):\n",
        "\n",
        "    metadata_cols = ['name', 'year', 'artists']\n",
        "    song_dict = flatten_dict_list(song_list)\n",
        "\n",
        "    song_center = get_mean_vector(song_list, spotify_data)\n",
        "    scaler = song_cluster_pipeline.steps[0][1]\n",
        "    scaled_data = scaler.transform(spotify_data[number_cols])\n",
        "    scaled_song_center = scaler.transform(song_center.reshape(1, -1))\n",
        "    distances = cdist(scaled_song_center, scaled_data, 'cosine')\n",
        "    index = list(np.argsort(distances)[:, :n_songs][0])\n",
        "\n",
        "    rec_songs = spotify_data.iloc[index]\n",
        "    rec_songs = rec_songs[~rec_songs['name'].isin(song_dict['name'])]\n",
        "    return rec_songs[metadata_cols].to_dict(orient='records')"
      ],
      "metadata": {
        "id": "TvAh6r7Q4gkT"
      },
      "execution_count": 41,
      "outputs": []
    },
    {
      "source": [
        "!pip install spotipy"
      ],
      "cell_type": "code",
      "metadata": {
        "colab": {
          "base_uri": "https://localhost:8080/"
        },
        "id": "skkYIJsg5kbU",
        "outputId": "96184be3-4015-4d41-9986-3a66d719ecb9"
      },
      "execution_count": 43,
      "outputs": [
        {
          "output_type": "stream",
          "name": "stdout",
          "text": [
            "Requirement already satisfied: spotipy in /usr/local/lib/python3.10/dist-packages (2.23.0)\n",
            "Requirement already satisfied: redis>=3.5.3 in /usr/local/lib/python3.10/dist-packages (from spotipy) (5.0.3)\n",
            "Requirement already satisfied: requests>=2.25.0 in /usr/local/lib/python3.10/dist-packages (from spotipy) (2.31.0)\n",
            "Requirement already satisfied: six>=1.15.0 in /usr/local/lib/python3.10/dist-packages (from spotipy) (1.16.0)\n",
            "Requirement already satisfied: urllib3>=1.26.0 in /usr/local/lib/python3.10/dist-packages (from spotipy) (2.0.7)\n",
            "Requirement already satisfied: async-timeout>=4.0.3 in /usr/local/lib/python3.10/dist-packages (from redis>=3.5.3->spotipy) (4.0.3)\n",
            "Requirement already satisfied: charset-normalizer<4,>=2 in /usr/local/lib/python3.10/dist-packages (from requests>=2.25.0->spotipy) (3.3.2)\n",
            "Requirement already satisfied: idna<4,>=2.5 in /usr/local/lib/python3.10/dist-packages (from requests>=2.25.0->spotipy) (3.6)\n",
            "Requirement already satisfied: certifi>=2017.4.17 in /usr/local/lib/python3.10/dist-packages (from requests>=2.25.0->spotipy) (2024.2.2)\n"
          ]
        }
      ]
    },
    {
      "source": [
        "import pandas as pd\n",
        "import spotipy\n",
        "from spotipy.oauth2 import SpotifyClientCredentials"
      ],
      "cell_type": "code",
      "metadata": {
        "id": "fAr9bzMu5lDI"
      },
      "execution_count": 44,
      "outputs": []
    },
    {
      "source": [
        "client_id = 'YOUR_CLIENT_ID'\n",
        "client_secret = 'YOUR_CLIENT_SECRET'\n",
        "\n",
        "client_credentials_manager = SpotifyClientCredentials(client_id, client_secret)\n",
        "sp = spotipy.Spotify(client_credentials_manager=client_credentials_manager)"
      ],
      "cell_type": "code",
      "metadata": {
        "id": "oqWrLIQh5lfz"
      },
      "execution_count": 45,
      "outputs": []
    },
    {
      "source": [
        "def get_song_data(song, spotify_data):\n",
        "    try:\n",
        "        song_data = spotify_data[(spotify_data['name'] == song['name']) & (spotify_data['year'] == song['year'])].iloc[0]\n",
        "        return song_data\n",
        "    except IndexError:\n",
        "        return None"
      ],
      "cell_type": "code",
      "metadata": {
        "id": "y2WWrrLP5l-F"
      },
      "execution_count": 46,
      "outputs": []
    },
    {
      "source": [
        "def find_song(name, year):\n",
        "    results = sp.search(q='track: {} year: {}'.format(name, year), limit=1)\n",
        "    if results['tracks']['items'] == []:\n",
        "        return None\n",
        "    else:\n",
        "        track = results['tracks']['items'][0]\n",
        "        song_data = {\n",
        "            'name': track['name'],\n",
        "            'year': track['album']['release_date'][:4],\n",
        "            'id': track['id']\n",
        "        }\n",
        "        return song_data"
      ],
      "cell_type": "code",
      "metadata": {
        "id": "mzrZj4rG5maV"
      },
      "execution_count": 47,
      "outputs": []
    },
    {
      "source": [
        "recommend_songs([{'name': 'Come As You Are', 'year':1991},\n",
        "                {'name': 'Smells Like Teen Spirit', 'year': 1991},\n",
        "                {'name': 'Lithium', 'year': 1992},\n",
        "                {'name': 'All Apologies', 'year': 1993},\n",
        "                {'name': 'Stay Away', 'year': 1993}],  data)"
      ],
      "cell_type": "code",
      "metadata": {
        "colab": {
          "base_uri": "https://localhost:8080/"
        },
        "id": "dHgGpop95nLE",
        "outputId": "0dfb9e05-da27-43b1-b373-2b9adcb0905a"
      },
      "execution_count": 48,
      "outputs": [
        {
          "output_type": "stream",
          "name": "stdout",
          "text": [
            "Warning: Lithium does not exist in Spotify or in database\n",
            "Warning: Stay Away does not exist in Spotify or in database\n"
          ]
        },
        {
          "output_type": "execute_result",
          "data": {
            "text/plain": [
              "[{'name': '恋愛サーキュレーション', 'year': 2018.0, 'artists': \"['物語シリーズ']\"},\n",
              " {'name': 'Rise Up', 'year': 2015.0, 'artists': \"['Andra Day']\"},\n",
              " {'name': 'Show Me Love', 'year': 1993.0, 'artists': \"['Robin S']\"},\n",
              " {'name': 'Bad Boy for Life',\n",
              "  'year': 2001.0,\n",
              "  'artists': \"['Diddy', 'Black Rob', 'Mark Curry']\"},\n",
              " {'name': 'Ice Ice Baby', 'year': 2008.0, 'artists': \"['Vanilla Ice']\"},\n",
              " {'name': 'Lay Me Down', 'year': 2014.0, 'artists': \"['Sam Smith']\"},\n",
              " {'name': 'Parachute', 'year': 2015.0, 'artists': \"['Chris Stapleton']\"},\n",
              " {'name': 'Young Hearts Run Free',\n",
              "  'year': 1976.0,\n",
              "  'artists': \"['Candi Staton']\"},\n",
              " {'name': 'Hungry Eyes - From \"Dirty Dancing\" Soundtrack',\n",
              "  'year': 1997.0,\n",
              "  'artists': \"['Eric Carmen']\"},\n",
              " {'name': 'Rayando El Sol', 'year': 1990.0, 'artists': \"['Maná']\"}]"
            ]
          },
          "metadata": {},
          "execution_count": 48
        }
      ]
    },
    {
      "cell_type": "code",
      "source": [
        "[{'name': 'Life is a Highway - From \"Cars\"',\n",
        "  'year': 2009,\n",
        "  'artists': \"['Rascal Flatts']\"},\n",
        " {'name': 'Of Wolf And Man', 'year': 1991, 'artists': \"['Metallica']\"},\n",
        " {'name': 'Somebody Like You', 'year': 2002, 'artists': \"['Keith Urban']\"},\n",
        " {'name': 'Kayleigh', 'year': 1992, 'artists': \"['Marillion']\"},\n",
        " {'name': 'Little Secrets', 'year': 2009, 'artists': \"['Passion Pit']\"},\n",
        " {'name': 'No Excuses', 'year': 1994, 'artists': \"['Alice In Chains']\"},\n",
        " {'name': 'Corazón Mágico', 'year': 1995, 'artists': \"['Los Fugitivos']\"},\n",
        " {'name': 'If Today Was Your Last Day',\n",
        "  'year': 2008,\n",
        "  'artists': \"['Nickelback']\"},\n",
        " {'name': \"Let's Get Rocked\", 'year': 1992, 'artists': \"['Def Leppard']\"},\n",
        " {'name': \"Breakfast At Tiffany's\",\n",
        "  'year': 1995,\n",
        "  'artists': \"['Deep Blue Something']\"}]"
      ],
      "metadata": {
        "colab": {
          "base_uri": "https://localhost:8080/"
        },
        "id": "X044ROIP5uxk",
        "outputId": "4740867e-2da1-418c-d840-9ad347f40ff6"
      },
      "execution_count": 49,
      "outputs": [
        {
          "output_type": "execute_result",
          "data": {
            "text/plain": [
              "[{'name': 'Life is a Highway - From \"Cars\"',\n",
              "  'year': 2009,\n",
              "  'artists': \"['Rascal Flatts']\"},\n",
              " {'name': 'Of Wolf And Man', 'year': 1991, 'artists': \"['Metallica']\"},\n",
              " {'name': 'Somebody Like You', 'year': 2002, 'artists': \"['Keith Urban']\"},\n",
              " {'name': 'Kayleigh', 'year': 1992, 'artists': \"['Marillion']\"},\n",
              " {'name': 'Little Secrets', 'year': 2009, 'artists': \"['Passion Pit']\"},\n",
              " {'name': 'No Excuses', 'year': 1994, 'artists': \"['Alice In Chains']\"},\n",
              " {'name': 'Corazón Mágico', 'year': 1995, 'artists': \"['Los Fugitivos']\"},\n",
              " {'name': 'If Today Was Your Last Day',\n",
              "  'year': 2008,\n",
              "  'artists': \"['Nickelback']\"},\n",
              " {'name': \"Let's Get Rocked\", 'year': 1992, 'artists': \"['Def Leppard']\"},\n",
              " {'name': \"Breakfast At Tiffany's\",\n",
              "  'year': 1995,\n",
              "  'artists': \"['Deep Blue Something']\"}]"
            ]
          },
          "metadata": {},
          "execution_count": 49
        }
      ]
    }
  ]
}